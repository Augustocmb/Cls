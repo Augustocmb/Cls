{
  "nbformat": 4,
  "nbformat_minor": 0,
  "metadata": {
    "colab": {
      "provenance": [],
      "authorship_tag": "ABX9TyMRMSK1WvaIl3u6cct3/kiM",
      "include_colab_link": true
    },
    "kernelspec": {
      "name": "python3",
      "display_name": "Python 3"
    },
    "language_info": {
      "name": "python"
    }
  },
  "cells": [
    {
      "cell_type": "markdown",
      "metadata": {
        "id": "view-in-github",
        "colab_type": "text"
      },
      "source": [
        "<a href=\"https://colab.research.google.com/github/Augustocmb/Cls/blob/main/Untitled20.ipynb\" target=\"_parent\"><img src=\"https://colab.research.google.com/assets/colab-badge.svg\" alt=\"Open In Colab\"/></a>"
      ]
    },
    {
      "cell_type": "code",
      "execution_count": 10,
      "metadata": {
        "colab": {
          "base_uri": "https://localhost:8080/"
        },
        "id": "5AO7Fj3jKTzl",
        "outputId": "a3d52bfd-4e7e-4af4-93a2-03567737198d"
      },
      "outputs": [
        {
          "output_type": "stream",
          "name": "stdout",
          "text": [
            "Requirement already satisfied: cobaya in /usr/local/lib/python3.10/dist-packages (3.5.4)\n",
            "Requirement already satisfied: numpy>=1.17.0 in /usr/local/lib/python3.10/dist-packages (from cobaya) (1.26.4)\n",
            "Requirement already satisfied: scipy>=1.5 in /usr/local/lib/python3.10/dist-packages (from cobaya) (1.13.1)\n",
            "Requirement already satisfied: pandas>=1.0.1 in /usr/local/lib/python3.10/dist-packages (from cobaya) (2.1.4)\n",
            "Requirement already satisfied: PyYAML>=5.1 in /usr/local/lib/python3.10/dist-packages (from cobaya) (6.0.2)\n",
            "Requirement already satisfied: requests>=2.18 in /usr/local/lib/python3.10/dist-packages (from cobaya) (2.32.3)\n",
            "Requirement already satisfied: py-bobyqa>=1.4 in /usr/local/lib/python3.10/dist-packages (from cobaya) (1.4.1)\n",
            "Requirement already satisfied: GetDist>=1.3.1 in /usr/local/lib/python3.10/dist-packages (from cobaya) (1.5.2)\n",
            "Requirement already satisfied: fuzzywuzzy>=0.17 in /usr/local/lib/python3.10/dist-packages (from cobaya) (0.18.0)\n",
            "Requirement already satisfied: packaging in /usr/local/lib/python3.10/dist-packages (from cobaya) (24.1)\n",
            "Requirement already satisfied: tqdm in /usr/local/lib/python3.10/dist-packages (from cobaya) (4.66.5)\n",
            "Requirement already satisfied: portalocker>=2.3.0 in /usr/local/lib/python3.10/dist-packages (from cobaya) (2.10.1)\n",
            "Requirement already satisfied: dill>=0.3.3 in /usr/local/lib/python3.10/dist-packages (from cobaya) (0.3.8)\n",
            "Requirement already satisfied: matplotlib!=3.5.0,>=2.2.0 in /usr/local/lib/python3.10/dist-packages (from GetDist>=1.3.1->cobaya) (3.7.1)\n",
            "Requirement already satisfied: python-dateutil>=2.8.2 in /usr/local/lib/python3.10/dist-packages (from pandas>=1.0.1->cobaya) (2.8.2)\n",
            "Requirement already satisfied: pytz>=2020.1 in /usr/local/lib/python3.10/dist-packages (from pandas>=1.0.1->cobaya) (2024.1)\n",
            "Requirement already satisfied: tzdata>=2022.1 in /usr/local/lib/python3.10/dist-packages (from pandas>=1.0.1->cobaya) (2024.1)\n",
            "Requirement already satisfied: setuptools in /usr/local/lib/python3.10/dist-packages (from py-bobyqa>=1.4->cobaya) (71.0.4)\n",
            "Requirement already satisfied: charset-normalizer<4,>=2 in /usr/local/lib/python3.10/dist-packages (from requests>=2.18->cobaya) (3.3.2)\n",
            "Requirement already satisfied: idna<4,>=2.5 in /usr/local/lib/python3.10/dist-packages (from requests>=2.18->cobaya) (3.7)\n",
            "Requirement already satisfied: urllib3<3,>=1.21.1 in /usr/local/lib/python3.10/dist-packages (from requests>=2.18->cobaya) (2.0.7)\n",
            "Requirement already satisfied: certifi>=2017.4.17 in /usr/local/lib/python3.10/dist-packages (from requests>=2.18->cobaya) (2024.7.4)\n",
            "Requirement already satisfied: contourpy>=1.0.1 in /usr/local/lib/python3.10/dist-packages (from matplotlib!=3.5.0,>=2.2.0->GetDist>=1.3.1->cobaya) (1.2.1)\n",
            "Requirement already satisfied: cycler>=0.10 in /usr/local/lib/python3.10/dist-packages (from matplotlib!=3.5.0,>=2.2.0->GetDist>=1.3.1->cobaya) (0.12.1)\n",
            "Requirement already satisfied: fonttools>=4.22.0 in /usr/local/lib/python3.10/dist-packages (from matplotlib!=3.5.0,>=2.2.0->GetDist>=1.3.1->cobaya) (4.53.1)\n",
            "Requirement already satisfied: kiwisolver>=1.0.1 in /usr/local/lib/python3.10/dist-packages (from matplotlib!=3.5.0,>=2.2.0->GetDist>=1.3.1->cobaya) (1.4.5)\n",
            "Requirement already satisfied: pillow>=6.2.0 in /usr/local/lib/python3.10/dist-packages (from matplotlib!=3.5.0,>=2.2.0->GetDist>=1.3.1->cobaya) (9.4.0)\n",
            "Requirement already satisfied: pyparsing>=2.3.1 in /usr/local/lib/python3.10/dist-packages (from matplotlib!=3.5.0,>=2.2.0->GetDist>=1.3.1->cobaya) (3.1.2)\n",
            "Requirement already satisfied: six>=1.5 in /usr/local/lib/python3.10/dist-packages (from python-dateutil>=2.8.2->pandas>=1.0.1->cobaya) (1.16.0)\n",
            "Requirement already satisfied: getdist in /usr/local/lib/python3.10/dist-packages (1.5.2)\n",
            "Requirement already satisfied: numpy>=1.23.0 in /usr/local/lib/python3.10/dist-packages (from getdist) (1.26.4)\n",
            "Requirement already satisfied: matplotlib!=3.5.0,>=2.2.0 in /usr/local/lib/python3.10/dist-packages (from getdist) (3.7.1)\n",
            "Requirement already satisfied: scipy>=1.5 in /usr/local/lib/python3.10/dist-packages (from getdist) (1.13.1)\n",
            "Requirement already satisfied: PyYAML>=5.1 in /usr/local/lib/python3.10/dist-packages (from getdist) (6.0.2)\n",
            "Requirement already satisfied: packaging in /usr/local/lib/python3.10/dist-packages (from getdist) (24.1)\n",
            "Requirement already satisfied: contourpy>=1.0.1 in /usr/local/lib/python3.10/dist-packages (from matplotlib!=3.5.0,>=2.2.0->getdist) (1.2.1)\n",
            "Requirement already satisfied: cycler>=0.10 in /usr/local/lib/python3.10/dist-packages (from matplotlib!=3.5.0,>=2.2.0->getdist) (0.12.1)\n",
            "Requirement already satisfied: fonttools>=4.22.0 in /usr/local/lib/python3.10/dist-packages (from matplotlib!=3.5.0,>=2.2.0->getdist) (4.53.1)\n",
            "Requirement already satisfied: kiwisolver>=1.0.1 in /usr/local/lib/python3.10/dist-packages (from matplotlib!=3.5.0,>=2.2.0->getdist) (1.4.5)\n",
            "Requirement already satisfied: pillow>=6.2.0 in /usr/local/lib/python3.10/dist-packages (from matplotlib!=3.5.0,>=2.2.0->getdist) (9.4.0)\n",
            "Requirement already satisfied: pyparsing>=2.3.1 in /usr/local/lib/python3.10/dist-packages (from matplotlib!=3.5.0,>=2.2.0->getdist) (3.1.2)\n",
            "Requirement already satisfied: python-dateutil>=2.7 in /usr/local/lib/python3.10/dist-packages (from matplotlib!=3.5.0,>=2.2.0->getdist) (2.8.2)\n",
            "Requirement already satisfied: six>=1.5 in /usr/local/lib/python3.10/dist-packages (from python-dateutil>=2.7->matplotlib!=3.5.0,>=2.2.0->getdist) (1.16.0)\n",
            "Requirement already satisfied: corner in /usr/local/lib/python3.10/dist-packages (2.2.2)\n",
            "Requirement already satisfied: matplotlib>=2.1 in /usr/local/lib/python3.10/dist-packages (from corner) (3.7.1)\n",
            "Requirement already satisfied: contourpy>=1.0.1 in /usr/local/lib/python3.10/dist-packages (from matplotlib>=2.1->corner) (1.2.1)\n",
            "Requirement already satisfied: cycler>=0.10 in /usr/local/lib/python3.10/dist-packages (from matplotlib>=2.1->corner) (0.12.1)\n",
            "Requirement already satisfied: fonttools>=4.22.0 in /usr/local/lib/python3.10/dist-packages (from matplotlib>=2.1->corner) (4.53.1)\n",
            "Requirement already satisfied: kiwisolver>=1.0.1 in /usr/local/lib/python3.10/dist-packages (from matplotlib>=2.1->corner) (1.4.5)\n",
            "Requirement already satisfied: numpy>=1.20 in /usr/local/lib/python3.10/dist-packages (from matplotlib>=2.1->corner) (1.26.4)\n",
            "Requirement already satisfied: packaging>=20.0 in /usr/local/lib/python3.10/dist-packages (from matplotlib>=2.1->corner) (24.1)\n",
            "Requirement already satisfied: pillow>=6.2.0 in /usr/local/lib/python3.10/dist-packages (from matplotlib>=2.1->corner) (9.4.0)\n",
            "Requirement already satisfied: pyparsing>=2.3.1 in /usr/local/lib/python3.10/dist-packages (from matplotlib>=2.1->corner) (3.1.2)\n",
            "Requirement already satisfied: python-dateutil>=2.7 in /usr/local/lib/python3.10/dist-packages (from matplotlib>=2.1->corner) (2.8.2)\n",
            "Requirement already satisfied: six>=1.5 in /usr/local/lib/python3.10/dist-packages (from python-dateutil>=2.7->matplotlib>=2.1->corner) (1.16.0)\n",
            "Requirement already satisfied: notebook in /usr/local/lib/python3.10/dist-packages (6.5.5)\n",
            "Requirement already satisfied: jinja2 in /usr/local/lib/python3.10/dist-packages (from notebook) (3.1.4)\n",
            "Requirement already satisfied: tornado>=6.1 in /usr/local/lib/python3.10/dist-packages (from notebook) (6.3.3)\n",
            "Requirement already satisfied: pyzmq<25,>=17 in /usr/local/lib/python3.10/dist-packages (from notebook) (24.0.1)\n",
            "Requirement already satisfied: argon2-cffi in /usr/local/lib/python3.10/dist-packages (from notebook) (23.1.0)\n",
            "Requirement already satisfied: traitlets>=4.2.1 in /usr/local/lib/python3.10/dist-packages (from notebook) (5.7.1)\n",
            "Requirement already satisfied: jupyter-core>=4.6.1 in /usr/local/lib/python3.10/dist-packages (from notebook) (5.7.2)\n",
            "Requirement already satisfied: jupyter-client<8,>=5.3.4 in /usr/local/lib/python3.10/dist-packages (from notebook) (6.1.12)\n",
            "Requirement already satisfied: ipython-genutils in /usr/local/lib/python3.10/dist-packages (from notebook) (0.2.0)\n",
            "Requirement already satisfied: nbformat in /usr/local/lib/python3.10/dist-packages (from notebook) (5.10.4)\n",
            "Requirement already satisfied: nbconvert>=5 in /usr/local/lib/python3.10/dist-packages (from notebook) (6.5.4)\n",
            "Requirement already satisfied: nest-asyncio>=1.5 in /usr/local/lib/python3.10/dist-packages (from notebook) (1.6.0)\n",
            "Requirement already satisfied: ipykernel in /usr/local/lib/python3.10/dist-packages (from notebook) (5.5.6)\n",
            "Requirement already satisfied: Send2Trash>=1.8.0 in /usr/local/lib/python3.10/dist-packages (from notebook) (1.8.3)\n",
            "Requirement already satisfied: terminado>=0.8.3 in /usr/local/lib/python3.10/dist-packages (from notebook) (0.18.1)\n",
            "Requirement already satisfied: prometheus-client in /usr/local/lib/python3.10/dist-packages (from notebook) (0.20.0)\n",
            "Requirement already satisfied: nbclassic>=0.4.7 in /usr/local/lib/python3.10/dist-packages (from notebook) (1.1.0)\n",
            "Requirement already satisfied: python-dateutil>=2.1 in /usr/local/lib/python3.10/dist-packages (from jupyter-client<8,>=5.3.4->notebook) (2.8.2)\n",
            "Requirement already satisfied: platformdirs>=2.5 in /usr/local/lib/python3.10/dist-packages (from jupyter-core>=4.6.1->notebook) (4.2.2)\n",
            "Requirement already satisfied: notebook-shim>=0.2.3 in /usr/local/lib/python3.10/dist-packages (from nbclassic>=0.4.7->notebook) (0.2.4)\n",
            "Requirement already satisfied: lxml in /usr/local/lib/python3.10/dist-packages (from nbconvert>=5->notebook) (4.9.4)\n",
            "Requirement already satisfied: beautifulsoup4 in /usr/local/lib/python3.10/dist-packages (from nbconvert>=5->notebook) (4.12.3)\n",
            "Requirement already satisfied: bleach in /usr/local/lib/python3.10/dist-packages (from nbconvert>=5->notebook) (6.1.0)\n",
            "Requirement already satisfied: defusedxml in /usr/local/lib/python3.10/dist-packages (from nbconvert>=5->notebook) (0.7.1)\n",
            "Requirement already satisfied: entrypoints>=0.2.2 in /usr/local/lib/python3.10/dist-packages (from nbconvert>=5->notebook) (0.4)\n",
            "Requirement already satisfied: jupyterlab-pygments in /usr/local/lib/python3.10/dist-packages (from nbconvert>=5->notebook) (0.3.0)\n",
            "Requirement already satisfied: MarkupSafe>=2.0 in /usr/local/lib/python3.10/dist-packages (from nbconvert>=5->notebook) (2.1.5)\n",
            "Requirement already satisfied: mistune<2,>=0.8.1 in /usr/local/lib/python3.10/dist-packages (from nbconvert>=5->notebook) (0.8.4)\n",
            "Requirement already satisfied: nbclient>=0.5.0 in /usr/local/lib/python3.10/dist-packages (from nbconvert>=5->notebook) (0.10.0)\n",
            "Requirement already satisfied: packaging in /usr/local/lib/python3.10/dist-packages (from nbconvert>=5->notebook) (24.1)\n",
            "Requirement already satisfied: pandocfilters>=1.4.1 in /usr/local/lib/python3.10/dist-packages (from nbconvert>=5->notebook) (1.5.1)\n",
            "Requirement already satisfied: pygments>=2.4.1 in /usr/local/lib/python3.10/dist-packages (from nbconvert>=5->notebook) (2.16.1)\n",
            "Requirement already satisfied: tinycss2 in /usr/local/lib/python3.10/dist-packages (from nbconvert>=5->notebook) (1.3.0)\n",
            "Requirement already satisfied: fastjsonschema>=2.15 in /usr/local/lib/python3.10/dist-packages (from nbformat->notebook) (2.20.0)\n",
            "Requirement already satisfied: jsonschema>=2.6 in /usr/local/lib/python3.10/dist-packages (from nbformat->notebook) (4.23.0)\n",
            "Requirement already satisfied: ptyprocess in /usr/local/lib/python3.10/dist-packages (from terminado>=0.8.3->notebook) (0.7.0)\n",
            "Requirement already satisfied: argon2-cffi-bindings in /usr/local/lib/python3.10/dist-packages (from argon2-cffi->notebook) (21.2.0)\n",
            "Requirement already satisfied: ipython>=5.0.0 in /usr/local/lib/python3.10/dist-packages (from ipykernel->notebook) (7.34.0)\n",
            "Requirement already satisfied: setuptools>=18.5 in /usr/local/lib/python3.10/dist-packages (from ipython>=5.0.0->ipykernel->notebook) (71.0.4)\n",
            "Requirement already satisfied: jedi>=0.16 in /usr/local/lib/python3.10/dist-packages (from ipython>=5.0.0->ipykernel->notebook) (0.19.1)\n",
            "Requirement already satisfied: decorator in /usr/local/lib/python3.10/dist-packages (from ipython>=5.0.0->ipykernel->notebook) (4.4.2)\n",
            "Requirement already satisfied: pickleshare in /usr/local/lib/python3.10/dist-packages (from ipython>=5.0.0->ipykernel->notebook) (0.7.5)\n",
            "Requirement already satisfied: prompt-toolkit!=3.0.0,!=3.0.1,<3.1.0,>=2.0.0 in /usr/local/lib/python3.10/dist-packages (from ipython>=5.0.0->ipykernel->notebook) (3.0.47)\n",
            "Requirement already satisfied: backcall in /usr/local/lib/python3.10/dist-packages (from ipython>=5.0.0->ipykernel->notebook) (0.2.0)\n",
            "Requirement already satisfied: matplotlib-inline in /usr/local/lib/python3.10/dist-packages (from ipython>=5.0.0->ipykernel->notebook) (0.1.7)\n",
            "Requirement already satisfied: pexpect>4.3 in /usr/local/lib/python3.10/dist-packages (from ipython>=5.0.0->ipykernel->notebook) (4.9.0)\n",
            "Requirement already satisfied: attrs>=22.2.0 in /usr/local/lib/python3.10/dist-packages (from jsonschema>=2.6->nbformat->notebook) (24.2.0)\n",
            "Requirement already satisfied: jsonschema-specifications>=2023.03.6 in /usr/local/lib/python3.10/dist-packages (from jsonschema>=2.6->nbformat->notebook) (2023.12.1)\n",
            "Requirement already satisfied: referencing>=0.28.4 in /usr/local/lib/python3.10/dist-packages (from jsonschema>=2.6->nbformat->notebook) (0.35.1)\n",
            "Requirement already satisfied: rpds-py>=0.7.1 in /usr/local/lib/python3.10/dist-packages (from jsonschema>=2.6->nbformat->notebook) (0.20.0)\n",
            "Requirement already satisfied: jupyter-server<3,>=1.8 in /usr/local/lib/python3.10/dist-packages (from notebook-shim>=0.2.3->nbclassic>=0.4.7->notebook) (1.24.0)\n",
            "Requirement already satisfied: six>=1.5 in /usr/local/lib/python3.10/dist-packages (from python-dateutil>=2.1->jupyter-client<8,>=5.3.4->notebook) (1.16.0)\n",
            "Requirement already satisfied: cffi>=1.0.1 in /usr/local/lib/python3.10/dist-packages (from argon2-cffi-bindings->argon2-cffi->notebook) (1.17.0)\n",
            "Requirement already satisfied: soupsieve>1.2 in /usr/local/lib/python3.10/dist-packages (from beautifulsoup4->nbconvert>=5->notebook) (2.6)\n",
            "Requirement already satisfied: webencodings in /usr/local/lib/python3.10/dist-packages (from bleach->nbconvert>=5->notebook) (0.5.1)\n",
            "Requirement already satisfied: pycparser in /usr/local/lib/python3.10/dist-packages (from cffi>=1.0.1->argon2-cffi-bindings->argon2-cffi->notebook) (2.22)\n",
            "Requirement already satisfied: parso<0.9.0,>=0.8.3 in /usr/local/lib/python3.10/dist-packages (from jedi>=0.16->ipython>=5.0.0->ipykernel->notebook) (0.8.4)\n",
            "Requirement already satisfied: anyio<4,>=3.1.0 in /usr/local/lib/python3.10/dist-packages (from jupyter-server<3,>=1.8->notebook-shim>=0.2.3->nbclassic>=0.4.7->notebook) (3.7.1)\n",
            "Requirement already satisfied: websocket-client in /usr/local/lib/python3.10/dist-packages (from jupyter-server<3,>=1.8->notebook-shim>=0.2.3->nbclassic>=0.4.7->notebook) (1.8.0)\n",
            "Requirement already satisfied: wcwidth in /usr/local/lib/python3.10/dist-packages (from prompt-toolkit!=3.0.0,!=3.0.1,<3.1.0,>=2.0.0->ipython>=5.0.0->ipykernel->notebook) (0.2.13)\n",
            "Requirement already satisfied: idna>=2.8 in /usr/local/lib/python3.10/dist-packages (from anyio<4,>=3.1.0->jupyter-server<3,>=1.8->notebook-shim>=0.2.3->nbclassic>=0.4.7->notebook) (3.7)\n",
            "Requirement already satisfied: sniffio>=1.1 in /usr/local/lib/python3.10/dist-packages (from anyio<4,>=3.1.0->jupyter-server<3,>=1.8->notebook-shim>=0.2.3->nbclassic>=0.4.7->notebook) (1.3.1)\n",
            "Requirement already satisfied: exceptiongroup in /usr/local/lib/python3.10/dist-packages (from anyio<4,>=3.1.0->jupyter-server<3,>=1.8->notebook-shim>=0.2.3->nbclassic>=0.4.7->notebook) (1.2.2)\n"
          ]
        }
      ],
      "source": [
        "#Importing libraries\n",
        "!pip install cobaya\n",
        "!pip install getdist\n",
        "!pip install corner\n",
        "!pip install notebook"
      ]
    },
    {
      "cell_type": "code",
      "source": [
        "# Show plots inline, and load main getdist plot module and samples class\n",
        "%matplotlib inline\n",
        "%config InlineBackend.figure_format = 'retina'\n",
        "import sys, os\n",
        "sys.path.insert(0,os.path.realpath(os.path.join(os.getcwd(),'..')))\n",
        "from getdist import plots, MCSamples\n",
        "import getdist\n",
        "import matplotlib.pyplot as plt\n",
        "import IPython\n",
        "print('GetDist Version: %s, Matplotlib version: %s'%(getdist.__version__, plt.matplotlib.__version__))"
      ],
      "metadata": {
        "colab": {
          "base_uri": "https://localhost:8080/"
        },
        "id": "c9v4pHlqK6B3",
        "outputId": "7005d2ae-837d-4792-bc52-4a3ffaa695d2"
      },
      "execution_count": 11,
      "outputs": [
        {
          "output_type": "stream",
          "name": "stdout",
          "text": [
            "GetDist Version: 1.5.2, Matplotlib version: 3.7.1\n"
          ]
        }
      ]
    },
    {
      "cell_type": "code",
      "source": [
        "info = {\n",
        "    \"likelihood\": {\n",
        "        \"gaussian_mixture\": {\n",
        "            \"means\": [0.2, 0],\n",
        "            \"covs\": [[0.1, 0.05],\n",
        "                     [0.05, 0.2]],\n",
        "            \"derived\": True}},\n",
        "    \"params\": dict([\n",
        "        (\"a\", {\n",
        "            \"prior\": {\"min\": -0.5, \"max\": 3},\n",
        "            \"latex\": r\"\\alpha\"}),\n",
        "        (\"b\", {\n",
        "            \"prior\": {\"dist\": \"norm\", \"loc\": 0, \"scale\": 1},\n",
        "            \"ref\": 0,\n",
        "            \"proposal\": 0.5,\n",
        "            \"latex\": r\"\\beta\"}),\n",
        "        (\"derived_a\", {\n",
        "            \"latex\": r\"\\alpha^\\prime\"}),\n",
        "        (\"derived_b\", {\n",
        "            \"latex\": r\"\\beta^\\prime\"})]),\n",
        "    \"sampler\": {\n",
        "        \"mcmc\": None}}"
      ],
      "metadata": {
        "id": "WxmkQrTuMcsX"
      },
      "execution_count": 12,
      "outputs": []
    },
    {
      "cell_type": "code",
      "source": [
        "from cobaya.run import run\n",
        "updated_info, sampler = run(info)"
      ],
      "metadata": {
        "colab": {
          "base_uri": "https://localhost:8080/"
        },
        "id": "MIRmpqzdM7_7",
        "outputId": "6723f2d0-ec23-420c-aadf-9527cd3b84dd"
      },
      "execution_count": 13,
      "outputs": [
        {
          "output_type": "stream",
          "name": "stderr",
          "text": [
            "INFO:mcmc:Getting initial point... (this may take a few seconds)\n"
          ]
        },
        {
          "output_type": "stream",
          "name": "stdout",
          "text": [
            "[mcmc] Getting initial point... (this may take a few seconds)\n"
          ]
        },
        {
          "output_type": "stream",
          "name": "stderr",
          "text": [
            "INFO:prior:Reference values or pdfs for some parameters were not provided. Sampling from the prior instead for those parameters.\n"
          ]
        },
        {
          "output_type": "stream",
          "name": "stdout",
          "text": [
            "[prior] Reference values or pdfs for some parameters were not provided. Sampling from the prior instead for those parameters.\n"
          ]
        },
        {
          "output_type": "stream",
          "name": "stderr",
          "text": [
            "INFO:mcmc:Initial point: a:1.274132, b:0\n"
          ]
        },
        {
          "output_type": "stream",
          "name": "stdout",
          "text": [
            "[mcmc] Initial point: a:1.274132, b:0\n"
          ]
        },
        {
          "output_type": "stream",
          "name": "stderr",
          "text": [
            "INFO:model:Measuring speeds... (this may take a few seconds)\n"
          ]
        },
        {
          "output_type": "stream",
          "name": "stdout",
          "text": [
            "[model] Measuring speeds... (this may take a few seconds)\n"
          ]
        },
        {
          "output_type": "stream",
          "name": "stderr",
          "text": [
            "INFO:model:Setting measured speeds (per sec): {gaussian_mixture: 2550.0}\n"
          ]
        },
        {
          "output_type": "stream",
          "name": "stdout",
          "text": [
            "[model] Setting measured speeds (per sec): {gaussian_mixture: 2550.0}\n"
          ]
        },
        {
          "output_type": "stream",
          "name": "stderr",
          "text": [
            "WARNING:prior:Reference pdf not defined or improper for some parameters. Using prior's sigma instead for them.\n"
          ]
        },
        {
          "output_type": "stream",
          "name": "stdout",
          "text": [
            "[prior] *WARNING* Reference pdf not defined or improper for some parameters. Using prior's sigma instead for them.\n"
          ]
        },
        {
          "output_type": "stream",
          "name": "stderr",
          "text": [
            "INFO:mcmc:Covariance matrix not present. We will start learning the covariance of the proposal earlier: R-1 = 30 (would be 2 if all params loaded).\n"
          ]
        },
        {
          "output_type": "stream",
          "name": "stdout",
          "text": [
            "[mcmc] Covariance matrix not present. We will start learning the covariance of the proposal earlier: R-1 = 30 (would be 2 if all params loaded).\n"
          ]
        },
        {
          "output_type": "stream",
          "name": "stderr",
          "text": [
            "INFO:mcmc:Sampling!\n"
          ]
        },
        {
          "output_type": "stream",
          "name": "stdout",
          "text": [
            "[mcmc] Sampling!\n"
          ]
        },
        {
          "output_type": "stream",
          "name": "stderr",
          "text": [
            "INFO:mcmc:Progress @ 2024-08-28 14:03:20 : 1 steps taken, and 0 accepted.\n"
          ]
        },
        {
          "output_type": "stream",
          "name": "stdout",
          "text": [
            "[mcmc] Progress @ 2024-08-28 14:03:20 : 1 steps taken, and 0 accepted.\n"
          ]
        },
        {
          "output_type": "stream",
          "name": "stderr",
          "text": [
            "INFO:mcmc:Learn + convergence test @ 80 samples accepted.\n"
          ]
        },
        {
          "output_type": "stream",
          "name": "stdout",
          "text": [
            "[mcmc] Learn + convergence test @ 80 samples accepted.\n"
          ]
        },
        {
          "output_type": "stream",
          "name": "stderr",
          "text": [
            "INFO:mcmc: - Acceptance rate: 0.279\n"
          ]
        },
        {
          "output_type": "stream",
          "name": "stdout",
          "text": [
            "[mcmc]  - Acceptance rate: 0.279\n"
          ]
        },
        {
          "output_type": "stream",
          "name": "stderr",
          "text": [
            "INFO:mcmc: - Convergence of means: R-1 = 0.113489 after 64 accepted steps\n"
          ]
        },
        {
          "output_type": "stream",
          "name": "stdout",
          "text": [
            "[mcmc]  - Convergence of means: R-1 = 0.113489 after 64 accepted steps\n"
          ]
        },
        {
          "output_type": "stream",
          "name": "stderr",
          "text": [
            "INFO:mcmc: - Updated covariance matrix of proposal pdf.\n"
          ]
        },
        {
          "output_type": "stream",
          "name": "stdout",
          "text": [
            "[mcmc]  - Updated covariance matrix of proposal pdf.\n"
          ]
        },
        {
          "output_type": "stream",
          "name": "stderr",
          "text": [
            "INFO:mcmc:Learn + convergence test @ 160 samples accepted.\n"
          ]
        },
        {
          "output_type": "stream",
          "name": "stdout",
          "text": [
            "[mcmc] Learn + convergence test @ 160 samples accepted.\n"
          ]
        },
        {
          "output_type": "stream",
          "name": "stderr",
          "text": [
            "INFO:mcmc: - Acceptance rate: 0.260\n"
          ]
        },
        {
          "output_type": "stream",
          "name": "stdout",
          "text": [
            "[mcmc]  - Acceptance rate: 0.260\n"
          ]
        },
        {
          "output_type": "stream",
          "name": "stderr",
          "text": [
            "INFO:mcmc: - Convergence of means: R-1 = 0.077192 after 128 accepted steps\n"
          ]
        },
        {
          "output_type": "stream",
          "name": "stdout",
          "text": [
            "[mcmc]  - Convergence of means: R-1 = 0.077192 after 128 accepted steps\n"
          ]
        },
        {
          "output_type": "stream",
          "name": "stderr",
          "text": [
            "INFO:mcmc: - Updated covariance matrix of proposal pdf.\n"
          ]
        },
        {
          "output_type": "stream",
          "name": "stdout",
          "text": [
            "[mcmc]  - Updated covariance matrix of proposal pdf.\n"
          ]
        },
        {
          "output_type": "stream",
          "name": "stderr",
          "text": [
            "INFO:mcmc:Learn + convergence test @ 240 samples accepted.\n"
          ]
        },
        {
          "output_type": "stream",
          "name": "stdout",
          "text": [
            "[mcmc] Learn + convergence test @ 240 samples accepted.\n"
          ]
        },
        {
          "output_type": "stream",
          "name": "stderr",
          "text": [
            "INFO:mcmc: - Acceptance rate: 0.264\n"
          ]
        },
        {
          "output_type": "stream",
          "name": "stdout",
          "text": [
            "[mcmc]  - Acceptance rate: 0.264\n"
          ]
        },
        {
          "output_type": "stream",
          "name": "stderr",
          "text": [
            "INFO:mcmc: - Convergence of means: R-1 = 0.059615 after 192 accepted steps\n"
          ]
        },
        {
          "output_type": "stream",
          "name": "stdout",
          "text": [
            "[mcmc]  - Convergence of means: R-1 = 0.059615 after 192 accepted steps\n"
          ]
        },
        {
          "output_type": "stream",
          "name": "stderr",
          "text": [
            "INFO:mcmc: - Updated covariance matrix of proposal pdf.\n"
          ]
        },
        {
          "output_type": "stream",
          "name": "stdout",
          "text": [
            "[mcmc]  - Updated covariance matrix of proposal pdf.\n"
          ]
        },
        {
          "output_type": "stream",
          "name": "stderr",
          "text": [
            "INFO:mcmc:Learn + convergence test @ 320 samples accepted.\n"
          ]
        },
        {
          "output_type": "stream",
          "name": "stdout",
          "text": [
            "[mcmc] Learn + convergence test @ 320 samples accepted.\n"
          ]
        },
        {
          "output_type": "stream",
          "name": "stderr",
          "text": [
            "INFO:mcmc: - Acceptance rate: 0.269\n"
          ]
        },
        {
          "output_type": "stream",
          "name": "stdout",
          "text": [
            "[mcmc]  - Acceptance rate: 0.269\n"
          ]
        },
        {
          "output_type": "stream",
          "name": "stderr",
          "text": [
            "INFO:mcmc: - Convergence of means: R-1 = 0.052839 after 256 accepted steps\n"
          ]
        },
        {
          "output_type": "stream",
          "name": "stdout",
          "text": [
            "[mcmc]  - Convergence of means: R-1 = 0.052839 after 256 accepted steps\n"
          ]
        },
        {
          "output_type": "stream",
          "name": "stderr",
          "text": [
            "INFO:mcmc: - Updated covariance matrix of proposal pdf.\n"
          ]
        },
        {
          "output_type": "stream",
          "name": "stdout",
          "text": [
            "[mcmc]  - Updated covariance matrix of proposal pdf.\n"
          ]
        },
        {
          "output_type": "stream",
          "name": "stderr",
          "text": [
            "INFO:mcmc:Learn + convergence test @ 400 samples accepted.\n"
          ]
        },
        {
          "output_type": "stream",
          "name": "stdout",
          "text": [
            "[mcmc] Learn + convergence test @ 400 samples accepted.\n"
          ]
        },
        {
          "output_type": "stream",
          "name": "stderr",
          "text": [
            "INFO:mcmc: - Acceptance rate: 0.277\n"
          ]
        },
        {
          "output_type": "stream",
          "name": "stdout",
          "text": [
            "[mcmc]  - Acceptance rate: 0.277\n"
          ]
        },
        {
          "output_type": "stream",
          "name": "stderr",
          "text": [
            "INFO:mcmc: - Convergence of means: R-1 = 0.047490 after 320 accepted steps\n"
          ]
        },
        {
          "output_type": "stream",
          "name": "stdout",
          "text": [
            "[mcmc]  - Convergence of means: R-1 = 0.047490 after 320 accepted steps\n"
          ]
        },
        {
          "output_type": "stream",
          "name": "stderr",
          "text": [
            "INFO:mcmc: - Updated covariance matrix of proposal pdf.\n"
          ]
        },
        {
          "output_type": "stream",
          "name": "stdout",
          "text": [
            "[mcmc]  - Updated covariance matrix of proposal pdf.\n"
          ]
        },
        {
          "output_type": "stream",
          "name": "stderr",
          "text": [
            "INFO:mcmc:Learn + convergence test @ 480 samples accepted.\n"
          ]
        },
        {
          "output_type": "stream",
          "name": "stdout",
          "text": [
            "[mcmc] Learn + convergence test @ 480 samples accepted.\n"
          ]
        },
        {
          "output_type": "stream",
          "name": "stderr",
          "text": [
            "INFO:mcmc: - Acceptance rate: 0.283\n"
          ]
        },
        {
          "output_type": "stream",
          "name": "stdout",
          "text": [
            "[mcmc]  - Acceptance rate: 0.283\n"
          ]
        },
        {
          "output_type": "stream",
          "name": "stderr",
          "text": [
            "INFO:mcmc: - Convergence of means: R-1 = 0.045855 after 384 accepted steps\n"
          ]
        },
        {
          "output_type": "stream",
          "name": "stdout",
          "text": [
            "[mcmc]  - Convergence of means: R-1 = 0.045855 after 384 accepted steps\n"
          ]
        },
        {
          "output_type": "stream",
          "name": "stderr",
          "text": [
            "INFO:mcmc: - Updated covariance matrix of proposal pdf.\n"
          ]
        },
        {
          "output_type": "stream",
          "name": "stdout",
          "text": [
            "[mcmc]  - Updated covariance matrix of proposal pdf.\n"
          ]
        },
        {
          "output_type": "stream",
          "name": "stderr",
          "text": [
            "INFO:mcmc:Learn + convergence test @ 560 samples accepted.\n"
          ]
        },
        {
          "output_type": "stream",
          "name": "stdout",
          "text": [
            "[mcmc] Learn + convergence test @ 560 samples accepted.\n"
          ]
        },
        {
          "output_type": "stream",
          "name": "stderr",
          "text": [
            "INFO:mcmc: - Acceptance rate: 0.285\n"
          ]
        },
        {
          "output_type": "stream",
          "name": "stdout",
          "text": [
            "[mcmc]  - Acceptance rate: 0.285\n"
          ]
        },
        {
          "output_type": "stream",
          "name": "stderr",
          "text": [
            "INFO:mcmc: - Convergence of means: R-1 = 0.036747 after 448 accepted steps\n"
          ]
        },
        {
          "output_type": "stream",
          "name": "stdout",
          "text": [
            "[mcmc]  - Convergence of means: R-1 = 0.036747 after 448 accepted steps\n"
          ]
        },
        {
          "output_type": "stream",
          "name": "stderr",
          "text": [
            "INFO:mcmc: - Updated covariance matrix of proposal pdf.\n"
          ]
        },
        {
          "output_type": "stream",
          "name": "stdout",
          "text": [
            "[mcmc]  - Updated covariance matrix of proposal pdf.\n"
          ]
        },
        {
          "output_type": "stream",
          "name": "stderr",
          "text": [
            "INFO:mcmc:Learn + convergence test @ 640 samples accepted.\n"
          ]
        },
        {
          "output_type": "stream",
          "name": "stdout",
          "text": [
            "[mcmc] Learn + convergence test @ 640 samples accepted.\n"
          ]
        },
        {
          "output_type": "stream",
          "name": "stderr",
          "text": [
            "INFO:mcmc: - Acceptance rate: 0.288\n"
          ]
        },
        {
          "output_type": "stream",
          "name": "stdout",
          "text": [
            "[mcmc]  - Acceptance rate: 0.288\n"
          ]
        },
        {
          "output_type": "stream",
          "name": "stderr",
          "text": [
            "INFO:mcmc: - Convergence of means: R-1 = 0.053940 after 512 accepted steps\n"
          ]
        },
        {
          "output_type": "stream",
          "name": "stdout",
          "text": [
            "[mcmc]  - Convergence of means: R-1 = 0.053940 after 512 accepted steps\n"
          ]
        },
        {
          "output_type": "stream",
          "name": "stderr",
          "text": [
            "INFO:mcmc: - Updated covariance matrix of proposal pdf.\n"
          ]
        },
        {
          "output_type": "stream",
          "name": "stdout",
          "text": [
            "[mcmc]  - Updated covariance matrix of proposal pdf.\n"
          ]
        },
        {
          "output_type": "stream",
          "name": "stderr",
          "text": [
            "INFO:mcmc:Learn + convergence test @ 720 samples accepted.\n"
          ]
        },
        {
          "output_type": "stream",
          "name": "stdout",
          "text": [
            "[mcmc] Learn + convergence test @ 720 samples accepted.\n"
          ]
        },
        {
          "output_type": "stream",
          "name": "stderr",
          "text": [
            "INFO:mcmc: - Acceptance rate: 0.291\n"
          ]
        },
        {
          "output_type": "stream",
          "name": "stdout",
          "text": [
            "[mcmc]  - Acceptance rate: 0.291\n"
          ]
        },
        {
          "output_type": "stream",
          "name": "stderr",
          "text": [
            "INFO:mcmc: - Convergence of means: R-1 = 0.026967 after 576 accepted steps\n"
          ]
        },
        {
          "output_type": "stream",
          "name": "stdout",
          "text": [
            "[mcmc]  - Convergence of means: R-1 = 0.026967 after 576 accepted steps\n"
          ]
        },
        {
          "output_type": "stream",
          "name": "stderr",
          "text": [
            "INFO:mcmc: - Updated covariance matrix of proposal pdf.\n"
          ]
        },
        {
          "output_type": "stream",
          "name": "stdout",
          "text": [
            "[mcmc]  - Updated covariance matrix of proposal pdf.\n"
          ]
        },
        {
          "output_type": "stream",
          "name": "stderr",
          "text": [
            "INFO:mcmc:Learn + convergence test @ 800 samples accepted.\n"
          ]
        },
        {
          "output_type": "stream",
          "name": "stdout",
          "text": [
            "[mcmc] Learn + convergence test @ 800 samples accepted.\n"
          ]
        },
        {
          "output_type": "stream",
          "name": "stderr",
          "text": [
            "INFO:mcmc: - Acceptance rate: 0.290\n"
          ]
        },
        {
          "output_type": "stream",
          "name": "stdout",
          "text": [
            "[mcmc]  - Acceptance rate: 0.290\n"
          ]
        },
        {
          "output_type": "stream",
          "name": "stderr",
          "text": [
            "INFO:mcmc: - Convergence of means: R-1 = 0.015610 after 640 accepted steps\n"
          ]
        },
        {
          "output_type": "stream",
          "name": "stdout",
          "text": [
            "[mcmc]  - Convergence of means: R-1 = 0.015610 after 640 accepted steps\n"
          ]
        },
        {
          "output_type": "stream",
          "name": "stderr",
          "text": [
            "INFO:mcmc: - Updated covariance matrix of proposal pdf.\n"
          ]
        },
        {
          "output_type": "stream",
          "name": "stdout",
          "text": [
            "[mcmc]  - Updated covariance matrix of proposal pdf.\n"
          ]
        },
        {
          "output_type": "stream",
          "name": "stderr",
          "text": [
            "INFO:mcmc:Learn + convergence test @ 880 samples accepted.\n"
          ]
        },
        {
          "output_type": "stream",
          "name": "stdout",
          "text": [
            "[mcmc] Learn + convergence test @ 880 samples accepted.\n"
          ]
        },
        {
          "output_type": "stream",
          "name": "stderr",
          "text": [
            "INFO:mcmc: - Acceptance rate: 0.292\n"
          ]
        },
        {
          "output_type": "stream",
          "name": "stdout",
          "text": [
            "[mcmc]  - Acceptance rate: 0.292\n"
          ]
        },
        {
          "output_type": "stream",
          "name": "stderr",
          "text": [
            "INFO:mcmc: - Convergence of means: R-1 = 0.014466 after 704 accepted steps\n"
          ]
        },
        {
          "output_type": "stream",
          "name": "stdout",
          "text": [
            "[mcmc]  - Convergence of means: R-1 = 0.014466 after 704 accepted steps\n"
          ]
        },
        {
          "output_type": "stream",
          "name": "stderr",
          "text": [
            "INFO:mcmc: - Updated covariance matrix of proposal pdf.\n"
          ]
        },
        {
          "output_type": "stream",
          "name": "stdout",
          "text": [
            "[mcmc]  - Updated covariance matrix of proposal pdf.\n"
          ]
        },
        {
          "output_type": "stream",
          "name": "stderr",
          "text": [
            "INFO:mcmc:Learn + convergence test @ 960 samples accepted.\n"
          ]
        },
        {
          "output_type": "stream",
          "name": "stdout",
          "text": [
            "[mcmc] Learn + convergence test @ 960 samples accepted.\n"
          ]
        },
        {
          "output_type": "stream",
          "name": "stderr",
          "text": [
            "INFO:mcmc: - Acceptance rate: 0.292\n"
          ]
        },
        {
          "output_type": "stream",
          "name": "stdout",
          "text": [
            "[mcmc]  - Acceptance rate: 0.292\n"
          ]
        },
        {
          "output_type": "stream",
          "name": "stderr",
          "text": [
            "INFO:mcmc: - Convergence of means: R-1 = 0.016246 after 768 accepted steps\n"
          ]
        },
        {
          "output_type": "stream",
          "name": "stdout",
          "text": [
            "[mcmc]  - Convergence of means: R-1 = 0.016246 after 768 accepted steps\n"
          ]
        },
        {
          "output_type": "stream",
          "name": "stderr",
          "text": [
            "INFO:mcmc: - Updated covariance matrix of proposal pdf.\n"
          ]
        },
        {
          "output_type": "stream",
          "name": "stdout",
          "text": [
            "[mcmc]  - Updated covariance matrix of proposal pdf.\n"
          ]
        },
        {
          "output_type": "stream",
          "name": "stderr",
          "text": [
            "INFO:mcmc:Learn + convergence test @ 1040 samples accepted.\n"
          ]
        },
        {
          "output_type": "stream",
          "name": "stdout",
          "text": [
            "[mcmc] Learn + convergence test @ 1040 samples accepted.\n"
          ]
        },
        {
          "output_type": "stream",
          "name": "stderr",
          "text": [
            "INFO:mcmc: - Acceptance rate: 0.296\n"
          ]
        },
        {
          "output_type": "stream",
          "name": "stdout",
          "text": [
            "[mcmc]  - Acceptance rate: 0.296\n"
          ]
        },
        {
          "output_type": "stream",
          "name": "stderr",
          "text": [
            "INFO:mcmc: - Convergence of means: R-1 = 0.029262 after 832 accepted steps\n"
          ]
        },
        {
          "output_type": "stream",
          "name": "stdout",
          "text": [
            "[mcmc]  - Convergence of means: R-1 = 0.029262 after 832 accepted steps\n"
          ]
        },
        {
          "output_type": "stream",
          "name": "stderr",
          "text": [
            "INFO:mcmc: - Updated covariance matrix of proposal pdf.\n"
          ]
        },
        {
          "output_type": "stream",
          "name": "stdout",
          "text": [
            "[mcmc]  - Updated covariance matrix of proposal pdf.\n"
          ]
        },
        {
          "output_type": "stream",
          "name": "stderr",
          "text": [
            "INFO:mcmc:Learn + convergence test @ 1120 samples accepted.\n"
          ]
        },
        {
          "output_type": "stream",
          "name": "stdout",
          "text": [
            "[mcmc] Learn + convergence test @ 1120 samples accepted.\n"
          ]
        },
        {
          "output_type": "stream",
          "name": "stderr",
          "text": [
            "INFO:mcmc: - Acceptance rate: 0.296\n"
          ]
        },
        {
          "output_type": "stream",
          "name": "stdout",
          "text": [
            "[mcmc]  - Acceptance rate: 0.296\n"
          ]
        },
        {
          "output_type": "stream",
          "name": "stderr",
          "text": [
            "INFO:mcmc: - Convergence of means: R-1 = 0.024172 after 896 accepted steps\n"
          ]
        },
        {
          "output_type": "stream",
          "name": "stdout",
          "text": [
            "[mcmc]  - Convergence of means: R-1 = 0.024172 after 896 accepted steps\n"
          ]
        },
        {
          "output_type": "stream",
          "name": "stderr",
          "text": [
            "INFO:mcmc: - Updated covariance matrix of proposal pdf.\n"
          ]
        },
        {
          "output_type": "stream",
          "name": "stdout",
          "text": [
            "[mcmc]  - Updated covariance matrix of proposal pdf.\n"
          ]
        },
        {
          "output_type": "stream",
          "name": "stderr",
          "text": [
            "INFO:mcmc:Learn + convergence test @ 1200 samples accepted.\n"
          ]
        },
        {
          "output_type": "stream",
          "name": "stdout",
          "text": [
            "[mcmc] Learn + convergence test @ 1200 samples accepted.\n"
          ]
        },
        {
          "output_type": "stream",
          "name": "stderr",
          "text": [
            "INFO:mcmc: - Acceptance rate: 0.292\n"
          ]
        },
        {
          "output_type": "stream",
          "name": "stdout",
          "text": [
            "[mcmc]  - Acceptance rate: 0.292\n"
          ]
        },
        {
          "output_type": "stream",
          "name": "stderr",
          "text": [
            "INFO:mcmc: - Convergence of means: R-1 = 0.020505 after 960 accepted steps\n"
          ]
        },
        {
          "output_type": "stream",
          "name": "stdout",
          "text": [
            "[mcmc]  - Convergence of means: R-1 = 0.020505 after 960 accepted steps\n"
          ]
        },
        {
          "output_type": "stream",
          "name": "stderr",
          "text": [
            "INFO:mcmc: - Updated covariance matrix of proposal pdf.\n"
          ]
        },
        {
          "output_type": "stream",
          "name": "stdout",
          "text": [
            "[mcmc]  - Updated covariance matrix of proposal pdf.\n"
          ]
        },
        {
          "output_type": "stream",
          "name": "stderr",
          "text": [
            "INFO:mcmc:Learn + convergence test @ 1280 samples accepted.\n"
          ]
        },
        {
          "output_type": "stream",
          "name": "stdout",
          "text": [
            "[mcmc] Learn + convergence test @ 1280 samples accepted.\n"
          ]
        },
        {
          "output_type": "stream",
          "name": "stderr",
          "text": [
            "INFO:mcmc: - Acceptance rate: 0.297\n"
          ]
        },
        {
          "output_type": "stream",
          "name": "stdout",
          "text": [
            "[mcmc]  - Acceptance rate: 0.297\n"
          ]
        },
        {
          "output_type": "stream",
          "name": "stderr",
          "text": [
            "INFO:mcmc: - Convergence of means: R-1 = 0.030579 after 1024 accepted steps\n"
          ]
        },
        {
          "output_type": "stream",
          "name": "stdout",
          "text": [
            "[mcmc]  - Convergence of means: R-1 = 0.030579 after 1024 accepted steps\n"
          ]
        },
        {
          "output_type": "stream",
          "name": "stderr",
          "text": [
            "INFO:mcmc: - Updated covariance matrix of proposal pdf.\n"
          ]
        },
        {
          "output_type": "stream",
          "name": "stdout",
          "text": [
            "[mcmc]  - Updated covariance matrix of proposal pdf.\n"
          ]
        },
        {
          "output_type": "stream",
          "name": "stderr",
          "text": [
            "INFO:mcmc:Learn + convergence test @ 1360 samples accepted.\n"
          ]
        },
        {
          "output_type": "stream",
          "name": "stdout",
          "text": [
            "[mcmc] Learn + convergence test @ 1360 samples accepted.\n"
          ]
        },
        {
          "output_type": "stream",
          "name": "stderr",
          "text": [
            "INFO:mcmc: - Acceptance rate: 0.298\n"
          ]
        },
        {
          "output_type": "stream",
          "name": "stdout",
          "text": [
            "[mcmc]  - Acceptance rate: 0.298\n"
          ]
        },
        {
          "output_type": "stream",
          "name": "stderr",
          "text": [
            "INFO:mcmc: - Convergence of means: R-1 = 0.021021 after 1088 accepted steps\n"
          ]
        },
        {
          "output_type": "stream",
          "name": "stdout",
          "text": [
            "[mcmc]  - Convergence of means: R-1 = 0.021021 after 1088 accepted steps\n"
          ]
        },
        {
          "output_type": "stream",
          "name": "stderr",
          "text": [
            "INFO:mcmc: - Updated covariance matrix of proposal pdf.\n"
          ]
        },
        {
          "output_type": "stream",
          "name": "stdout",
          "text": [
            "[mcmc]  - Updated covariance matrix of proposal pdf.\n"
          ]
        },
        {
          "output_type": "stream",
          "name": "stderr",
          "text": [
            "INFO:mcmc:Learn + convergence test @ 1440 samples accepted.\n"
          ]
        },
        {
          "output_type": "stream",
          "name": "stdout",
          "text": [
            "[mcmc] Learn + convergence test @ 1440 samples accepted.\n"
          ]
        },
        {
          "output_type": "stream",
          "name": "stderr",
          "text": [
            "INFO:mcmc: - Acceptance rate: 0.294\n"
          ]
        },
        {
          "output_type": "stream",
          "name": "stdout",
          "text": [
            "[mcmc]  - Acceptance rate: 0.294\n"
          ]
        },
        {
          "output_type": "stream",
          "name": "stderr",
          "text": [
            "INFO:mcmc: - Convergence of means: R-1 = 0.022057 after 1152 accepted steps\n"
          ]
        },
        {
          "output_type": "stream",
          "name": "stdout",
          "text": [
            "[mcmc]  - Convergence of means: R-1 = 0.022057 after 1152 accepted steps\n"
          ]
        },
        {
          "output_type": "stream",
          "name": "stderr",
          "text": [
            "INFO:mcmc: - Updated covariance matrix of proposal pdf.\n"
          ]
        },
        {
          "output_type": "stream",
          "name": "stdout",
          "text": [
            "[mcmc]  - Updated covariance matrix of proposal pdf.\n"
          ]
        },
        {
          "output_type": "stream",
          "name": "stderr",
          "text": [
            "INFO:mcmc:Learn + convergence test @ 1520 samples accepted.\n"
          ]
        },
        {
          "output_type": "stream",
          "name": "stdout",
          "text": [
            "[mcmc] Learn + convergence test @ 1520 samples accepted.\n"
          ]
        },
        {
          "output_type": "stream",
          "name": "stderr",
          "text": [
            "INFO:mcmc: - Acceptance rate: 0.298\n"
          ]
        },
        {
          "output_type": "stream",
          "name": "stdout",
          "text": [
            "[mcmc]  - Acceptance rate: 0.298\n"
          ]
        },
        {
          "output_type": "stream",
          "name": "stderr",
          "text": [
            "INFO:mcmc: - Convergence of means: R-1 = 0.021560 after 1216 accepted steps\n"
          ]
        },
        {
          "output_type": "stream",
          "name": "stdout",
          "text": [
            "[mcmc]  - Convergence of means: R-1 = 0.021560 after 1216 accepted steps\n"
          ]
        },
        {
          "output_type": "stream",
          "name": "stderr",
          "text": [
            "INFO:mcmc: - Updated covariance matrix of proposal pdf.\n"
          ]
        },
        {
          "output_type": "stream",
          "name": "stdout",
          "text": [
            "[mcmc]  - Updated covariance matrix of proposal pdf.\n"
          ]
        },
        {
          "output_type": "stream",
          "name": "stderr",
          "text": [
            "INFO:mcmc:Learn + convergence test @ 1600 samples accepted.\n"
          ]
        },
        {
          "output_type": "stream",
          "name": "stdout",
          "text": [
            "[mcmc] Learn + convergence test @ 1600 samples accepted.\n"
          ]
        },
        {
          "output_type": "stream",
          "name": "stderr",
          "text": [
            "INFO:mcmc: - Acceptance rate: 0.297\n"
          ]
        },
        {
          "output_type": "stream",
          "name": "stdout",
          "text": [
            "[mcmc]  - Acceptance rate: 0.297\n"
          ]
        },
        {
          "output_type": "stream",
          "name": "stderr",
          "text": [
            "INFO:mcmc: - Convergence of means: R-1 = 0.017139 after 1280 accepted steps\n"
          ]
        },
        {
          "output_type": "stream",
          "name": "stdout",
          "text": [
            "[mcmc]  - Convergence of means: R-1 = 0.017139 after 1280 accepted steps\n"
          ]
        },
        {
          "output_type": "stream",
          "name": "stderr",
          "text": [
            "INFO:mcmc: - Updated covariance matrix of proposal pdf.\n"
          ]
        },
        {
          "output_type": "stream",
          "name": "stdout",
          "text": [
            "[mcmc]  - Updated covariance matrix of proposal pdf.\n"
          ]
        },
        {
          "output_type": "stream",
          "name": "stderr",
          "text": [
            "INFO:mcmc:Learn + convergence test @ 1680 samples accepted.\n"
          ]
        },
        {
          "output_type": "stream",
          "name": "stdout",
          "text": [
            "[mcmc] Learn + convergence test @ 1680 samples accepted.\n"
          ]
        },
        {
          "output_type": "stream",
          "name": "stderr",
          "text": [
            "INFO:mcmc: - Acceptance rate: 0.297\n"
          ]
        },
        {
          "output_type": "stream",
          "name": "stdout",
          "text": [
            "[mcmc]  - Acceptance rate: 0.297\n"
          ]
        },
        {
          "output_type": "stream",
          "name": "stderr",
          "text": [
            "INFO:mcmc: - Convergence of means: R-1 = 0.012469 after 1344 accepted steps\n"
          ]
        },
        {
          "output_type": "stream",
          "name": "stdout",
          "text": [
            "[mcmc]  - Convergence of means: R-1 = 0.012469 after 1344 accepted steps\n"
          ]
        },
        {
          "output_type": "stream",
          "name": "stderr",
          "text": [
            "INFO:mcmc: - Updated covariance matrix of proposal pdf.\n"
          ]
        },
        {
          "output_type": "stream",
          "name": "stdout",
          "text": [
            "[mcmc]  - Updated covariance matrix of proposal pdf.\n"
          ]
        },
        {
          "output_type": "stream",
          "name": "stderr",
          "text": [
            "INFO:mcmc:Learn + convergence test @ 1760 samples accepted.\n"
          ]
        },
        {
          "output_type": "stream",
          "name": "stdout",
          "text": [
            "[mcmc] Learn + convergence test @ 1760 samples accepted.\n"
          ]
        },
        {
          "output_type": "stream",
          "name": "stderr",
          "text": [
            "INFO:mcmc: - Acceptance rate: 0.298\n"
          ]
        },
        {
          "output_type": "stream",
          "name": "stdout",
          "text": [
            "[mcmc]  - Acceptance rate: 0.298\n"
          ]
        },
        {
          "output_type": "stream",
          "name": "stderr",
          "text": [
            "INFO:mcmc: - Convergence of means: R-1 = 0.012497 after 1408 accepted steps\n"
          ]
        },
        {
          "output_type": "stream",
          "name": "stdout",
          "text": [
            "[mcmc]  - Convergence of means: R-1 = 0.012497 after 1408 accepted steps\n"
          ]
        },
        {
          "output_type": "stream",
          "name": "stderr",
          "text": [
            "INFO:mcmc: - Updated covariance matrix of proposal pdf.\n"
          ]
        },
        {
          "output_type": "stream",
          "name": "stdout",
          "text": [
            "[mcmc]  - Updated covariance matrix of proposal pdf.\n"
          ]
        },
        {
          "output_type": "stream",
          "name": "stderr",
          "text": [
            "INFO:mcmc:Learn + convergence test @ 1840 samples accepted.\n"
          ]
        },
        {
          "output_type": "stream",
          "name": "stdout",
          "text": [
            "[mcmc] Learn + convergence test @ 1840 samples accepted.\n"
          ]
        },
        {
          "output_type": "stream",
          "name": "stderr",
          "text": [
            "INFO:mcmc: - Acceptance rate: 0.300\n"
          ]
        },
        {
          "output_type": "stream",
          "name": "stdout",
          "text": [
            "[mcmc]  - Acceptance rate: 0.300\n"
          ]
        },
        {
          "output_type": "stream",
          "name": "stderr",
          "text": [
            "INFO:mcmc: - Convergence of means: R-1 = 0.016592 after 1472 accepted steps\n"
          ]
        },
        {
          "output_type": "stream",
          "name": "stdout",
          "text": [
            "[mcmc]  - Convergence of means: R-1 = 0.016592 after 1472 accepted steps\n"
          ]
        },
        {
          "output_type": "stream",
          "name": "stderr",
          "text": [
            "INFO:mcmc: - Updated covariance matrix of proposal pdf.\n"
          ]
        },
        {
          "output_type": "stream",
          "name": "stdout",
          "text": [
            "[mcmc]  - Updated covariance matrix of proposal pdf.\n"
          ]
        },
        {
          "output_type": "stream",
          "name": "stderr",
          "text": [
            "INFO:mcmc:Learn + convergence test @ 1920 samples accepted.\n"
          ]
        },
        {
          "output_type": "stream",
          "name": "stdout",
          "text": [
            "[mcmc] Learn + convergence test @ 1920 samples accepted.\n"
          ]
        },
        {
          "output_type": "stream",
          "name": "stderr",
          "text": [
            "INFO:mcmc: - Acceptance rate: 0.301\n"
          ]
        },
        {
          "output_type": "stream",
          "name": "stdout",
          "text": [
            "[mcmc]  - Acceptance rate: 0.301\n"
          ]
        },
        {
          "output_type": "stream",
          "name": "stderr",
          "text": [
            "INFO:mcmc: - Convergence of means: R-1 = 0.012369 after 1536 accepted steps\n"
          ]
        },
        {
          "output_type": "stream",
          "name": "stdout",
          "text": [
            "[mcmc]  - Convergence of means: R-1 = 0.012369 after 1536 accepted steps\n"
          ]
        },
        {
          "output_type": "stream",
          "name": "stderr",
          "text": [
            "INFO:mcmc: - Updated covariance matrix of proposal pdf.\n"
          ]
        },
        {
          "output_type": "stream",
          "name": "stdout",
          "text": [
            "[mcmc]  - Updated covariance matrix of proposal pdf.\n"
          ]
        },
        {
          "output_type": "stream",
          "name": "stderr",
          "text": [
            "INFO:mcmc:Learn + convergence test @ 2000 samples accepted.\n"
          ]
        },
        {
          "output_type": "stream",
          "name": "stdout",
          "text": [
            "[mcmc] Learn + convergence test @ 2000 samples accepted.\n"
          ]
        },
        {
          "output_type": "stream",
          "name": "stderr",
          "text": [
            "INFO:mcmc: - Acceptance rate: 0.301\n"
          ]
        },
        {
          "output_type": "stream",
          "name": "stdout",
          "text": [
            "[mcmc]  - Acceptance rate: 0.301\n"
          ]
        },
        {
          "output_type": "stream",
          "name": "stderr",
          "text": [
            "INFO:mcmc: - Convergence of means: R-1 = 0.019881 after 1600 accepted steps\n"
          ]
        },
        {
          "output_type": "stream",
          "name": "stdout",
          "text": [
            "[mcmc]  - Convergence of means: R-1 = 0.019881 after 1600 accepted steps\n"
          ]
        },
        {
          "output_type": "stream",
          "name": "stderr",
          "text": [
            "INFO:mcmc: - Updated covariance matrix of proposal pdf.\n"
          ]
        },
        {
          "output_type": "stream",
          "name": "stdout",
          "text": [
            "[mcmc]  - Updated covariance matrix of proposal pdf.\n"
          ]
        },
        {
          "output_type": "stream",
          "name": "stderr",
          "text": [
            "INFO:mcmc:Learn + convergence test @ 2080 samples accepted.\n"
          ]
        },
        {
          "output_type": "stream",
          "name": "stdout",
          "text": [
            "[mcmc] Learn + convergence test @ 2080 samples accepted.\n"
          ]
        },
        {
          "output_type": "stream",
          "name": "stderr",
          "text": [
            "INFO:mcmc: - Acceptance rate: 0.301\n"
          ]
        },
        {
          "output_type": "stream",
          "name": "stdout",
          "text": [
            "[mcmc]  - Acceptance rate: 0.301\n"
          ]
        },
        {
          "output_type": "stream",
          "name": "stderr",
          "text": [
            "INFO:mcmc: - Convergence of means: R-1 = 0.016206 after 1664 accepted steps\n"
          ]
        },
        {
          "output_type": "stream",
          "name": "stdout",
          "text": [
            "[mcmc]  - Convergence of means: R-1 = 0.016206 after 1664 accepted steps\n"
          ]
        },
        {
          "output_type": "stream",
          "name": "stderr",
          "text": [
            "INFO:mcmc: - Updated covariance matrix of proposal pdf.\n"
          ]
        },
        {
          "output_type": "stream",
          "name": "stdout",
          "text": [
            "[mcmc]  - Updated covariance matrix of proposal pdf.\n"
          ]
        },
        {
          "output_type": "stream",
          "name": "stderr",
          "text": [
            "INFO:mcmc:Learn + convergence test @ 2160 samples accepted.\n"
          ]
        },
        {
          "output_type": "stream",
          "name": "stdout",
          "text": [
            "[mcmc] Learn + convergence test @ 2160 samples accepted.\n"
          ]
        },
        {
          "output_type": "stream",
          "name": "stderr",
          "text": [
            "INFO:mcmc: - Acceptance rate: 0.304\n"
          ]
        },
        {
          "output_type": "stream",
          "name": "stdout",
          "text": [
            "[mcmc]  - Acceptance rate: 0.304\n"
          ]
        },
        {
          "output_type": "stream",
          "name": "stderr",
          "text": [
            "INFO:mcmc: - Convergence of means: R-1 = 0.012483 after 1728 accepted steps\n"
          ]
        },
        {
          "output_type": "stream",
          "name": "stdout",
          "text": [
            "[mcmc]  - Convergence of means: R-1 = 0.012483 after 1728 accepted steps\n"
          ]
        },
        {
          "output_type": "stream",
          "name": "stderr",
          "text": [
            "INFO:mcmc: - Updated covariance matrix of proposal pdf.\n"
          ]
        },
        {
          "output_type": "stream",
          "name": "stdout",
          "text": [
            "[mcmc]  - Updated covariance matrix of proposal pdf.\n"
          ]
        },
        {
          "output_type": "stream",
          "name": "stderr",
          "text": [
            "INFO:mcmc:Learn + convergence test @ 2240 samples accepted.\n"
          ]
        },
        {
          "output_type": "stream",
          "name": "stdout",
          "text": [
            "[mcmc] Learn + convergence test @ 2240 samples accepted.\n"
          ]
        },
        {
          "output_type": "stream",
          "name": "stderr",
          "text": [
            "INFO:mcmc: - Acceptance rate: 0.302\n"
          ]
        },
        {
          "output_type": "stream",
          "name": "stdout",
          "text": [
            "[mcmc]  - Acceptance rate: 0.302\n"
          ]
        },
        {
          "output_type": "stream",
          "name": "stderr",
          "text": [
            "INFO:mcmc: - Convergence of means: R-1 = 0.013025 after 1792 accepted steps\n"
          ]
        },
        {
          "output_type": "stream",
          "name": "stdout",
          "text": [
            "[mcmc]  - Convergence of means: R-1 = 0.013025 after 1792 accepted steps\n"
          ]
        },
        {
          "output_type": "stream",
          "name": "stderr",
          "text": [
            "INFO:mcmc: - Updated covariance matrix of proposal pdf.\n"
          ]
        },
        {
          "output_type": "stream",
          "name": "stdout",
          "text": [
            "[mcmc]  - Updated covariance matrix of proposal pdf.\n"
          ]
        },
        {
          "output_type": "stream",
          "name": "stderr",
          "text": [
            "INFO:mcmc:Learn + convergence test @ 2320 samples accepted.\n"
          ]
        },
        {
          "output_type": "stream",
          "name": "stdout",
          "text": [
            "[mcmc] Learn + convergence test @ 2320 samples accepted.\n"
          ]
        },
        {
          "output_type": "stream",
          "name": "stderr",
          "text": [
            "INFO:mcmc: - Acceptance rate: 0.303\n"
          ]
        },
        {
          "output_type": "stream",
          "name": "stdout",
          "text": [
            "[mcmc]  - Acceptance rate: 0.303\n"
          ]
        },
        {
          "output_type": "stream",
          "name": "stderr",
          "text": [
            "INFO:mcmc: - Convergence of means: R-1 = 0.012437 after 1856 accepted steps\n"
          ]
        },
        {
          "output_type": "stream",
          "name": "stdout",
          "text": [
            "[mcmc]  - Convergence of means: R-1 = 0.012437 after 1856 accepted steps\n"
          ]
        },
        {
          "output_type": "stream",
          "name": "stderr",
          "text": [
            "INFO:mcmc: - Updated covariance matrix of proposal pdf.\n"
          ]
        },
        {
          "output_type": "stream",
          "name": "stdout",
          "text": [
            "[mcmc]  - Updated covariance matrix of proposal pdf.\n"
          ]
        },
        {
          "output_type": "stream",
          "name": "stderr",
          "text": [
            "INFO:mcmc:Learn + convergence test @ 2400 samples accepted.\n"
          ]
        },
        {
          "output_type": "stream",
          "name": "stdout",
          "text": [
            "[mcmc] Learn + convergence test @ 2400 samples accepted.\n"
          ]
        },
        {
          "output_type": "stream",
          "name": "stderr",
          "text": [
            "INFO:mcmc: - Acceptance rate: 0.303\n"
          ]
        },
        {
          "output_type": "stream",
          "name": "stdout",
          "text": [
            "[mcmc]  - Acceptance rate: 0.303\n"
          ]
        },
        {
          "output_type": "stream",
          "name": "stderr",
          "text": [
            "INFO:mcmc: - Convergence of means: R-1 = 0.012878 after 1920 accepted steps\n"
          ]
        },
        {
          "output_type": "stream",
          "name": "stdout",
          "text": [
            "[mcmc]  - Convergence of means: R-1 = 0.012878 after 1920 accepted steps\n"
          ]
        },
        {
          "output_type": "stream",
          "name": "stderr",
          "text": [
            "INFO:mcmc: - Updated covariance matrix of proposal pdf.\n"
          ]
        },
        {
          "output_type": "stream",
          "name": "stdout",
          "text": [
            "[mcmc]  - Updated covariance matrix of proposal pdf.\n"
          ]
        },
        {
          "output_type": "stream",
          "name": "stderr",
          "text": [
            "INFO:mcmc:Learn + convergence test @ 2480 samples accepted.\n"
          ]
        },
        {
          "output_type": "stream",
          "name": "stdout",
          "text": [
            "[mcmc] Learn + convergence test @ 2480 samples accepted.\n"
          ]
        },
        {
          "output_type": "stream",
          "name": "stderr",
          "text": [
            "INFO:mcmc: - Acceptance rate: 0.303\n"
          ]
        },
        {
          "output_type": "stream",
          "name": "stdout",
          "text": [
            "[mcmc]  - Acceptance rate: 0.303\n"
          ]
        },
        {
          "output_type": "stream",
          "name": "stderr",
          "text": [
            "INFO:mcmc: - Convergence of means: R-1 = 0.010965 after 1984 accepted steps\n"
          ]
        },
        {
          "output_type": "stream",
          "name": "stdout",
          "text": [
            "[mcmc]  - Convergence of means: R-1 = 0.010965 after 1984 accepted steps\n"
          ]
        },
        {
          "output_type": "stream",
          "name": "stderr",
          "text": [
            "INFO:mcmc: - Updated covariance matrix of proposal pdf.\n"
          ]
        },
        {
          "output_type": "stream",
          "name": "stdout",
          "text": [
            "[mcmc]  - Updated covariance matrix of proposal pdf.\n"
          ]
        },
        {
          "output_type": "stream",
          "name": "stderr",
          "text": [
            "INFO:mcmc:Learn + convergence test @ 2560 samples accepted.\n"
          ]
        },
        {
          "output_type": "stream",
          "name": "stdout",
          "text": [
            "[mcmc] Learn + convergence test @ 2560 samples accepted.\n"
          ]
        },
        {
          "output_type": "stream",
          "name": "stderr",
          "text": [
            "INFO:mcmc: - Acceptance rate: 0.305\n"
          ]
        },
        {
          "output_type": "stream",
          "name": "stdout",
          "text": [
            "[mcmc]  - Acceptance rate: 0.305\n"
          ]
        },
        {
          "output_type": "stream",
          "name": "stderr",
          "text": [
            "INFO:mcmc: - Convergence of means: R-1 = 0.008932 after 2048 accepted steps\n"
          ]
        },
        {
          "output_type": "stream",
          "name": "stdout",
          "text": [
            "[mcmc]  - Convergence of means: R-1 = 0.008932 after 2048 accepted steps\n"
          ]
        },
        {
          "output_type": "stream",
          "name": "stderr",
          "text": [
            "INFO:mcmc: - Updated covariance matrix of proposal pdf.\n"
          ]
        },
        {
          "output_type": "stream",
          "name": "stdout",
          "text": [
            "[mcmc]  - Updated covariance matrix of proposal pdf.\n"
          ]
        },
        {
          "output_type": "stream",
          "name": "stderr",
          "text": [
            "INFO:mcmc:Learn + convergence test @ 2640 samples accepted.\n"
          ]
        },
        {
          "output_type": "stream",
          "name": "stdout",
          "text": [
            "[mcmc] Learn + convergence test @ 2640 samples accepted.\n"
          ]
        },
        {
          "output_type": "stream",
          "name": "stderr",
          "text": [
            "INFO:mcmc: - Acceptance rate: 0.305\n"
          ]
        },
        {
          "output_type": "stream",
          "name": "stdout",
          "text": [
            "[mcmc]  - Acceptance rate: 0.305\n"
          ]
        },
        {
          "output_type": "stream",
          "name": "stderr",
          "text": [
            "INFO:mcmc: - Convergence of means: R-1 = 0.004586 after 2112 accepted steps\n"
          ]
        },
        {
          "output_type": "stream",
          "name": "stdout",
          "text": [
            "[mcmc]  - Convergence of means: R-1 = 0.004586 after 2112 accepted steps\n"
          ]
        },
        {
          "output_type": "stream",
          "name": "stderr",
          "text": [
            "INFO:mcmc: - Convergence of bounds: R-1 = 0.067986 after 2640 accepted steps\n"
          ]
        },
        {
          "output_type": "stream",
          "name": "stdout",
          "text": [
            "[mcmc]  - Convergence of bounds: R-1 = 0.067986 after 2640 accepted steps\n"
          ]
        },
        {
          "output_type": "stream",
          "name": "stderr",
          "text": [
            "INFO:mcmc:The run has converged!\n"
          ]
        },
        {
          "output_type": "stream",
          "name": "stdout",
          "text": [
            "[mcmc] The run has converged!\n"
          ]
        },
        {
          "output_type": "stream",
          "name": "stderr",
          "text": [
            "INFO:mcmc:Sampling complete after 2640 accepted steps.\n"
          ]
        },
        {
          "output_type": "stream",
          "name": "stdout",
          "text": [
            "[mcmc] Sampling complete after 2640 accepted steps.\n"
          ]
        }
      ]
    },
    {
      "cell_type": "markdown",
      "source": [
        "To run a posterior maximization process after the Monte Carlo run, the simplest way is to repeat the run call with a minimize=True flag, saving the return values with a different name:\n",
        "\n"
      ],
      "metadata": {
        "id": "6F1_mPNkN8GQ"
      }
    },
    {
      "cell_type": "code",
      "source": [
        "# Export the results to GetDist\n",
        "gd_sample = sampler.products(to_getdist=True)[\"sample\"]"
      ],
      "metadata": {
        "colab": {
          "base_uri": "https://localhost:8080/"
        },
        "id": "HFxTpf4bSWjb",
        "outputId": "a1600508-a0e6-4222-f9a2-047361ddf42e"
      },
      "execution_count": 14,
      "outputs": [
        {
          "output_type": "stream",
          "name": "stderr",
          "text": [
            "WARNING:mcmc:When combining chains, it is recommended to remove some initial fraction, e.g. 'skip_samples=0.3'\n"
          ]
        },
        {
          "output_type": "stream",
          "name": "stdout",
          "text": [
            "[mcmc] *WARNING* When combining chains, it is recommended to remove some initial fraction, e.g. 'skip_samples=0.3'\n"
          ]
        },
        {
          "output_type": "stream",
          "name": "stderr",
          "text": [
            "WARNING:root:outlier fraction 0.004166666666666667 \n"
          ]
        },
        {
          "output_type": "stream",
          "name": "stdout",
          "text": [
            "[root] *WARNING* outlier fraction 0.004166666666666667 \n"
          ]
        }
      ]
    },
    {
      "cell_type": "code",
      "source": [
        "# Analyze and plot\n",
        "mean = gd_sample.getMeans()[:2]\n",
        "covmat = gd_sample.getCovMat().matrix[:2, :2]\n",
        "print(\"Mean:\")\n",
        "print(mean)\n",
        "print(\"Covariance matrix:\")\n",
        "print(covmat)\n",
        "# %matplotlib inline  # uncomment if running from the Jupyter notebook"
      ],
      "metadata": {
        "colab": {
          "base_uri": "https://localhost:8080/"
        },
        "id": "V3RwldLvN1JX",
        "outputId": "33d6bc47-e129-414e-ae1a-ea8df487e2c2"
      },
      "execution_count": 15,
      "outputs": [
        {
          "output_type": "stream",
          "name": "stdout",
          "text": [
            "Mean:\n",
            "[ 0.20072138 -0.00144083]\n",
            "Covariance matrix:\n",
            "[[0.08507264 0.03801191]\n",
            " [0.03801191 0.16293489]]\n"
          ]
        }
      ]
    },
    {
      "cell_type": "code",
      "source": [
        "import getdist.plots as gdplt\n",
        "\n",
        "gdplot = gdplt.get_subplot_plotter()\n",
        "gdplot.triangle_plot(gd_sample, [\"a\", \"b\"], filled=True)\n"
      ],
      "metadata": {
        "colab": {
          "base_uri": "https://localhost:8080/",
          "height": 791
        },
        "id": "U-ECl1rXScVO",
        "outputId": "d18fa61a-a619-4978-d42d-481c51c3e539"
      },
      "execution_count": 16,
      "outputs": [
        {
          "output_type": "display_data",
          "data": {
            "text/plain": [
              "<Figure size 400x400 with 3 Axes>"
            ],
            "image/png": "[encoded data removed]"
          },
          "metadata": {
            "image/png": {
              "width": 387,
              "height": 387
            }
          }
        },
        {
          "output_type": "display_data",
          "data": {
            "text/plain": [
              "<Figure size 400x400 with 3 Axes>"
            ],
            "image/png": "[encoded data removed]"
          },
          "metadata": {
            "image/png": {
              "width": 387,
              "height": 387
            }
          }
        }
      ]
    },
    {
      "cell_type": "code",
      "source": [],
      "metadata": {
        "id": "8NZABjPPdIW7"
      },
      "execution_count": null,
      "outputs": []
    }
  ]
}