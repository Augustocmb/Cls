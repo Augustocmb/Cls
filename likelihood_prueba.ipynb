{
  "nbformat": 4,
  "nbformat_minor": 0,
  "metadata": {
    "colab": {
      "provenance": [],
      "authorship_tag": "ABX9TyNKzPVocuKIzQ2hfELqflwf",
      "include_colab_link": true
    },
    "kernelspec": {
      "name": "python3",
      "display_name": "Python 3"
    },
    "language_info": {
      "name": "python"
    }
  },
  "cells": [
    {
      "cell_type": "markdown",
      "metadata": {
        "id": "view-in-github",
        "colab_type": "text"
      },
      "source": [
        "<a href=\"https://colab.research.google.com/github/Augustocmb/Cls/blob/main/likelihood_prueba.ipynb\" target=\"_parent\"><img src=\"https://colab.research.google.com/assets/colab-badge.svg\" alt=\"Open In Colab\"/></a>"
      ]
    },
    {
      "cell_type": "code",
      "execution_count": 23,
      "metadata": {
        "colab": {
          "base_uri": "https://localhost:8080/"
        },
        "id": "tzeuomRqXAIu",
        "outputId": "c64dab8a-cf23-424d-d7d7-fedf793d6539"
      },
      "outputs": [
        {
          "output_type": "stream",
          "name": "stdout",
          "text": [
            "Requirement already satisfied: notebook in /usr/local/lib/python3.10/dist-packages (6.5.5)\n",
            "Requirement already satisfied: jinja2 in /usr/local/lib/python3.10/dist-packages (from notebook) (3.1.4)\n",
            "Requirement already satisfied: tornado>=6.1 in /usr/local/lib/python3.10/dist-packages (from notebook) (6.3.3)\n",
            "Requirement already satisfied: pyzmq<25,>=17 in /usr/local/lib/python3.10/dist-packages (from notebook) (24.0.1)\n",
            "Requirement already satisfied: argon2-cffi in /usr/local/lib/python3.10/dist-packages (from notebook) (23.1.0)\n",
            "Requirement already satisfied: traitlets>=4.2.1 in /usr/local/lib/python3.10/dist-packages (from notebook) (5.7.1)\n",
            "Requirement already satisfied: jupyter-core>=4.6.1 in /usr/local/lib/python3.10/dist-packages (from notebook) (5.7.2)\n",
            "Requirement already satisfied: jupyter-client<8,>=5.3.4 in /usr/local/lib/python3.10/dist-packages (from notebook) (6.1.12)\n",
            "Requirement already satisfied: ipython-genutils in /usr/local/lib/python3.10/dist-packages (from notebook) (0.2.0)\n",
            "Requirement already satisfied: nbformat in /usr/local/lib/python3.10/dist-packages (from notebook) (5.10.4)\n",
            "Requirement already satisfied: nbconvert>=5 in /usr/local/lib/python3.10/dist-packages (from notebook) (6.5.4)\n",
            "Requirement already satisfied: nest-asyncio>=1.5 in /usr/local/lib/python3.10/dist-packages (from notebook) (1.6.0)\n",
            "Requirement already satisfied: ipykernel in /usr/local/lib/python3.10/dist-packages (from notebook) (5.5.6)\n",
            "Requirement already satisfied: Send2Trash>=1.8.0 in /usr/local/lib/python3.10/dist-packages (from notebook) (1.8.3)\n",
            "Requirement already satisfied: terminado>=0.8.3 in /usr/local/lib/python3.10/dist-packages (from notebook) (0.18.1)\n",
            "Requirement already satisfied: prometheus-client in /usr/local/lib/python3.10/dist-packages (from notebook) (0.20.0)\n",
            "Requirement already satisfied: nbclassic>=0.4.7 in /usr/local/lib/python3.10/dist-packages (from notebook) (1.1.0)\n",
            "Requirement already satisfied: python-dateutil>=2.1 in /usr/local/lib/python3.10/dist-packages (from jupyter-client<8,>=5.3.4->notebook) (2.8.2)\n",
            "Requirement already satisfied: platformdirs>=2.5 in /usr/local/lib/python3.10/dist-packages (from jupyter-core>=4.6.1->notebook) (4.2.2)\n",
            "Requirement already satisfied: notebook-shim>=0.2.3 in /usr/local/lib/python3.10/dist-packages (from nbclassic>=0.4.7->notebook) (0.2.4)\n",
            "Requirement already satisfied: lxml in /usr/local/lib/python3.10/dist-packages (from nbconvert>=5->notebook) (4.9.4)\n",
            "Requirement already satisfied: beautifulsoup4 in /usr/local/lib/python3.10/dist-packages (from nbconvert>=5->notebook) (4.12.3)\n",
            "Requirement already satisfied: bleach in /usr/local/lib/python3.10/dist-packages (from nbconvert>=5->notebook) (6.1.0)\n",
            "Requirement already satisfied: defusedxml in /usr/local/lib/python3.10/dist-packages (from nbconvert>=5->notebook) (0.7.1)\n",
            "Requirement already satisfied: entrypoints>=0.2.2 in /usr/local/lib/python3.10/dist-packages (from nbconvert>=5->notebook) (0.4)\n",
            "Requirement already satisfied: jupyterlab-pygments in /usr/local/lib/python3.10/dist-packages (from nbconvert>=5->notebook) (0.3.0)\n",
            "Requirement already satisfied: MarkupSafe>=2.0 in /usr/local/lib/python3.10/dist-packages (from nbconvert>=5->notebook) (2.1.5)\n",
            "Requirement already satisfied: mistune<2,>=0.8.1 in /usr/local/lib/python3.10/dist-packages (from nbconvert>=5->notebook) (0.8.4)\n",
            "Requirement already satisfied: nbclient>=0.5.0 in /usr/local/lib/python3.10/dist-packages (from nbconvert>=5->notebook) (0.10.0)\n",
            "Requirement already satisfied: packaging in /usr/local/lib/python3.10/dist-packages (from nbconvert>=5->notebook) (24.1)\n",
            "Requirement already satisfied: pandocfilters>=1.4.1 in /usr/local/lib/python3.10/dist-packages (from nbconvert>=5->notebook) (1.5.1)\n",
            "Requirement already satisfied: pygments>=2.4.1 in /usr/local/lib/python3.10/dist-packages (from nbconvert>=5->notebook) (2.16.1)\n",
            "Requirement already satisfied: tinycss2 in /usr/local/lib/python3.10/dist-packages (from nbconvert>=5->notebook) (1.3.0)\n",
            "Requirement already satisfied: fastjsonschema>=2.15 in /usr/local/lib/python3.10/dist-packages (from nbformat->notebook) (2.20.0)\n",
            "Requirement already satisfied: jsonschema>=2.6 in /usr/local/lib/python3.10/dist-packages (from nbformat->notebook) (4.23.0)\n",
            "Requirement already satisfied: ptyprocess in /usr/local/lib/python3.10/dist-packages (from terminado>=0.8.3->notebook) (0.7.0)\n",
            "Requirement already satisfied: argon2-cffi-bindings in /usr/local/lib/python3.10/dist-packages (from argon2-cffi->notebook) (21.2.0)\n",
            "Requirement already satisfied: ipython>=5.0.0 in /usr/local/lib/python3.10/dist-packages (from ipykernel->notebook) (7.34.0)\n",
            "Requirement already satisfied: setuptools>=18.5 in /usr/local/lib/python3.10/dist-packages (from ipython>=5.0.0->ipykernel->notebook) (71.0.4)\n",
            "Requirement already satisfied: jedi>=0.16 in /usr/local/lib/python3.10/dist-packages (from ipython>=5.0.0->ipykernel->notebook) (0.19.1)\n",
            "Requirement already satisfied: decorator in /usr/local/lib/python3.10/dist-packages (from ipython>=5.0.0->ipykernel->notebook) (4.4.2)\n",
            "Requirement already satisfied: pickleshare in /usr/local/lib/python3.10/dist-packages (from ipython>=5.0.0->ipykernel->notebook) (0.7.5)\n",
            "Requirement already satisfied: prompt-toolkit!=3.0.0,!=3.0.1,<3.1.0,>=2.0.0 in /usr/local/lib/python3.10/dist-packages (from ipython>=5.0.0->ipykernel->notebook) (3.0.47)\n",
            "Requirement already satisfied: backcall in /usr/local/lib/python3.10/dist-packages (from ipython>=5.0.0->ipykernel->notebook) (0.2.0)\n",
            "Requirement already satisfied: matplotlib-inline in /usr/local/lib/python3.10/dist-packages (from ipython>=5.0.0->ipykernel->notebook) (0.1.7)\n",
            "Requirement already satisfied: pexpect>4.3 in /usr/local/lib/python3.10/dist-packages (from ipython>=5.0.0->ipykernel->notebook) (4.9.0)\n",
            "Requirement already satisfied: attrs>=22.2.0 in /usr/local/lib/python3.10/dist-packages (from jsonschema>=2.6->nbformat->notebook) (24.2.0)\n",
            "Requirement already satisfied: jsonschema-specifications>=2023.03.6 in /usr/local/lib/python3.10/dist-packages (from jsonschema>=2.6->nbformat->notebook) (2023.12.1)\n",
            "Requirement already satisfied: referencing>=0.28.4 in /usr/local/lib/python3.10/dist-packages (from jsonschema>=2.6->nbformat->notebook) (0.35.1)\n",
            "Requirement already satisfied: rpds-py>=0.7.1 in /usr/local/lib/python3.10/dist-packages (from jsonschema>=2.6->nbformat->notebook) (0.20.0)\n",
            "Requirement already satisfied: jupyter-server<3,>=1.8 in /usr/local/lib/python3.10/dist-packages (from notebook-shim>=0.2.3->nbclassic>=0.4.7->notebook) (1.24.0)\n",
            "Requirement already satisfied: six>=1.5 in /usr/local/lib/python3.10/dist-packages (from python-dateutil>=2.1->jupyter-client<8,>=5.3.4->notebook) (1.16.0)\n",
            "Requirement already satisfied: cffi>=1.0.1 in /usr/local/lib/python3.10/dist-packages (from argon2-cffi-bindings->argon2-cffi->notebook) (1.17.0)\n",
            "Requirement already satisfied: soupsieve>1.2 in /usr/local/lib/python3.10/dist-packages (from beautifulsoup4->nbconvert>=5->notebook) (2.6)\n",
            "Requirement already satisfied: webencodings in /usr/local/lib/python3.10/dist-packages (from bleach->nbconvert>=5->notebook) (0.5.1)\n",
            "Requirement already satisfied: pycparser in /usr/local/lib/python3.10/dist-packages (from cffi>=1.0.1->argon2-cffi-bindings->argon2-cffi->notebook) (2.22)\n",
            "Requirement already satisfied: parso<0.9.0,>=0.8.3 in /usr/local/lib/python3.10/dist-packages (from jedi>=0.16->ipython>=5.0.0->ipykernel->notebook) (0.8.4)\n",
            "Requirement already satisfied: anyio<4,>=3.1.0 in /usr/local/lib/python3.10/dist-packages (from jupyter-server<3,>=1.8->notebook-shim>=0.2.3->nbclassic>=0.4.7->notebook) (3.7.1)\n",
            "Requirement already satisfied: websocket-client in /usr/local/lib/python3.10/dist-packages (from jupyter-server<3,>=1.8->notebook-shim>=0.2.3->nbclassic>=0.4.7->notebook) (1.8.0)\n",
            "Requirement already satisfied: wcwidth in /usr/local/lib/python3.10/dist-packages (from prompt-toolkit!=3.0.0,!=3.0.1,<3.1.0,>=2.0.0->ipython>=5.0.0->ipykernel->notebook) (0.2.13)\n",
            "Requirement already satisfied: idna>=2.8 in /usr/local/lib/python3.10/dist-packages (from anyio<4,>=3.1.0->jupyter-server<3,>=1.8->notebook-shim>=0.2.3->nbclassic>=0.4.7->notebook) (3.8)\n",
            "Requirement already satisfied: sniffio>=1.1 in /usr/local/lib/python3.10/dist-packages (from anyio<4,>=3.1.0->jupyter-server<3,>=1.8->notebook-shim>=0.2.3->nbclassic>=0.4.7->notebook) (1.3.1)\n",
            "Requirement already satisfied: exceptiongroup in /usr/local/lib/python3.10/dist-packages (from anyio<4,>=3.1.0->jupyter-server<3,>=1.8->notebook-shim>=0.2.3->nbclassic>=0.4.7->notebook) (1.2.2)\n"
          ]
        }
      ],
      "source": [
        "!pip install notebook"
      ]
    },
    {
      "cell_type": "markdown",
      "source": [
        "In this colab I am gonna to do a posteriori of a Gaussian likelihood"
      ],
      "metadata": {
        "id": "7F33odfMXDSY"
      }
    },
    {
      "cell_type": "code",
      "source": [
        "! pip install cobaya\n",
        "! pip install getdist"
      ],
      "metadata": {
        "colab": {
          "base_uri": "https://localhost:8080/"
        },
        "id": "nBwSyBOrXUE5",
        "outputId": "248f7364-d834-4383-d7ba-fc7d0dfc92de"
      },
      "execution_count": 24,
      "outputs": [
        {
          "output_type": "stream",
          "name": "stdout",
          "text": [
            "Requirement already satisfied: cobaya in /usr/local/lib/python3.10/dist-packages (3.5.4)\n",
            "Requirement already satisfied: numpy>=1.17.0 in /usr/local/lib/python3.10/dist-packages (from cobaya) (1.26.4)\n",
            "Requirement already satisfied: scipy>=1.5 in /usr/local/lib/python3.10/dist-packages (from cobaya) (1.13.1)\n",
            "Requirement already satisfied: pandas>=1.0.1 in /usr/local/lib/python3.10/dist-packages (from cobaya) (2.1.4)\n",
            "Requirement already satisfied: PyYAML>=5.1 in /usr/local/lib/python3.10/dist-packages (from cobaya) (6.0.2)\n",
            "Requirement already satisfied: requests>=2.18 in /usr/local/lib/python3.10/dist-packages (from cobaya) (2.32.3)\n",
            "Requirement already satisfied: py-bobyqa>=1.4 in /usr/local/lib/python3.10/dist-packages (from cobaya) (1.4.1)\n",
            "Requirement already satisfied: GetDist>=1.3.1 in /usr/local/lib/python3.10/dist-packages (from cobaya) (1.5.2)\n",
            "Requirement already satisfied: fuzzywuzzy>=0.17 in /usr/local/lib/python3.10/dist-packages (from cobaya) (0.18.0)\n",
            "Requirement already satisfied: packaging in /usr/local/lib/python3.10/dist-packages (from cobaya) (24.1)\n",
            "Requirement already satisfied: tqdm in /usr/local/lib/python3.10/dist-packages (from cobaya) (4.66.5)\n",
            "Requirement already satisfied: portalocker>=2.3.0 in /usr/local/lib/python3.10/dist-packages (from cobaya) (2.10.1)\n",
            "Requirement already satisfied: dill>=0.3.3 in /usr/local/lib/python3.10/dist-packages (from cobaya) (0.3.8)\n",
            "Requirement already satisfied: matplotlib!=3.5.0,>=2.2.0 in /usr/local/lib/python3.10/dist-packages (from GetDist>=1.3.1->cobaya) (3.7.1)\n",
            "Requirement already satisfied: python-dateutil>=2.8.2 in /usr/local/lib/python3.10/dist-packages (from pandas>=1.0.1->cobaya) (2.8.2)\n",
            "Requirement already satisfied: pytz>=2020.1 in /usr/local/lib/python3.10/dist-packages (from pandas>=1.0.1->cobaya) (2024.1)\n",
            "Requirement already satisfied: tzdata>=2022.1 in /usr/local/lib/python3.10/dist-packages (from pandas>=1.0.1->cobaya) (2024.1)\n",
            "Requirement already satisfied: setuptools in /usr/local/lib/python3.10/dist-packages (from py-bobyqa>=1.4->cobaya) (71.0.4)\n",
            "Requirement already satisfied: charset-normalizer<4,>=2 in /usr/local/lib/python3.10/dist-packages (from requests>=2.18->cobaya) (3.3.2)\n",
            "Requirement already satisfied: idna<4,>=2.5 in /usr/local/lib/python3.10/dist-packages (from requests>=2.18->cobaya) (3.8)\n",
            "Requirement already satisfied: urllib3<3,>=1.21.1 in /usr/local/lib/python3.10/dist-packages (from requests>=2.18->cobaya) (2.0.7)\n",
            "Requirement already satisfied: certifi>=2017.4.17 in /usr/local/lib/python3.10/dist-packages (from requests>=2.18->cobaya) (2024.8.30)\n",
            "Requirement already satisfied: contourpy>=1.0.1 in /usr/local/lib/python3.10/dist-packages (from matplotlib!=3.5.0,>=2.2.0->GetDist>=1.3.1->cobaya) (1.3.0)\n",
            "Requirement already satisfied: cycler>=0.10 in /usr/local/lib/python3.10/dist-packages (from matplotlib!=3.5.0,>=2.2.0->GetDist>=1.3.1->cobaya) (0.12.1)\n",
            "Requirement already satisfied: fonttools>=4.22.0 in /usr/local/lib/python3.10/dist-packages (from matplotlib!=3.5.0,>=2.2.0->GetDist>=1.3.1->cobaya) (4.53.1)\n",
            "Requirement already satisfied: kiwisolver>=1.0.1 in /usr/local/lib/python3.10/dist-packages (from matplotlib!=3.5.0,>=2.2.0->GetDist>=1.3.1->cobaya) (1.4.5)\n",
            "Requirement already satisfied: pillow>=6.2.0 in /usr/local/lib/python3.10/dist-packages (from matplotlib!=3.5.0,>=2.2.0->GetDist>=1.3.1->cobaya) (9.4.0)\n",
            "Requirement already satisfied: pyparsing>=2.3.1 in /usr/local/lib/python3.10/dist-packages (from matplotlib!=3.5.0,>=2.2.0->GetDist>=1.3.1->cobaya) (3.1.4)\n",
            "Requirement already satisfied: six>=1.5 in /usr/local/lib/python3.10/dist-packages (from python-dateutil>=2.8.2->pandas>=1.0.1->cobaya) (1.16.0)\n",
            "Requirement already satisfied: getdist in /usr/local/lib/python3.10/dist-packages (1.5.2)\n",
            "Requirement already satisfied: numpy>=1.23.0 in /usr/local/lib/python3.10/dist-packages (from getdist) (1.26.4)\n",
            "Requirement already satisfied: matplotlib!=3.5.0,>=2.2.0 in /usr/local/lib/python3.10/dist-packages (from getdist) (3.7.1)\n",
            "Requirement already satisfied: scipy>=1.5 in /usr/local/lib/python3.10/dist-packages (from getdist) (1.13.1)\n",
            "Requirement already satisfied: PyYAML>=5.1 in /usr/local/lib/python3.10/dist-packages (from getdist) (6.0.2)\n",
            "Requirement already satisfied: packaging in /usr/local/lib/python3.10/dist-packages (from getdist) (24.1)\n",
            "Requirement already satisfied: contourpy>=1.0.1 in /usr/local/lib/python3.10/dist-packages (from matplotlib!=3.5.0,>=2.2.0->getdist) (1.3.0)\n",
            "Requirement already satisfied: cycler>=0.10 in /usr/local/lib/python3.10/dist-packages (from matplotlib!=3.5.0,>=2.2.0->getdist) (0.12.1)\n",
            "Requirement already satisfied: fonttools>=4.22.0 in /usr/local/lib/python3.10/dist-packages (from matplotlib!=3.5.0,>=2.2.0->getdist) (4.53.1)\n",
            "Requirement already satisfied: kiwisolver>=1.0.1 in /usr/local/lib/python3.10/dist-packages (from matplotlib!=3.5.0,>=2.2.0->getdist) (1.4.5)\n",
            "Requirement already satisfied: pillow>=6.2.0 in /usr/local/lib/python3.10/dist-packages (from matplotlib!=3.5.0,>=2.2.0->getdist) (9.4.0)\n",
            "Requirement already satisfied: pyparsing>=2.3.1 in /usr/local/lib/python3.10/dist-packages (from matplotlib!=3.5.0,>=2.2.0->getdist) (3.1.4)\n",
            "Requirement already satisfied: python-dateutil>=2.7 in /usr/local/lib/python3.10/dist-packages (from matplotlib!=3.5.0,>=2.2.0->getdist) (2.8.2)\n",
            "Requirement already satisfied: six>=1.5 in /usr/local/lib/python3.10/dist-packages (from python-dateutil>=2.7->matplotlib!=3.5.0,>=2.2.0->getdist) (1.16.0)\n"
          ]
        }
      ]
    },
    {
      "cell_type": "code",
      "source": [
        "# Importing libraries\n",
        "# Configuration\n",
        "%matplotlib inline\n",
        "%config InlineBackend.figure_format = 'retina'\n",
        "import sys, platform, os\n",
        "try:\n",
        "    from cobaya import run\n",
        "except ImportError:\n",
        "    sys.path.insert(0,'../../cobaya')\n",
        "    from cobaya import run\n",
        "import numpy as np\n",
        "import matplotlib.pyplot as plt\n",
        "import getdist\n",
        "from getdist import plots, MCSamples"
      ],
      "metadata": {
        "id": "D95-kF6hXdkh"
      },
      "execution_count": 48,
      "outputs": []
    },
    {
      "cell_type": "code",
      "source": [],
      "metadata": {
        "id": "fok4FE5-X4jT"
      },
      "execution_count": 30,
      "outputs": []
    },
    {
      "cell_type": "markdown",
      "source": [
        "Generating the Gaussian likelihood and priors for its parameters"
      ],
      "metadata": {
        "id": "HyL8muYQX-Sj"
      }
    },
    {
      "cell_type": "code",
      "source": [
        "from scipy import stats\n",
        "#Defining the likelihood\n",
        "def hyp_likelihood(x,y):\n",
        "  return stats.norm.logpdf(np.sqrt(x**2 - y**2) ,loc=0,scale=2)\n",
        "info={'likelihood':{'hyp': hyp_likelihood}}"
      ],
      "metadata": {
        "id": "S9vUdXjmYHTE"
      },
      "execution_count": 49,
      "outputs": []
    },
    {
      "cell_type": "code",
      "source": [],
      "metadata": {
        "id": "fAkMpHpYZSXp"
      },
      "execution_count": 39,
      "outputs": []
    },
    {
      "cell_type": "markdown",
      "source": [
        "Parameters"
      ],
      "metadata": {
        "id": "s4mzLxNbaEDK"
      }
    },
    {
      "cell_type": "code",
      "source": [
        "info['params']={\n",
        "    \"x\": {\"prior\": {\"min\": 0, \"max\": 1}, \"ref\": 0.5, \"proposal\": 0.01},\n",
        "    \"y\": {\"prior\": {\"min\": 0, \"max\": 1}, \"ref\": 0.5, \"proposal\": 0.01}}"
      ],
      "metadata": {
        "id": "NypSXoW3aGzZ"
      },
      "execution_count": 58,
      "outputs": []
    },
    {
      "cell_type": "code",
      "source": [],
      "metadata": {
        "id": "ka9Nb0a6ap1b"
      },
      "execution_count": 58,
      "outputs": []
    },
    {
      "cell_type": "markdown",
      "source": [
        "Defining derived parameters"
      ],
      "metadata": {
        "id": "G_Rmz4ipc1NP"
      }
    },
    {
      "cell_type": "code",
      "source": [
        "get_theta= lambda x,y: np.arctan(x/y)\n",
        "info[\"params\"][\"theta\"] = {\"derived\": get_theta,\n",
        "                           \"latex\": r\"\\theta\", \"min\": 0, \"max\": np.pi/2}"
      ],
      "metadata": {
        "id": "_0ohvIk7dBg7"
      },
      "execution_count": 59,
      "outputs": []
    },
    {
      "cell_type": "code",
      "source": [
        "info[\"sampler\"] = {\"mcmc\": {\"Rminus1_stop\": 0.001, \"max_tries\": 1000}}\n",
        "\n",
        "from cobaya import run\n",
        "updated_info, sampler = run(info)"
      ],
      "metadata": {
        "colab": {
          "base_uri": "https://localhost:8080/"
        },
        "id": "j3lIToPNljdd",
        "outputId": "b2c59e9a-0a12-4e20-99c8-fa7e87ea1399"
      },
      "execution_count": 60,
      "outputs": [
        {
          "output_type": "stream",
          "name": "stderr",
          "text": [
            "INFO:hyp:Initialized external likelihood.\n"
          ]
        },
        {
          "output_type": "stream",
          "name": "stdout",
          "text": [
            "[hyp] Initialized external likelihood.\n"
          ]
        },
        {
          "output_type": "stream",
          "name": "stderr",
          "text": [
            "INFO:mcmc:Getting initial point... (this may take a few seconds)\n"
          ]
        },
        {
          "output_type": "stream",
          "name": "stdout",
          "text": [
            "[mcmc] Getting initial point... (this may take a few seconds)\n"
          ]
        },
        {
          "output_type": "stream",
          "name": "stderr",
          "text": [
            "INFO:mcmc:Initial point: x:0.5, y:0.5\n"
          ]
        },
        {
          "output_type": "stream",
          "name": "stdout",
          "text": [
            "[mcmc] Initial point: x:0.5, y:0.5\n"
          ]
        },
        {
          "output_type": "stream",
          "name": "stderr",
          "text": [
            "INFO:model:Measuring speeds... (this may take a few seconds)\n"
          ]
        },
        {
          "output_type": "stream",
          "name": "stdout",
          "text": [
            "[model] Measuring speeds... (this may take a few seconds)\n"
          ]
        },
        {
          "output_type": "stream",
          "name": "stderr",
          "text": [
            "<ipython-input-49-68fc82096ce5>:4: RuntimeWarning: invalid value encountered in sqrt\n",
            "  return stats.norm.logpdf(np.sqrt(x**2 - y**2) ,loc=0,scale=2)\n",
            "INFO:model:Setting measured speeds (per sec): {hyp: 3170.0}\n"
          ]
        },
        {
          "output_type": "stream",
          "name": "stdout",
          "text": [
            "[model] Setting measured speeds (per sec): {hyp: 3170.0}\n"
          ]
        },
        {
          "output_type": "stream",
          "name": "stderr",
          "text": [
            "INFO:mcmc:Covariance matrix not present. We will start learning the covariance of the proposal earlier: R-1 = 30 (would be 2 if all params loaded).\n"
          ]
        },
        {
          "output_type": "stream",
          "name": "stdout",
          "text": [
            "[mcmc] Covariance matrix not present. We will start learning the covariance of the proposal earlier: R-1 = 30 (would be 2 if all params loaded).\n"
          ]
        },
        {
          "output_type": "stream",
          "name": "stderr",
          "text": [
            "INFO:mcmc:Sampling!\n"
          ]
        },
        {
          "output_type": "stream",
          "name": "stdout",
          "text": [
            "[mcmc] Sampling!\n"
          ]
        },
        {
          "output_type": "stream",
          "name": "stderr",
          "text": [
            "INFO:mcmc:Progress @ 2024-09-10 15:44:35 : 1 steps taken, and 0 accepted.\n"
          ]
        },
        {
          "output_type": "stream",
          "name": "stdout",
          "text": [
            "[mcmc] Progress @ 2024-09-10 15:44:35 : 1 steps taken, and 0 accepted.\n"
          ]
        },
        {
          "output_type": "stream",
          "name": "stderr",
          "text": [
            "INFO:mcmc:Learn + convergence test @ 80 samples accepted.\n"
          ]
        },
        {
          "output_type": "stream",
          "name": "stdout",
          "text": [
            "[mcmc] Learn + convergence test @ 80 samples accepted.\n"
          ]
        },
        {
          "output_type": "stream",
          "name": "stderr",
          "text": [
            "INFO:mcmc: - Acceptance rate: 1.000\n"
          ]
        },
        {
          "output_type": "stream",
          "name": "stdout",
          "text": [
            "[mcmc]  - Acceptance rate: 1.000\n"
          ]
        },
        {
          "output_type": "stream",
          "name": "stderr",
          "text": [
            "INFO:mcmc: - Convergence of means: R-1 = 11.698093 after 64 accepted steps\n"
          ]
        },
        {
          "output_type": "stream",
          "name": "stdout",
          "text": [
            "[mcmc]  - Convergence of means: R-1 = 11.698093 after 64 accepted steps\n"
          ]
        },
        {
          "output_type": "stream",
          "name": "stderr",
          "text": [
            "INFO:mcmc: - Updated covariance matrix of proposal pdf.\n"
          ]
        },
        {
          "output_type": "stream",
          "name": "stdout",
          "text": [
            "[mcmc]  - Updated covariance matrix of proposal pdf.\n"
          ]
        },
        {
          "output_type": "stream",
          "name": "stderr",
          "text": [
            "INFO:mcmc:Learn + convergence test @ 160 samples accepted.\n"
          ]
        },
        {
          "output_type": "stream",
          "name": "stdout",
          "text": [
            "[mcmc] Learn + convergence test @ 160 samples accepted.\n"
          ]
        },
        {
          "output_type": "stream",
          "name": "stderr",
          "text": [
            "INFO:mcmc: - Acceptance rate: 0.790\n"
          ]
        },
        {
          "output_type": "stream",
          "name": "stdout",
          "text": [
            "[mcmc]  - Acceptance rate: 0.790\n"
          ]
        },
        {
          "output_type": "stream",
          "name": "stderr",
          "text": [
            "INFO:mcmc: - Convergence of means: R-1 = 0.361919 after 128 accepted steps\n"
          ]
        },
        {
          "output_type": "stream",
          "name": "stdout",
          "text": [
            "[mcmc]  - Convergence of means: R-1 = 0.361919 after 128 accepted steps\n"
          ]
        },
        {
          "output_type": "stream",
          "name": "stderr",
          "text": [
            "INFO:mcmc: - Updated covariance matrix of proposal pdf.\n"
          ]
        },
        {
          "output_type": "stream",
          "name": "stdout",
          "text": [
            "[mcmc]  - Updated covariance matrix of proposal pdf.\n"
          ]
        },
        {
          "output_type": "stream",
          "name": "stderr",
          "text": [
            "<ipython-input-49-68fc82096ce5>:4: RuntimeWarning: invalid value encountered in sqrt\n",
            "  return stats.norm.logpdf(np.sqrt(x**2 - y**2) ,loc=0,scale=2)\n",
            "INFO:mcmc:Learn + convergence test @ 240 samples accepted.\n"
          ]
        },
        {
          "output_type": "stream",
          "name": "stdout",
          "text": [
            "[mcmc] Learn + convergence test @ 240 samples accepted.\n"
          ]
        },
        {
          "output_type": "stream",
          "name": "stderr",
          "text": [
            "INFO:mcmc: - Acceptance rate: 0.600\n"
          ]
        },
        {
          "output_type": "stream",
          "name": "stdout",
          "text": [
            "[mcmc]  - Acceptance rate: 0.600\n"
          ]
        },
        {
          "output_type": "stream",
          "name": "stderr",
          "text": [
            "INFO:mcmc: - Convergence of means: R-1 = 1.160238 after 192 accepted steps\n"
          ]
        },
        {
          "output_type": "stream",
          "name": "stdout",
          "text": [
            "[mcmc]  - Convergence of means: R-1 = 1.160238 after 192 accepted steps\n"
          ]
        },
        {
          "output_type": "stream",
          "name": "stderr",
          "text": [
            "INFO:mcmc: - Updated covariance matrix of proposal pdf.\n"
          ]
        },
        {
          "output_type": "stream",
          "name": "stdout",
          "text": [
            "[mcmc]  - Updated covariance matrix of proposal pdf.\n"
          ]
        },
        {
          "output_type": "stream",
          "name": "stderr",
          "text": [
            "<ipython-input-49-68fc82096ce5>:4: RuntimeWarning: invalid value encountered in sqrt\n",
            "  return stats.norm.logpdf(np.sqrt(x**2 - y**2) ,loc=0,scale=2)\n",
            "INFO:mcmc:Learn + convergence test @ 320 samples accepted.\n"
          ]
        },
        {
          "output_type": "stream",
          "name": "stdout",
          "text": [
            "[mcmc] Learn + convergence test @ 320 samples accepted.\n"
          ]
        },
        {
          "output_type": "stream",
          "name": "stderr",
          "text": [
            "INFO:mcmc: - Acceptance rate: 0.435\n"
          ]
        },
        {
          "output_type": "stream",
          "name": "stdout",
          "text": [
            "[mcmc]  - Acceptance rate: 0.435\n"
          ]
        },
        {
          "output_type": "stream",
          "name": "stderr",
          "text": [
            "INFO:mcmc: - Convergence of means: R-1 = 0.656467 after 256 accepted steps\n"
          ]
        },
        {
          "output_type": "stream",
          "name": "stdout",
          "text": [
            "[mcmc]  - Convergence of means: R-1 = 0.656467 after 256 accepted steps\n"
          ]
        },
        {
          "output_type": "stream",
          "name": "stderr",
          "text": [
            "INFO:mcmc: - Updated covariance matrix of proposal pdf.\n"
          ]
        },
        {
          "output_type": "stream",
          "name": "stdout",
          "text": [
            "[mcmc]  - Updated covariance matrix of proposal pdf.\n"
          ]
        },
        {
          "output_type": "stream",
          "name": "stderr",
          "text": [
            "<ipython-input-49-68fc82096ce5>:4: RuntimeWarning: invalid value encountered in sqrt\n",
            "  return stats.norm.logpdf(np.sqrt(x**2 - y**2) ,loc=0,scale=2)\n",
            "INFO:mcmc:Learn + convergence test @ 400 samples accepted.\n"
          ]
        },
        {
          "output_type": "stream",
          "name": "stdout",
          "text": [
            "[mcmc] Learn + convergence test @ 400 samples accepted.\n"
          ]
        },
        {
          "output_type": "stream",
          "name": "stderr",
          "text": [
            "INFO:mcmc: - Acceptance rate: 0.375\n"
          ]
        },
        {
          "output_type": "stream",
          "name": "stdout",
          "text": [
            "[mcmc]  - Acceptance rate: 0.375\n"
          ]
        },
        {
          "output_type": "stream",
          "name": "stderr",
          "text": [
            "INFO:mcmc: - Convergence of means: R-1 = 0.467393 after 320 accepted steps\n"
          ]
        },
        {
          "output_type": "stream",
          "name": "stdout",
          "text": [
            "[mcmc]  - Convergence of means: R-1 = 0.467393 after 320 accepted steps\n"
          ]
        },
        {
          "output_type": "stream",
          "name": "stderr",
          "text": [
            "INFO:mcmc: - Updated covariance matrix of proposal pdf.\n"
          ]
        },
        {
          "output_type": "stream",
          "name": "stdout",
          "text": [
            "[mcmc]  - Updated covariance matrix of proposal pdf.\n"
          ]
        },
        {
          "output_type": "stream",
          "name": "stderr",
          "text": [
            "<ipython-input-49-68fc82096ce5>:4: RuntimeWarning: invalid value encountered in sqrt\n",
            "  return stats.norm.logpdf(np.sqrt(x**2 - y**2) ,loc=0,scale=2)\n",
            "INFO:mcmc:Learn + convergence test @ 480 samples accepted.\n"
          ]
        },
        {
          "output_type": "stream",
          "name": "stdout",
          "text": [
            "[mcmc] Learn + convergence test @ 480 samples accepted.\n"
          ]
        },
        {
          "output_type": "stream",
          "name": "stderr",
          "text": [
            "INFO:mcmc: - Acceptance rate: 0.348\n"
          ]
        },
        {
          "output_type": "stream",
          "name": "stdout",
          "text": [
            "[mcmc]  - Acceptance rate: 0.348\n"
          ]
        },
        {
          "output_type": "stream",
          "name": "stderr",
          "text": [
            "INFO:mcmc: - Convergence of means: R-1 = 0.244149 after 384 accepted steps\n"
          ]
        },
        {
          "output_type": "stream",
          "name": "stdout",
          "text": [
            "[mcmc]  - Convergence of means: R-1 = 0.244149 after 384 accepted steps\n"
          ]
        },
        {
          "output_type": "stream",
          "name": "stderr",
          "text": [
            "INFO:mcmc: - Updated covariance matrix of proposal pdf.\n"
          ]
        },
        {
          "output_type": "stream",
          "name": "stdout",
          "text": [
            "[mcmc]  - Updated covariance matrix of proposal pdf.\n"
          ]
        },
        {
          "output_type": "stream",
          "name": "stderr",
          "text": [
            "<ipython-input-49-68fc82096ce5>:4: RuntimeWarning: invalid value encountered in sqrt\n",
            "  return stats.norm.logpdf(np.sqrt(x**2 - y**2) ,loc=0,scale=2)\n",
            "INFO:mcmc:Learn + convergence test @ 560 samples accepted.\n"
          ]
        },
        {
          "output_type": "stream",
          "name": "stdout",
          "text": [
            "[mcmc] Learn + convergence test @ 560 samples accepted.\n"
          ]
        },
        {
          "output_type": "stream",
          "name": "stderr",
          "text": [
            "INFO:mcmc: - Acceptance rate: 0.325\n"
          ]
        },
        {
          "output_type": "stream",
          "name": "stdout",
          "text": [
            "[mcmc]  - Acceptance rate: 0.325\n"
          ]
        },
        {
          "output_type": "stream",
          "name": "stderr",
          "text": [
            "INFO:mcmc: - Convergence of means: R-1 = 0.045426 after 448 accepted steps\n"
          ]
        },
        {
          "output_type": "stream",
          "name": "stdout",
          "text": [
            "[mcmc]  - Convergence of means: R-1 = 0.045426 after 448 accepted steps\n"
          ]
        },
        {
          "output_type": "stream",
          "name": "stderr",
          "text": [
            "INFO:mcmc: - Updated covariance matrix of proposal pdf.\n"
          ]
        },
        {
          "output_type": "stream",
          "name": "stdout",
          "text": [
            "[mcmc]  - Updated covariance matrix of proposal pdf.\n"
          ]
        },
        {
          "output_type": "stream",
          "name": "stderr",
          "text": [
            "<ipython-input-49-68fc82096ce5>:4: RuntimeWarning: invalid value encountered in sqrt\n",
            "  return stats.norm.logpdf(np.sqrt(x**2 - y**2) ,loc=0,scale=2)\n",
            "INFO:mcmc:Learn + convergence test @ 640 samples accepted.\n"
          ]
        },
        {
          "output_type": "stream",
          "name": "stdout",
          "text": [
            "[mcmc] Learn + convergence test @ 640 samples accepted.\n"
          ]
        },
        {
          "output_type": "stream",
          "name": "stderr",
          "text": [
            "INFO:mcmc: - Acceptance rate: 0.312\n"
          ]
        },
        {
          "output_type": "stream",
          "name": "stdout",
          "text": [
            "[mcmc]  - Acceptance rate: 0.312\n"
          ]
        },
        {
          "output_type": "stream",
          "name": "stderr",
          "text": [
            "INFO:mcmc: - Convergence of means: R-1 = 0.015714 after 512 accepted steps\n"
          ]
        },
        {
          "output_type": "stream",
          "name": "stdout",
          "text": [
            "[mcmc]  - Convergence of means: R-1 = 0.015714 after 512 accepted steps\n"
          ]
        },
        {
          "output_type": "stream",
          "name": "stderr",
          "text": [
            "INFO:mcmc: - Updated covariance matrix of proposal pdf.\n"
          ]
        },
        {
          "output_type": "stream",
          "name": "stdout",
          "text": [
            "[mcmc]  - Updated covariance matrix of proposal pdf.\n"
          ]
        },
        {
          "output_type": "stream",
          "name": "stderr",
          "text": [
            "<ipython-input-49-68fc82096ce5>:4: RuntimeWarning: invalid value encountered in sqrt\n",
            "  return stats.norm.logpdf(np.sqrt(x**2 - y**2) ,loc=0,scale=2)\n",
            "INFO:mcmc:Learn + convergence test @ 720 samples accepted.\n"
          ]
        },
        {
          "output_type": "stream",
          "name": "stdout",
          "text": [
            "[mcmc] Learn + convergence test @ 720 samples accepted.\n"
          ]
        },
        {
          "output_type": "stream",
          "name": "stderr",
          "text": [
            "INFO:mcmc: - Acceptance rate: 0.298\n"
          ]
        },
        {
          "output_type": "stream",
          "name": "stdout",
          "text": [
            "[mcmc]  - Acceptance rate: 0.298\n"
          ]
        },
        {
          "output_type": "stream",
          "name": "stderr",
          "text": [
            "INFO:mcmc: - Convergence of means: R-1 = 0.011979 after 576 accepted steps\n"
          ]
        },
        {
          "output_type": "stream",
          "name": "stdout",
          "text": [
            "[mcmc]  - Convergence of means: R-1 = 0.011979 after 576 accepted steps\n"
          ]
        },
        {
          "output_type": "stream",
          "name": "stderr",
          "text": [
            "INFO:mcmc: - Updated covariance matrix of proposal pdf.\n"
          ]
        },
        {
          "output_type": "stream",
          "name": "stdout",
          "text": [
            "[mcmc]  - Updated covariance matrix of proposal pdf.\n"
          ]
        },
        {
          "output_type": "stream",
          "name": "stderr",
          "text": [
            "<ipython-input-49-68fc82096ce5>:4: RuntimeWarning: invalid value encountered in sqrt\n",
            "  return stats.norm.logpdf(np.sqrt(x**2 - y**2) ,loc=0,scale=2)\n",
            "INFO:mcmc:Learn + convergence test @ 800 samples accepted.\n"
          ]
        },
        {
          "output_type": "stream",
          "name": "stdout",
          "text": [
            "[mcmc] Learn + convergence test @ 800 samples accepted.\n"
          ]
        },
        {
          "output_type": "stream",
          "name": "stderr",
          "text": [
            "INFO:mcmc: - Acceptance rate: 0.290\n"
          ]
        },
        {
          "output_type": "stream",
          "name": "stdout",
          "text": [
            "[mcmc]  - Acceptance rate: 0.290\n"
          ]
        },
        {
          "output_type": "stream",
          "name": "stderr",
          "text": [
            "INFO:mcmc: - Convergence of means: R-1 = 0.004005 after 640 accepted steps\n"
          ]
        },
        {
          "output_type": "stream",
          "name": "stdout",
          "text": [
            "[mcmc]  - Convergence of means: R-1 = 0.004005 after 640 accepted steps\n"
          ]
        },
        {
          "output_type": "stream",
          "name": "stderr",
          "text": [
            "INFO:mcmc: - Updated covariance matrix of proposal pdf.\n"
          ]
        },
        {
          "output_type": "stream",
          "name": "stdout",
          "text": [
            "[mcmc]  - Updated covariance matrix of proposal pdf.\n"
          ]
        },
        {
          "output_type": "stream",
          "name": "stderr",
          "text": [
            "<ipython-input-49-68fc82096ce5>:4: RuntimeWarning: invalid value encountered in sqrt\n",
            "  return stats.norm.logpdf(np.sqrt(x**2 - y**2) ,loc=0,scale=2)\n",
            "INFO:mcmc:Learn + convergence test @ 880 samples accepted.\n"
          ]
        },
        {
          "output_type": "stream",
          "name": "stdout",
          "text": [
            "[mcmc] Learn + convergence test @ 880 samples accepted.\n"
          ]
        },
        {
          "output_type": "stream",
          "name": "stderr",
          "text": [
            "INFO:mcmc: - Acceptance rate: 0.286\n"
          ]
        },
        {
          "output_type": "stream",
          "name": "stdout",
          "text": [
            "[mcmc]  - Acceptance rate: 0.286\n"
          ]
        },
        {
          "output_type": "stream",
          "name": "stderr",
          "text": [
            "INFO:mcmc: - Convergence of means: R-1 = 0.017778 after 704 accepted steps\n"
          ]
        },
        {
          "output_type": "stream",
          "name": "stdout",
          "text": [
            "[mcmc]  - Convergence of means: R-1 = 0.017778 after 704 accepted steps\n"
          ]
        },
        {
          "output_type": "stream",
          "name": "stderr",
          "text": [
            "INFO:mcmc: - Updated covariance matrix of proposal pdf.\n"
          ]
        },
        {
          "output_type": "stream",
          "name": "stdout",
          "text": [
            "[mcmc]  - Updated covariance matrix of proposal pdf.\n"
          ]
        },
        {
          "output_type": "stream",
          "name": "stderr",
          "text": [
            "<ipython-input-49-68fc82096ce5>:4: RuntimeWarning: invalid value encountered in sqrt\n",
            "  return stats.norm.logpdf(np.sqrt(x**2 - y**2) ,loc=0,scale=2)\n",
            "INFO:mcmc:Learn + convergence test @ 960 samples accepted.\n"
          ]
        },
        {
          "output_type": "stream",
          "name": "stdout",
          "text": [
            "[mcmc] Learn + convergence test @ 960 samples accepted.\n"
          ]
        },
        {
          "output_type": "stream",
          "name": "stderr",
          "text": [
            "INFO:mcmc: - Acceptance rate: 0.285\n"
          ]
        },
        {
          "output_type": "stream",
          "name": "stdout",
          "text": [
            "[mcmc]  - Acceptance rate: 0.285\n"
          ]
        },
        {
          "output_type": "stream",
          "name": "stderr",
          "text": [
            "INFO:mcmc: - Convergence of means: R-1 = 0.014733 after 768 accepted steps\n"
          ]
        },
        {
          "output_type": "stream",
          "name": "stdout",
          "text": [
            "[mcmc]  - Convergence of means: R-1 = 0.014733 after 768 accepted steps\n"
          ]
        },
        {
          "output_type": "stream",
          "name": "stderr",
          "text": [
            "INFO:mcmc: - Updated covariance matrix of proposal pdf.\n"
          ]
        },
        {
          "output_type": "stream",
          "name": "stdout",
          "text": [
            "[mcmc]  - Updated covariance matrix of proposal pdf.\n"
          ]
        },
        {
          "output_type": "stream",
          "name": "stderr",
          "text": [
            "<ipython-input-49-68fc82096ce5>:4: RuntimeWarning: invalid value encountered in sqrt\n",
            "  return stats.norm.logpdf(np.sqrt(x**2 - y**2) ,loc=0,scale=2)\n",
            "INFO:mcmc:Learn + convergence test @ 1040 samples accepted.\n"
          ]
        },
        {
          "output_type": "stream",
          "name": "stdout",
          "text": [
            "[mcmc] Learn + convergence test @ 1040 samples accepted.\n"
          ]
        },
        {
          "output_type": "stream",
          "name": "stderr",
          "text": [
            "INFO:mcmc: - Acceptance rate: 0.280\n"
          ]
        },
        {
          "output_type": "stream",
          "name": "stdout",
          "text": [
            "[mcmc]  - Acceptance rate: 0.280\n"
          ]
        },
        {
          "output_type": "stream",
          "name": "stderr",
          "text": [
            "INFO:mcmc: - Convergence of means: R-1 = 0.012383 after 832 accepted steps\n"
          ]
        },
        {
          "output_type": "stream",
          "name": "stdout",
          "text": [
            "[mcmc]  - Convergence of means: R-1 = 0.012383 after 832 accepted steps\n"
          ]
        },
        {
          "output_type": "stream",
          "name": "stderr",
          "text": [
            "INFO:mcmc: - Updated covariance matrix of proposal pdf.\n"
          ]
        },
        {
          "output_type": "stream",
          "name": "stdout",
          "text": [
            "[mcmc]  - Updated covariance matrix of proposal pdf.\n"
          ]
        },
        {
          "output_type": "stream",
          "name": "stderr",
          "text": [
            "<ipython-input-49-68fc82096ce5>:4: RuntimeWarning: invalid value encountered in sqrt\n",
            "  return stats.norm.logpdf(np.sqrt(x**2 - y**2) ,loc=0,scale=2)\n",
            "INFO:mcmc:Learn + convergence test @ 1120 samples accepted.\n"
          ]
        },
        {
          "output_type": "stream",
          "name": "stdout",
          "text": [
            "[mcmc] Learn + convergence test @ 1120 samples accepted.\n"
          ]
        },
        {
          "output_type": "stream",
          "name": "stderr",
          "text": [
            "INFO:mcmc: - Acceptance rate: 0.279\n"
          ]
        },
        {
          "output_type": "stream",
          "name": "stdout",
          "text": [
            "[mcmc]  - Acceptance rate: 0.279\n"
          ]
        },
        {
          "output_type": "stream",
          "name": "stderr",
          "text": [
            "INFO:mcmc: - Convergence of means: R-1 = 0.016517 after 896 accepted steps\n"
          ]
        },
        {
          "output_type": "stream",
          "name": "stdout",
          "text": [
            "[mcmc]  - Convergence of means: R-1 = 0.016517 after 896 accepted steps\n"
          ]
        },
        {
          "output_type": "stream",
          "name": "stderr",
          "text": [
            "INFO:mcmc: - Updated covariance matrix of proposal pdf.\n"
          ]
        },
        {
          "output_type": "stream",
          "name": "stdout",
          "text": [
            "[mcmc]  - Updated covariance matrix of proposal pdf.\n"
          ]
        },
        {
          "output_type": "stream",
          "name": "stderr",
          "text": [
            "<ipython-input-49-68fc82096ce5>:4: RuntimeWarning: invalid value encountered in sqrt\n",
            "  return stats.norm.logpdf(np.sqrt(x**2 - y**2) ,loc=0,scale=2)\n",
            "INFO:mcmc:Learn + convergence test @ 1200 samples accepted.\n"
          ]
        },
        {
          "output_type": "stream",
          "name": "stdout",
          "text": [
            "[mcmc] Learn + convergence test @ 1200 samples accepted.\n"
          ]
        },
        {
          "output_type": "stream",
          "name": "stderr",
          "text": [
            "INFO:mcmc: - Acceptance rate: 0.281\n"
          ]
        },
        {
          "output_type": "stream",
          "name": "stdout",
          "text": [
            "[mcmc]  - Acceptance rate: 0.281\n"
          ]
        },
        {
          "output_type": "stream",
          "name": "stderr",
          "text": [
            "INFO:mcmc: - Convergence of means: R-1 = 0.022718 after 960 accepted steps\n"
          ]
        },
        {
          "output_type": "stream",
          "name": "stdout",
          "text": [
            "[mcmc]  - Convergence of means: R-1 = 0.022718 after 960 accepted steps\n"
          ]
        },
        {
          "output_type": "stream",
          "name": "stderr",
          "text": [
            "INFO:mcmc: - Updated covariance matrix of proposal pdf.\n"
          ]
        },
        {
          "output_type": "stream",
          "name": "stdout",
          "text": [
            "[mcmc]  - Updated covariance matrix of proposal pdf.\n"
          ]
        },
        {
          "output_type": "stream",
          "name": "stderr",
          "text": [
            "<ipython-input-49-68fc82096ce5>:4: RuntimeWarning: invalid value encountered in sqrt\n",
            "  return stats.norm.logpdf(np.sqrt(x**2 - y**2) ,loc=0,scale=2)\n",
            "INFO:mcmc:Learn + convergence test @ 1280 samples accepted.\n"
          ]
        },
        {
          "output_type": "stream",
          "name": "stdout",
          "text": [
            "[mcmc] Learn + convergence test @ 1280 samples accepted.\n"
          ]
        },
        {
          "output_type": "stream",
          "name": "stderr",
          "text": [
            "INFO:mcmc: - Acceptance rate: 0.281\n"
          ]
        },
        {
          "output_type": "stream",
          "name": "stdout",
          "text": [
            "[mcmc]  - Acceptance rate: 0.281\n"
          ]
        },
        {
          "output_type": "stream",
          "name": "stderr",
          "text": [
            "INFO:mcmc: - Convergence of means: R-1 = 0.012044 after 1024 accepted steps\n"
          ]
        },
        {
          "output_type": "stream",
          "name": "stdout",
          "text": [
            "[mcmc]  - Convergence of means: R-1 = 0.012044 after 1024 accepted steps\n"
          ]
        },
        {
          "output_type": "stream",
          "name": "stderr",
          "text": [
            "INFO:mcmc: - Updated covariance matrix of proposal pdf.\n"
          ]
        },
        {
          "output_type": "stream",
          "name": "stdout",
          "text": [
            "[mcmc]  - Updated covariance matrix of proposal pdf.\n"
          ]
        },
        {
          "output_type": "stream",
          "name": "stderr",
          "text": [
            "<ipython-input-49-68fc82096ce5>:4: RuntimeWarning: invalid value encountered in sqrt\n",
            "  return stats.norm.logpdf(np.sqrt(x**2 - y**2) ,loc=0,scale=2)\n",
            "INFO:mcmc:Learn + convergence test @ 1360 samples accepted.\n"
          ]
        },
        {
          "output_type": "stream",
          "name": "stdout",
          "text": [
            "[mcmc] Learn + convergence test @ 1360 samples accepted.\n"
          ]
        },
        {
          "output_type": "stream",
          "name": "stderr",
          "text": [
            "INFO:mcmc: - Acceptance rate: 0.278\n"
          ]
        },
        {
          "output_type": "stream",
          "name": "stdout",
          "text": [
            "[mcmc]  - Acceptance rate: 0.278\n"
          ]
        },
        {
          "output_type": "stream",
          "name": "stderr",
          "text": [
            "INFO:mcmc: - Convergence of means: R-1 = 0.011791 after 1088 accepted steps\n"
          ]
        },
        {
          "output_type": "stream",
          "name": "stdout",
          "text": [
            "[mcmc]  - Convergence of means: R-1 = 0.011791 after 1088 accepted steps\n"
          ]
        },
        {
          "output_type": "stream",
          "name": "stderr",
          "text": [
            "INFO:mcmc: - Updated covariance matrix of proposal pdf.\n"
          ]
        },
        {
          "output_type": "stream",
          "name": "stdout",
          "text": [
            "[mcmc]  - Updated covariance matrix of proposal pdf.\n"
          ]
        },
        {
          "output_type": "stream",
          "name": "stderr",
          "text": [
            "<ipython-input-49-68fc82096ce5>:4: RuntimeWarning: invalid value encountered in sqrt\n",
            "  return stats.norm.logpdf(np.sqrt(x**2 - y**2) ,loc=0,scale=2)\n",
            "INFO:mcmc:Learn + convergence test @ 1440 samples accepted.\n"
          ]
        },
        {
          "output_type": "stream",
          "name": "stdout",
          "text": [
            "[mcmc] Learn + convergence test @ 1440 samples accepted.\n"
          ]
        },
        {
          "output_type": "stream",
          "name": "stderr",
          "text": [
            "INFO:mcmc: - Acceptance rate: 0.277\n"
          ]
        },
        {
          "output_type": "stream",
          "name": "stdout",
          "text": [
            "[mcmc]  - Acceptance rate: 0.277\n"
          ]
        },
        {
          "output_type": "stream",
          "name": "stderr",
          "text": [
            "INFO:mcmc: - Convergence of means: R-1 = 0.014881 after 1152 accepted steps\n"
          ]
        },
        {
          "output_type": "stream",
          "name": "stdout",
          "text": [
            "[mcmc]  - Convergence of means: R-1 = 0.014881 after 1152 accepted steps\n"
          ]
        },
        {
          "output_type": "stream",
          "name": "stderr",
          "text": [
            "INFO:mcmc: - Updated covariance matrix of proposal pdf.\n"
          ]
        },
        {
          "output_type": "stream",
          "name": "stdout",
          "text": [
            "[mcmc]  - Updated covariance matrix of proposal pdf.\n"
          ]
        },
        {
          "output_type": "stream",
          "name": "stderr",
          "text": [
            "<ipython-input-49-68fc82096ce5>:4: RuntimeWarning: invalid value encountered in sqrt\n",
            "  return stats.norm.logpdf(np.sqrt(x**2 - y**2) ,loc=0,scale=2)\n",
            "INFO:mcmc:Learn + convergence test @ 1520 samples accepted.\n"
          ]
        },
        {
          "output_type": "stream",
          "name": "stdout",
          "text": [
            "[mcmc] Learn + convergence test @ 1520 samples accepted.\n"
          ]
        },
        {
          "output_type": "stream",
          "name": "stderr",
          "text": [
            "INFO:mcmc: - Acceptance rate: 0.274\n"
          ]
        },
        {
          "output_type": "stream",
          "name": "stdout",
          "text": [
            "[mcmc]  - Acceptance rate: 0.274\n"
          ]
        },
        {
          "output_type": "stream",
          "name": "stderr",
          "text": [
            "INFO:mcmc: - Convergence of means: R-1 = 0.015516 after 1216 accepted steps\n"
          ]
        },
        {
          "output_type": "stream",
          "name": "stdout",
          "text": [
            "[mcmc]  - Convergence of means: R-1 = 0.015516 after 1216 accepted steps\n"
          ]
        },
        {
          "output_type": "stream",
          "name": "stderr",
          "text": [
            "INFO:mcmc: - Updated covariance matrix of proposal pdf.\n"
          ]
        },
        {
          "output_type": "stream",
          "name": "stdout",
          "text": [
            "[mcmc]  - Updated covariance matrix of proposal pdf.\n"
          ]
        },
        {
          "output_type": "stream",
          "name": "stderr",
          "text": [
            "<ipython-input-49-68fc82096ce5>:4: RuntimeWarning: invalid value encountered in sqrt\n",
            "  return stats.norm.logpdf(np.sqrt(x**2 - y**2) ,loc=0,scale=2)\n",
            "INFO:mcmc:Learn + convergence test @ 1600 samples accepted.\n"
          ]
        },
        {
          "output_type": "stream",
          "name": "stdout",
          "text": [
            "[mcmc] Learn + convergence test @ 1600 samples accepted.\n"
          ]
        },
        {
          "output_type": "stream",
          "name": "stderr",
          "text": [
            "INFO:mcmc: - Acceptance rate: 0.275\n"
          ]
        },
        {
          "output_type": "stream",
          "name": "stdout",
          "text": [
            "[mcmc]  - Acceptance rate: 0.275\n"
          ]
        },
        {
          "output_type": "stream",
          "name": "stderr",
          "text": [
            "INFO:mcmc: - Convergence of means: R-1 = 0.010677 after 1280 accepted steps\n"
          ]
        },
        {
          "output_type": "stream",
          "name": "stdout",
          "text": [
            "[mcmc]  - Convergence of means: R-1 = 0.010677 after 1280 accepted steps\n"
          ]
        },
        {
          "output_type": "stream",
          "name": "stderr",
          "text": [
            "INFO:mcmc: - Updated covariance matrix of proposal pdf.\n"
          ]
        },
        {
          "output_type": "stream",
          "name": "stdout",
          "text": [
            "[mcmc]  - Updated covariance matrix of proposal pdf.\n"
          ]
        },
        {
          "output_type": "stream",
          "name": "stderr",
          "text": [
            "<ipython-input-49-68fc82096ce5>:4: RuntimeWarning: invalid value encountered in sqrt\n",
            "  return stats.norm.logpdf(np.sqrt(x**2 - y**2) ,loc=0,scale=2)\n",
            "INFO:mcmc:Learn + convergence test @ 1680 samples accepted.\n"
          ]
        },
        {
          "output_type": "stream",
          "name": "stdout",
          "text": [
            "[mcmc] Learn + convergence test @ 1680 samples accepted.\n"
          ]
        },
        {
          "output_type": "stream",
          "name": "stderr",
          "text": [
            "INFO:mcmc: - Acceptance rate: 0.275\n"
          ]
        },
        {
          "output_type": "stream",
          "name": "stdout",
          "text": [
            "[mcmc]  - Acceptance rate: 0.275\n"
          ]
        },
        {
          "output_type": "stream",
          "name": "stderr",
          "text": [
            "INFO:mcmc: - Convergence of means: R-1 = 0.008893 after 1344 accepted steps\n"
          ]
        },
        {
          "output_type": "stream",
          "name": "stdout",
          "text": [
            "[mcmc]  - Convergence of means: R-1 = 0.008893 after 1344 accepted steps\n"
          ]
        },
        {
          "output_type": "stream",
          "name": "stderr",
          "text": [
            "INFO:mcmc: - Updated covariance matrix of proposal pdf.\n"
          ]
        },
        {
          "output_type": "stream",
          "name": "stdout",
          "text": [
            "[mcmc]  - Updated covariance matrix of proposal pdf.\n"
          ]
        },
        {
          "output_type": "stream",
          "name": "stderr",
          "text": [
            "<ipython-input-49-68fc82096ce5>:4: RuntimeWarning: invalid value encountered in sqrt\n",
            "  return stats.norm.logpdf(np.sqrt(x**2 - y**2) ,loc=0,scale=2)\n",
            "INFO:mcmc:Learn + convergence test @ 1760 samples accepted.\n"
          ]
        },
        {
          "output_type": "stream",
          "name": "stdout",
          "text": [
            "[mcmc] Learn + convergence test @ 1760 samples accepted.\n"
          ]
        },
        {
          "output_type": "stream",
          "name": "stderr",
          "text": [
            "INFO:mcmc: - Acceptance rate: 0.277\n"
          ]
        },
        {
          "output_type": "stream",
          "name": "stdout",
          "text": [
            "[mcmc]  - Acceptance rate: 0.277\n"
          ]
        },
        {
          "output_type": "stream",
          "name": "stderr",
          "text": [
            "INFO:mcmc: - Convergence of means: R-1 = 0.011747 after 1408 accepted steps\n"
          ]
        },
        {
          "output_type": "stream",
          "name": "stdout",
          "text": [
            "[mcmc]  - Convergence of means: R-1 = 0.011747 after 1408 accepted steps\n"
          ]
        },
        {
          "output_type": "stream",
          "name": "stderr",
          "text": [
            "INFO:mcmc: - Updated covariance matrix of proposal pdf.\n"
          ]
        },
        {
          "output_type": "stream",
          "name": "stdout",
          "text": [
            "[mcmc]  - Updated covariance matrix of proposal pdf.\n"
          ]
        },
        {
          "output_type": "stream",
          "name": "stderr",
          "text": [
            "<ipython-input-49-68fc82096ce5>:4: RuntimeWarning: invalid value encountered in sqrt\n",
            "  return stats.norm.logpdf(np.sqrt(x**2 - y**2) ,loc=0,scale=2)\n",
            "INFO:mcmc:Learn + convergence test @ 1840 samples accepted.\n"
          ]
        },
        {
          "output_type": "stream",
          "name": "stdout",
          "text": [
            "[mcmc] Learn + convergence test @ 1840 samples accepted.\n"
          ]
        },
        {
          "output_type": "stream",
          "name": "stderr",
          "text": [
            "INFO:mcmc: - Acceptance rate: 0.278\n"
          ]
        },
        {
          "output_type": "stream",
          "name": "stdout",
          "text": [
            "[mcmc]  - Acceptance rate: 0.278\n"
          ]
        },
        {
          "output_type": "stream",
          "name": "stderr",
          "text": [
            "INFO:mcmc: - Convergence of means: R-1 = 0.007392 after 1472 accepted steps\n"
          ]
        },
        {
          "output_type": "stream",
          "name": "stdout",
          "text": [
            "[mcmc]  - Convergence of means: R-1 = 0.007392 after 1472 accepted steps\n"
          ]
        },
        {
          "output_type": "stream",
          "name": "stderr",
          "text": [
            "INFO:mcmc: - Updated covariance matrix of proposal pdf.\n"
          ]
        },
        {
          "output_type": "stream",
          "name": "stdout",
          "text": [
            "[mcmc]  - Updated covariance matrix of proposal pdf.\n"
          ]
        },
        {
          "output_type": "stream",
          "name": "stderr",
          "text": [
            "<ipython-input-49-68fc82096ce5>:4: RuntimeWarning: invalid value encountered in sqrt\n",
            "  return stats.norm.logpdf(np.sqrt(x**2 - y**2) ,loc=0,scale=2)\n",
            "INFO:mcmc:Learn + convergence test @ 1920 samples accepted.\n"
          ]
        },
        {
          "output_type": "stream",
          "name": "stdout",
          "text": [
            "[mcmc] Learn + convergence test @ 1920 samples accepted.\n"
          ]
        },
        {
          "output_type": "stream",
          "name": "stderr",
          "text": [
            "INFO:mcmc: - Acceptance rate: 0.278\n"
          ]
        },
        {
          "output_type": "stream",
          "name": "stdout",
          "text": [
            "[mcmc]  - Acceptance rate: 0.278\n"
          ]
        },
        {
          "output_type": "stream",
          "name": "stderr",
          "text": [
            "INFO:mcmc: - Convergence of means: R-1 = 0.008286 after 1536 accepted steps\n"
          ]
        },
        {
          "output_type": "stream",
          "name": "stdout",
          "text": [
            "[mcmc]  - Convergence of means: R-1 = 0.008286 after 1536 accepted steps\n"
          ]
        },
        {
          "output_type": "stream",
          "name": "stderr",
          "text": [
            "INFO:mcmc: - Updated covariance matrix of proposal pdf.\n"
          ]
        },
        {
          "output_type": "stream",
          "name": "stdout",
          "text": [
            "[mcmc]  - Updated covariance matrix of proposal pdf.\n"
          ]
        },
        {
          "output_type": "stream",
          "name": "stderr",
          "text": [
            "<ipython-input-49-68fc82096ce5>:4: RuntimeWarning: invalid value encountered in sqrt\n",
            "  return stats.norm.logpdf(np.sqrt(x**2 - y**2) ,loc=0,scale=2)\n",
            "INFO:mcmc:Learn + convergence test @ 2000 samples accepted.\n"
          ]
        },
        {
          "output_type": "stream",
          "name": "stdout",
          "text": [
            "[mcmc] Learn + convergence test @ 2000 samples accepted.\n"
          ]
        },
        {
          "output_type": "stream",
          "name": "stderr",
          "text": [
            "INFO:mcmc: - Acceptance rate: 0.279\n"
          ]
        },
        {
          "output_type": "stream",
          "name": "stdout",
          "text": [
            "[mcmc]  - Acceptance rate: 0.279\n"
          ]
        },
        {
          "output_type": "stream",
          "name": "stderr",
          "text": [
            "INFO:mcmc: - Convergence of means: R-1 = 0.005919 after 1600 accepted steps\n"
          ]
        },
        {
          "output_type": "stream",
          "name": "stdout",
          "text": [
            "[mcmc]  - Convergence of means: R-1 = 0.005919 after 1600 accepted steps\n"
          ]
        },
        {
          "output_type": "stream",
          "name": "stderr",
          "text": [
            "INFO:mcmc: - Updated covariance matrix of proposal pdf.\n"
          ]
        },
        {
          "output_type": "stream",
          "name": "stdout",
          "text": [
            "[mcmc]  - Updated covariance matrix of proposal pdf.\n"
          ]
        },
        {
          "output_type": "stream",
          "name": "stderr",
          "text": [
            "<ipython-input-49-68fc82096ce5>:4: RuntimeWarning: invalid value encountered in sqrt\n",
            "  return stats.norm.logpdf(np.sqrt(x**2 - y**2) ,loc=0,scale=2)\n",
            "INFO:mcmc:Learn + convergence test @ 2080 samples accepted.\n"
          ]
        },
        {
          "output_type": "stream",
          "name": "stdout",
          "text": [
            "[mcmc] Learn + convergence test @ 2080 samples accepted.\n"
          ]
        },
        {
          "output_type": "stream",
          "name": "stderr",
          "text": [
            "INFO:mcmc: - Acceptance rate: 0.278\n"
          ]
        },
        {
          "output_type": "stream",
          "name": "stdout",
          "text": [
            "[mcmc]  - Acceptance rate: 0.278\n"
          ]
        },
        {
          "output_type": "stream",
          "name": "stderr",
          "text": [
            "INFO:mcmc: - Convergence of means: R-1 = 0.005592 after 1664 accepted steps\n"
          ]
        },
        {
          "output_type": "stream",
          "name": "stdout",
          "text": [
            "[mcmc]  - Convergence of means: R-1 = 0.005592 after 1664 accepted steps\n"
          ]
        },
        {
          "output_type": "stream",
          "name": "stderr",
          "text": [
            "INFO:mcmc: - Updated covariance matrix of proposal pdf.\n"
          ]
        },
        {
          "output_type": "stream",
          "name": "stdout",
          "text": [
            "[mcmc]  - Updated covariance matrix of proposal pdf.\n"
          ]
        },
        {
          "output_type": "stream",
          "name": "stderr",
          "text": [
            "<ipython-input-49-68fc82096ce5>:4: RuntimeWarning: invalid value encountered in sqrt\n",
            "  return stats.norm.logpdf(np.sqrt(x**2 - y**2) ,loc=0,scale=2)\n",
            "INFO:mcmc:Learn + convergence test @ 2160 samples accepted.\n"
          ]
        },
        {
          "output_type": "stream",
          "name": "stdout",
          "text": [
            "[mcmc] Learn + convergence test @ 2160 samples accepted.\n"
          ]
        },
        {
          "output_type": "stream",
          "name": "stderr",
          "text": [
            "INFO:mcmc: - Acceptance rate: 0.277\n"
          ]
        },
        {
          "output_type": "stream",
          "name": "stdout",
          "text": [
            "[mcmc]  - Acceptance rate: 0.277\n"
          ]
        },
        {
          "output_type": "stream",
          "name": "stderr",
          "text": [
            "INFO:mcmc: - Convergence of means: R-1 = 0.017521 after 1728 accepted steps\n"
          ]
        },
        {
          "output_type": "stream",
          "name": "stdout",
          "text": [
            "[mcmc]  - Convergence of means: R-1 = 0.017521 after 1728 accepted steps\n"
          ]
        },
        {
          "output_type": "stream",
          "name": "stderr",
          "text": [
            "INFO:mcmc: - Updated covariance matrix of proposal pdf.\n"
          ]
        },
        {
          "output_type": "stream",
          "name": "stdout",
          "text": [
            "[mcmc]  - Updated covariance matrix of proposal pdf.\n"
          ]
        },
        {
          "output_type": "stream",
          "name": "stderr",
          "text": [
            "<ipython-input-49-68fc82096ce5>:4: RuntimeWarning: invalid value encountered in sqrt\n",
            "  return stats.norm.logpdf(np.sqrt(x**2 - y**2) ,loc=0,scale=2)\n",
            "INFO:mcmc:Learn + convergence test @ 2240 samples accepted.\n"
          ]
        },
        {
          "output_type": "stream",
          "name": "stdout",
          "text": [
            "[mcmc] Learn + convergence test @ 2240 samples accepted.\n"
          ]
        },
        {
          "output_type": "stream",
          "name": "stderr",
          "text": [
            "INFO:mcmc: - Acceptance rate: 0.277\n"
          ]
        },
        {
          "output_type": "stream",
          "name": "stdout",
          "text": [
            "[mcmc]  - Acceptance rate: 0.277\n"
          ]
        },
        {
          "output_type": "stream",
          "name": "stderr",
          "text": [
            "INFO:mcmc: - Convergence of means: R-1 = 0.014933 after 1792 accepted steps\n"
          ]
        },
        {
          "output_type": "stream",
          "name": "stdout",
          "text": [
            "[mcmc]  - Convergence of means: R-1 = 0.014933 after 1792 accepted steps\n"
          ]
        },
        {
          "output_type": "stream",
          "name": "stderr",
          "text": [
            "INFO:mcmc: - Updated covariance matrix of proposal pdf.\n"
          ]
        },
        {
          "output_type": "stream",
          "name": "stdout",
          "text": [
            "[mcmc]  - Updated covariance matrix of proposal pdf.\n"
          ]
        },
        {
          "output_type": "stream",
          "name": "stderr",
          "text": [
            "<ipython-input-49-68fc82096ce5>:4: RuntimeWarning: invalid value encountered in sqrt\n",
            "  return stats.norm.logpdf(np.sqrt(x**2 - y**2) ,loc=0,scale=2)\n",
            "INFO:mcmc:Learn + convergence test @ 2320 samples accepted.\n"
          ]
        },
        {
          "output_type": "stream",
          "name": "stdout",
          "text": [
            "[mcmc] Learn + convergence test @ 2320 samples accepted.\n"
          ]
        },
        {
          "output_type": "stream",
          "name": "stderr",
          "text": [
            "INFO:mcmc: - Acceptance rate: 0.278\n"
          ]
        },
        {
          "output_type": "stream",
          "name": "stdout",
          "text": [
            "[mcmc]  - Acceptance rate: 0.278\n"
          ]
        },
        {
          "output_type": "stream",
          "name": "stderr",
          "text": [
            "INFO:mcmc: - Convergence of means: R-1 = 0.013807 after 1856 accepted steps\n"
          ]
        },
        {
          "output_type": "stream",
          "name": "stdout",
          "text": [
            "[mcmc]  - Convergence of means: R-1 = 0.013807 after 1856 accepted steps\n"
          ]
        },
        {
          "output_type": "stream",
          "name": "stderr",
          "text": [
            "INFO:mcmc: - Updated covariance matrix of proposal pdf.\n"
          ]
        },
        {
          "output_type": "stream",
          "name": "stdout",
          "text": [
            "[mcmc]  - Updated covariance matrix of proposal pdf.\n"
          ]
        },
        {
          "output_type": "stream",
          "name": "stderr",
          "text": [
            "<ipython-input-49-68fc82096ce5>:4: RuntimeWarning: invalid value encountered in sqrt\n",
            "  return stats.norm.logpdf(np.sqrt(x**2 - y**2) ,loc=0,scale=2)\n",
            "INFO:mcmc:Learn + convergence test @ 2400 samples accepted.\n"
          ]
        },
        {
          "output_type": "stream",
          "name": "stdout",
          "text": [
            "[mcmc] Learn + convergence test @ 2400 samples accepted.\n"
          ]
        },
        {
          "output_type": "stream",
          "name": "stderr",
          "text": [
            "INFO:mcmc: - Acceptance rate: 0.278\n"
          ]
        },
        {
          "output_type": "stream",
          "name": "stdout",
          "text": [
            "[mcmc]  - Acceptance rate: 0.278\n"
          ]
        },
        {
          "output_type": "stream",
          "name": "stderr",
          "text": [
            "INFO:mcmc: - Convergence of means: R-1 = 0.014123 after 1920 accepted steps\n"
          ]
        },
        {
          "output_type": "stream",
          "name": "stdout",
          "text": [
            "[mcmc]  - Convergence of means: R-1 = 0.014123 after 1920 accepted steps\n"
          ]
        },
        {
          "output_type": "stream",
          "name": "stderr",
          "text": [
            "INFO:mcmc: - Updated covariance matrix of proposal pdf.\n"
          ]
        },
        {
          "output_type": "stream",
          "name": "stdout",
          "text": [
            "[mcmc]  - Updated covariance matrix of proposal pdf.\n"
          ]
        },
        {
          "output_type": "stream",
          "name": "stderr",
          "text": [
            "<ipython-input-49-68fc82096ce5>:4: RuntimeWarning: invalid value encountered in sqrt\n",
            "  return stats.norm.logpdf(np.sqrt(x**2 - y**2) ,loc=0,scale=2)\n",
            "INFO:mcmc:Learn + convergence test @ 2480 samples accepted.\n"
          ]
        },
        {
          "output_type": "stream",
          "name": "stdout",
          "text": [
            "[mcmc] Learn + convergence test @ 2480 samples accepted.\n"
          ]
        },
        {
          "output_type": "stream",
          "name": "stderr",
          "text": [
            "INFO:mcmc: - Acceptance rate: 0.275\n"
          ]
        },
        {
          "output_type": "stream",
          "name": "stdout",
          "text": [
            "[mcmc]  - Acceptance rate: 0.275\n"
          ]
        },
        {
          "output_type": "stream",
          "name": "stderr",
          "text": [
            "INFO:mcmc: - Convergence of means: R-1 = 0.009513 after 1984 accepted steps\n"
          ]
        },
        {
          "output_type": "stream",
          "name": "stdout",
          "text": [
            "[mcmc]  - Convergence of means: R-1 = 0.009513 after 1984 accepted steps\n"
          ]
        },
        {
          "output_type": "stream",
          "name": "stderr",
          "text": [
            "INFO:mcmc: - Updated covariance matrix of proposal pdf.\n"
          ]
        },
        {
          "output_type": "stream",
          "name": "stdout",
          "text": [
            "[mcmc]  - Updated covariance matrix of proposal pdf.\n"
          ]
        },
        {
          "output_type": "stream",
          "name": "stderr",
          "text": [
            "<ipython-input-49-68fc82096ce5>:4: RuntimeWarning: invalid value encountered in sqrt\n",
            "  return stats.norm.logpdf(np.sqrt(x**2 - y**2) ,loc=0,scale=2)\n",
            "INFO:mcmc:Learn + convergence test @ 2560 samples accepted.\n"
          ]
        },
        {
          "output_type": "stream",
          "name": "stdout",
          "text": [
            "[mcmc] Learn + convergence test @ 2560 samples accepted.\n"
          ]
        },
        {
          "output_type": "stream",
          "name": "stderr",
          "text": [
            "INFO:mcmc: - Acceptance rate: 0.276\n"
          ]
        },
        {
          "output_type": "stream",
          "name": "stdout",
          "text": [
            "[mcmc]  - Acceptance rate: 0.276\n"
          ]
        },
        {
          "output_type": "stream",
          "name": "stderr",
          "text": [
            "INFO:mcmc: - Convergence of means: R-1 = 0.013502 after 2048 accepted steps\n"
          ]
        },
        {
          "output_type": "stream",
          "name": "stdout",
          "text": [
            "[mcmc]  - Convergence of means: R-1 = 0.013502 after 2048 accepted steps\n"
          ]
        },
        {
          "output_type": "stream",
          "name": "stderr",
          "text": [
            "INFO:mcmc: - Updated covariance matrix of proposal pdf.\n"
          ]
        },
        {
          "output_type": "stream",
          "name": "stdout",
          "text": [
            "[mcmc]  - Updated covariance matrix of proposal pdf.\n"
          ]
        },
        {
          "output_type": "stream",
          "name": "stderr",
          "text": [
            "<ipython-input-49-68fc82096ce5>:4: RuntimeWarning: invalid value encountered in sqrt\n",
            "  return stats.norm.logpdf(np.sqrt(x**2 - y**2) ,loc=0,scale=2)\n",
            "INFO:mcmc:Learn + convergence test @ 2640 samples accepted.\n"
          ]
        },
        {
          "output_type": "stream",
          "name": "stdout",
          "text": [
            "[mcmc] Learn + convergence test @ 2640 samples accepted.\n"
          ]
        },
        {
          "output_type": "stream",
          "name": "stderr",
          "text": [
            "INFO:mcmc: - Acceptance rate: 0.276\n"
          ]
        },
        {
          "output_type": "stream",
          "name": "stdout",
          "text": [
            "[mcmc]  - Acceptance rate: 0.276\n"
          ]
        },
        {
          "output_type": "stream",
          "name": "stderr",
          "text": [
            "INFO:mcmc: - Convergence of means: R-1 = 0.011825 after 2112 accepted steps\n"
          ]
        },
        {
          "output_type": "stream",
          "name": "stdout",
          "text": [
            "[mcmc]  - Convergence of means: R-1 = 0.011825 after 2112 accepted steps\n"
          ]
        },
        {
          "output_type": "stream",
          "name": "stderr",
          "text": [
            "INFO:mcmc: - Updated covariance matrix of proposal pdf.\n"
          ]
        },
        {
          "output_type": "stream",
          "name": "stdout",
          "text": [
            "[mcmc]  - Updated covariance matrix of proposal pdf.\n"
          ]
        },
        {
          "output_type": "stream",
          "name": "stderr",
          "text": [
            "<ipython-input-49-68fc82096ce5>:4: RuntimeWarning: invalid value encountered in sqrt\n",
            "  return stats.norm.logpdf(np.sqrt(x**2 - y**2) ,loc=0,scale=2)\n",
            "INFO:mcmc:Learn + convergence test @ 2720 samples accepted.\n"
          ]
        },
        {
          "output_type": "stream",
          "name": "stdout",
          "text": [
            "[mcmc] Learn + convergence test @ 2720 samples accepted.\n"
          ]
        },
        {
          "output_type": "stream",
          "name": "stderr",
          "text": [
            "INFO:mcmc: - Acceptance rate: 0.277\n"
          ]
        },
        {
          "output_type": "stream",
          "name": "stdout",
          "text": [
            "[mcmc]  - Acceptance rate: 0.277\n"
          ]
        },
        {
          "output_type": "stream",
          "name": "stderr",
          "text": [
            "INFO:mcmc: - Convergence of means: R-1 = 0.007950 after 2176 accepted steps\n"
          ]
        },
        {
          "output_type": "stream",
          "name": "stdout",
          "text": [
            "[mcmc]  - Convergence of means: R-1 = 0.007950 after 2176 accepted steps\n"
          ]
        },
        {
          "output_type": "stream",
          "name": "stderr",
          "text": [
            "INFO:mcmc: - Updated covariance matrix of proposal pdf.\n"
          ]
        },
        {
          "output_type": "stream",
          "name": "stdout",
          "text": [
            "[mcmc]  - Updated covariance matrix of proposal pdf.\n"
          ]
        },
        {
          "output_type": "stream",
          "name": "stderr",
          "text": [
            "<ipython-input-49-68fc82096ce5>:4: RuntimeWarning: invalid value encountered in sqrt\n",
            "  return stats.norm.logpdf(np.sqrt(x**2 - y**2) ,loc=0,scale=2)\n",
            "INFO:mcmc:Learn + convergence test @ 2800 samples accepted.\n"
          ]
        },
        {
          "output_type": "stream",
          "name": "stdout",
          "text": [
            "[mcmc] Learn + convergence test @ 2800 samples accepted.\n"
          ]
        },
        {
          "output_type": "stream",
          "name": "stderr",
          "text": [
            "INFO:mcmc: - Acceptance rate: 0.277\n"
          ]
        },
        {
          "output_type": "stream",
          "name": "stdout",
          "text": [
            "[mcmc]  - Acceptance rate: 0.277\n"
          ]
        },
        {
          "output_type": "stream",
          "name": "stderr",
          "text": [
            "INFO:mcmc: - Convergence of means: R-1 = 0.010612 after 2240 accepted steps\n"
          ]
        },
        {
          "output_type": "stream",
          "name": "stdout",
          "text": [
            "[mcmc]  - Convergence of means: R-1 = 0.010612 after 2240 accepted steps\n"
          ]
        },
        {
          "output_type": "stream",
          "name": "stderr",
          "text": [
            "INFO:mcmc: - Updated covariance matrix of proposal pdf.\n"
          ]
        },
        {
          "output_type": "stream",
          "name": "stdout",
          "text": [
            "[mcmc]  - Updated covariance matrix of proposal pdf.\n"
          ]
        },
        {
          "output_type": "stream",
          "name": "stderr",
          "text": [
            "<ipython-input-49-68fc82096ce5>:4: RuntimeWarning: invalid value encountered in sqrt\n",
            "  return stats.norm.logpdf(np.sqrt(x**2 - y**2) ,loc=0,scale=2)\n",
            "INFO:mcmc:Learn + convergence test @ 2880 samples accepted.\n"
          ]
        },
        {
          "output_type": "stream",
          "name": "stdout",
          "text": [
            "[mcmc] Learn + convergence test @ 2880 samples accepted.\n"
          ]
        },
        {
          "output_type": "stream",
          "name": "stderr",
          "text": [
            "INFO:mcmc: - Acceptance rate: 0.276\n"
          ]
        },
        {
          "output_type": "stream",
          "name": "stdout",
          "text": [
            "[mcmc]  - Acceptance rate: 0.276\n"
          ]
        },
        {
          "output_type": "stream",
          "name": "stderr",
          "text": [
            "INFO:mcmc: - Convergence of means: R-1 = 0.009473 after 2304 accepted steps\n"
          ]
        },
        {
          "output_type": "stream",
          "name": "stdout",
          "text": [
            "[mcmc]  - Convergence of means: R-1 = 0.009473 after 2304 accepted steps\n"
          ]
        },
        {
          "output_type": "stream",
          "name": "stderr",
          "text": [
            "INFO:mcmc: - Updated covariance matrix of proposal pdf.\n"
          ]
        },
        {
          "output_type": "stream",
          "name": "stdout",
          "text": [
            "[mcmc]  - Updated covariance matrix of proposal pdf.\n"
          ]
        },
        {
          "output_type": "stream",
          "name": "stderr",
          "text": [
            "<ipython-input-49-68fc82096ce5>:4: RuntimeWarning: invalid value encountered in sqrt\n",
            "  return stats.norm.logpdf(np.sqrt(x**2 - y**2) ,loc=0,scale=2)\n",
            "INFO:mcmc:Learn + convergence test @ 2960 samples accepted.\n"
          ]
        },
        {
          "output_type": "stream",
          "name": "stdout",
          "text": [
            "[mcmc] Learn + convergence test @ 2960 samples accepted.\n"
          ]
        },
        {
          "output_type": "stream",
          "name": "stderr",
          "text": [
            "INFO:mcmc: - Acceptance rate: 0.275\n"
          ]
        },
        {
          "output_type": "stream",
          "name": "stdout",
          "text": [
            "[mcmc]  - Acceptance rate: 0.275\n"
          ]
        },
        {
          "output_type": "stream",
          "name": "stderr",
          "text": [
            "INFO:mcmc: - Convergence of means: R-1 = 0.009840 after 2368 accepted steps\n"
          ]
        },
        {
          "output_type": "stream",
          "name": "stdout",
          "text": [
            "[mcmc]  - Convergence of means: R-1 = 0.009840 after 2368 accepted steps\n"
          ]
        },
        {
          "output_type": "stream",
          "name": "stderr",
          "text": [
            "INFO:mcmc: - Updated covariance matrix of proposal pdf.\n"
          ]
        },
        {
          "output_type": "stream",
          "name": "stdout",
          "text": [
            "[mcmc]  - Updated covariance matrix of proposal pdf.\n"
          ]
        },
        {
          "output_type": "stream",
          "name": "stderr",
          "text": [
            "<ipython-input-49-68fc82096ce5>:4: RuntimeWarning: invalid value encountered in sqrt\n",
            "  return stats.norm.logpdf(np.sqrt(x**2 - y**2) ,loc=0,scale=2)\n",
            "INFO:mcmc:Learn + convergence test @ 3040 samples accepted.\n"
          ]
        },
        {
          "output_type": "stream",
          "name": "stdout",
          "text": [
            "[mcmc] Learn + convergence test @ 3040 samples accepted.\n"
          ]
        },
        {
          "output_type": "stream",
          "name": "stderr",
          "text": [
            "INFO:mcmc: - Acceptance rate: 0.276\n"
          ]
        },
        {
          "output_type": "stream",
          "name": "stdout",
          "text": [
            "[mcmc]  - Acceptance rate: 0.276\n"
          ]
        },
        {
          "output_type": "stream",
          "name": "stderr",
          "text": [
            "INFO:mcmc: - Convergence of means: R-1 = 0.011822 after 2432 accepted steps\n"
          ]
        },
        {
          "output_type": "stream",
          "name": "stdout",
          "text": [
            "[mcmc]  - Convergence of means: R-1 = 0.011822 after 2432 accepted steps\n"
          ]
        },
        {
          "output_type": "stream",
          "name": "stderr",
          "text": [
            "INFO:mcmc: - Updated covariance matrix of proposal pdf.\n"
          ]
        },
        {
          "output_type": "stream",
          "name": "stdout",
          "text": [
            "[mcmc]  - Updated covariance matrix of proposal pdf.\n"
          ]
        },
        {
          "output_type": "stream",
          "name": "stderr",
          "text": [
            "<ipython-input-49-68fc82096ce5>:4: RuntimeWarning: invalid value encountered in sqrt\n",
            "  return stats.norm.logpdf(np.sqrt(x**2 - y**2) ,loc=0,scale=2)\n",
            "INFO:mcmc:Learn + convergence test @ 3120 samples accepted.\n"
          ]
        },
        {
          "output_type": "stream",
          "name": "stdout",
          "text": [
            "[mcmc] Learn + convergence test @ 3120 samples accepted.\n"
          ]
        },
        {
          "output_type": "stream",
          "name": "stderr",
          "text": [
            "INFO:mcmc: - Acceptance rate: 0.276\n"
          ]
        },
        {
          "output_type": "stream",
          "name": "stdout",
          "text": [
            "[mcmc]  - Acceptance rate: 0.276\n"
          ]
        },
        {
          "output_type": "stream",
          "name": "stderr",
          "text": [
            "INFO:mcmc: - Convergence of means: R-1 = 0.011222 after 2496 accepted steps\n"
          ]
        },
        {
          "output_type": "stream",
          "name": "stdout",
          "text": [
            "[mcmc]  - Convergence of means: R-1 = 0.011222 after 2496 accepted steps\n"
          ]
        },
        {
          "output_type": "stream",
          "name": "stderr",
          "text": [
            "INFO:mcmc: - Updated covariance matrix of proposal pdf.\n"
          ]
        },
        {
          "output_type": "stream",
          "name": "stdout",
          "text": [
            "[mcmc]  - Updated covariance matrix of proposal pdf.\n"
          ]
        },
        {
          "output_type": "stream",
          "name": "stderr",
          "text": [
            "<ipython-input-49-68fc82096ce5>:4: RuntimeWarning: invalid value encountered in sqrt\n",
            "  return stats.norm.logpdf(np.sqrt(x**2 - y**2) ,loc=0,scale=2)\n",
            "INFO:mcmc:Learn + convergence test @ 3200 samples accepted.\n"
          ]
        },
        {
          "output_type": "stream",
          "name": "stdout",
          "text": [
            "[mcmc] Learn + convergence test @ 3200 samples accepted.\n"
          ]
        },
        {
          "output_type": "stream",
          "name": "stderr",
          "text": [
            "INFO:mcmc: - Acceptance rate: 0.276\n"
          ]
        },
        {
          "output_type": "stream",
          "name": "stdout",
          "text": [
            "[mcmc]  - Acceptance rate: 0.276\n"
          ]
        },
        {
          "output_type": "stream",
          "name": "stderr",
          "text": [
            "INFO:mcmc: - Convergence of means: R-1 = 0.009922 after 2560 accepted steps\n"
          ]
        },
        {
          "output_type": "stream",
          "name": "stdout",
          "text": [
            "[mcmc]  - Convergence of means: R-1 = 0.009922 after 2560 accepted steps\n"
          ]
        },
        {
          "output_type": "stream",
          "name": "stderr",
          "text": [
            "INFO:mcmc: - Updated covariance matrix of proposal pdf.\n"
          ]
        },
        {
          "output_type": "stream",
          "name": "stdout",
          "text": [
            "[mcmc]  - Updated covariance matrix of proposal pdf.\n"
          ]
        },
        {
          "output_type": "stream",
          "name": "stderr",
          "text": [
            "<ipython-input-49-68fc82096ce5>:4: RuntimeWarning: invalid value encountered in sqrt\n",
            "  return stats.norm.logpdf(np.sqrt(x**2 - y**2) ,loc=0,scale=2)\n",
            "INFO:mcmc:Learn + convergence test @ 3280 samples accepted.\n"
          ]
        },
        {
          "output_type": "stream",
          "name": "stdout",
          "text": [
            "[mcmc] Learn + convergence test @ 3280 samples accepted.\n"
          ]
        },
        {
          "output_type": "stream",
          "name": "stderr",
          "text": [
            "INFO:mcmc: - Acceptance rate: 0.275\n"
          ]
        },
        {
          "output_type": "stream",
          "name": "stdout",
          "text": [
            "[mcmc]  - Acceptance rate: 0.275\n"
          ]
        },
        {
          "output_type": "stream",
          "name": "stderr",
          "text": [
            "INFO:mcmc: - Convergence of means: R-1 = 0.011136 after 2624 accepted steps\n"
          ]
        },
        {
          "output_type": "stream",
          "name": "stdout",
          "text": [
            "[mcmc]  - Convergence of means: R-1 = 0.011136 after 2624 accepted steps\n"
          ]
        },
        {
          "output_type": "stream",
          "name": "stderr",
          "text": [
            "INFO:mcmc: - Updated covariance matrix of proposal pdf.\n"
          ]
        },
        {
          "output_type": "stream",
          "name": "stdout",
          "text": [
            "[mcmc]  - Updated covariance matrix of proposal pdf.\n"
          ]
        },
        {
          "output_type": "stream",
          "name": "stderr",
          "text": [
            "<ipython-input-49-68fc82096ce5>:4: RuntimeWarning: invalid value encountered in sqrt\n",
            "  return stats.norm.logpdf(np.sqrt(x**2 - y**2) ,loc=0,scale=2)\n",
            "INFO:mcmc:Learn + convergence test @ 3360 samples accepted.\n"
          ]
        },
        {
          "output_type": "stream",
          "name": "stdout",
          "text": [
            "[mcmc] Learn + convergence test @ 3360 samples accepted.\n"
          ]
        },
        {
          "output_type": "stream",
          "name": "stderr",
          "text": [
            "INFO:mcmc: - Acceptance rate: 0.275\n"
          ]
        },
        {
          "output_type": "stream",
          "name": "stdout",
          "text": [
            "[mcmc]  - Acceptance rate: 0.275\n"
          ]
        },
        {
          "output_type": "stream",
          "name": "stderr",
          "text": [
            "INFO:mcmc: - Convergence of means: R-1 = 0.005634 after 2688 accepted steps\n"
          ]
        },
        {
          "output_type": "stream",
          "name": "stdout",
          "text": [
            "[mcmc]  - Convergence of means: R-1 = 0.005634 after 2688 accepted steps\n"
          ]
        },
        {
          "output_type": "stream",
          "name": "stderr",
          "text": [
            "INFO:mcmc: - Updated covariance matrix of proposal pdf.\n"
          ]
        },
        {
          "output_type": "stream",
          "name": "stdout",
          "text": [
            "[mcmc]  - Updated covariance matrix of proposal pdf.\n"
          ]
        },
        {
          "output_type": "stream",
          "name": "stderr",
          "text": [
            "<ipython-input-49-68fc82096ce5>:4: RuntimeWarning: invalid value encountered in sqrt\n",
            "  return stats.norm.logpdf(np.sqrt(x**2 - y**2) ,loc=0,scale=2)\n",
            "INFO:mcmc:Learn + convergence test @ 3440 samples accepted.\n"
          ]
        },
        {
          "output_type": "stream",
          "name": "stdout",
          "text": [
            "[mcmc] Learn + convergence test @ 3440 samples accepted.\n"
          ]
        },
        {
          "output_type": "stream",
          "name": "stderr",
          "text": [
            "INFO:mcmc: - Acceptance rate: 0.276\n"
          ]
        },
        {
          "output_type": "stream",
          "name": "stdout",
          "text": [
            "[mcmc]  - Acceptance rate: 0.276\n"
          ]
        },
        {
          "output_type": "stream",
          "name": "stderr",
          "text": [
            "INFO:mcmc: - Convergence of means: R-1 = 0.005450 after 2752 accepted steps\n"
          ]
        },
        {
          "output_type": "stream",
          "name": "stdout",
          "text": [
            "[mcmc]  - Convergence of means: R-1 = 0.005450 after 2752 accepted steps\n"
          ]
        },
        {
          "output_type": "stream",
          "name": "stderr",
          "text": [
            "INFO:mcmc: - Updated covariance matrix of proposal pdf.\n"
          ]
        },
        {
          "output_type": "stream",
          "name": "stdout",
          "text": [
            "[mcmc]  - Updated covariance matrix of proposal pdf.\n"
          ]
        },
        {
          "output_type": "stream",
          "name": "stderr",
          "text": [
            "<ipython-input-49-68fc82096ce5>:4: RuntimeWarning: invalid value encountered in sqrt\n",
            "  return stats.norm.logpdf(np.sqrt(x**2 - y**2) ,loc=0,scale=2)\n",
            "INFO:mcmc:Learn + convergence test @ 3520 samples accepted.\n"
          ]
        },
        {
          "output_type": "stream",
          "name": "stdout",
          "text": [
            "[mcmc] Learn + convergence test @ 3520 samples accepted.\n"
          ]
        },
        {
          "output_type": "stream",
          "name": "stderr",
          "text": [
            "INFO:mcmc: - Acceptance rate: 0.276\n"
          ]
        },
        {
          "output_type": "stream",
          "name": "stdout",
          "text": [
            "[mcmc]  - Acceptance rate: 0.276\n"
          ]
        },
        {
          "output_type": "stream",
          "name": "stderr",
          "text": [
            "INFO:mcmc: - Convergence of means: R-1 = 0.004055 after 2816 accepted steps\n"
          ]
        },
        {
          "output_type": "stream",
          "name": "stdout",
          "text": [
            "[mcmc]  - Convergence of means: R-1 = 0.004055 after 2816 accepted steps\n"
          ]
        },
        {
          "output_type": "stream",
          "name": "stderr",
          "text": [
            "INFO:mcmc: - Updated covariance matrix of proposal pdf.\n"
          ]
        },
        {
          "output_type": "stream",
          "name": "stdout",
          "text": [
            "[mcmc]  - Updated covariance matrix of proposal pdf.\n"
          ]
        },
        {
          "output_type": "stream",
          "name": "stderr",
          "text": [
            "<ipython-input-49-68fc82096ce5>:4: RuntimeWarning: invalid value encountered in sqrt\n",
            "  return stats.norm.logpdf(np.sqrt(x**2 - y**2) ,loc=0,scale=2)\n",
            "INFO:mcmc:Learn + convergence test @ 3600 samples accepted.\n"
          ]
        },
        {
          "output_type": "stream",
          "name": "stdout",
          "text": [
            "[mcmc] Learn + convergence test @ 3600 samples accepted.\n"
          ]
        },
        {
          "output_type": "stream",
          "name": "stderr",
          "text": [
            "INFO:mcmc: - Acceptance rate: 0.277\n"
          ]
        },
        {
          "output_type": "stream",
          "name": "stdout",
          "text": [
            "[mcmc]  - Acceptance rate: 0.277\n"
          ]
        },
        {
          "output_type": "stream",
          "name": "stderr",
          "text": [
            "INFO:mcmc: - Convergence of means: R-1 = 0.003028 after 2880 accepted steps\n"
          ]
        },
        {
          "output_type": "stream",
          "name": "stdout",
          "text": [
            "[mcmc]  - Convergence of means: R-1 = 0.003028 after 2880 accepted steps\n"
          ]
        },
        {
          "output_type": "stream",
          "name": "stderr",
          "text": [
            "INFO:mcmc: - Updated covariance matrix of proposal pdf.\n"
          ]
        },
        {
          "output_type": "stream",
          "name": "stdout",
          "text": [
            "[mcmc]  - Updated covariance matrix of proposal pdf.\n"
          ]
        },
        {
          "output_type": "stream",
          "name": "stderr",
          "text": [
            "<ipython-input-49-68fc82096ce5>:4: RuntimeWarning: invalid value encountered in sqrt\n",
            "  return stats.norm.logpdf(np.sqrt(x**2 - y**2) ,loc=0,scale=2)\n",
            "INFO:mcmc:Learn + convergence test @ 3680 samples accepted.\n"
          ]
        },
        {
          "output_type": "stream",
          "name": "stdout",
          "text": [
            "[mcmc] Learn + convergence test @ 3680 samples accepted.\n"
          ]
        },
        {
          "output_type": "stream",
          "name": "stderr",
          "text": [
            "INFO:mcmc: - Acceptance rate: 0.278\n"
          ]
        },
        {
          "output_type": "stream",
          "name": "stdout",
          "text": [
            "[mcmc]  - Acceptance rate: 0.278\n"
          ]
        },
        {
          "output_type": "stream",
          "name": "stderr",
          "text": [
            "INFO:mcmc: - Convergence of means: R-1 = 0.007774 after 2944 accepted steps\n"
          ]
        },
        {
          "output_type": "stream",
          "name": "stdout",
          "text": [
            "[mcmc]  - Convergence of means: R-1 = 0.007774 after 2944 accepted steps\n"
          ]
        },
        {
          "output_type": "stream",
          "name": "stderr",
          "text": [
            "INFO:mcmc: - Updated covariance matrix of proposal pdf.\n"
          ]
        },
        {
          "output_type": "stream",
          "name": "stdout",
          "text": [
            "[mcmc]  - Updated covariance matrix of proposal pdf.\n"
          ]
        },
        {
          "output_type": "stream",
          "name": "stderr",
          "text": [
            "<ipython-input-49-68fc82096ce5>:4: RuntimeWarning: invalid value encountered in sqrt\n",
            "  return stats.norm.logpdf(np.sqrt(x**2 - y**2) ,loc=0,scale=2)\n",
            "INFO:mcmc:Learn + convergence test @ 3760 samples accepted.\n"
          ]
        },
        {
          "output_type": "stream",
          "name": "stdout",
          "text": [
            "[mcmc] Learn + convergence test @ 3760 samples accepted.\n"
          ]
        },
        {
          "output_type": "stream",
          "name": "stderr",
          "text": [
            "INFO:mcmc: - Acceptance rate: 0.278\n"
          ]
        },
        {
          "output_type": "stream",
          "name": "stdout",
          "text": [
            "[mcmc]  - Acceptance rate: 0.278\n"
          ]
        },
        {
          "output_type": "stream",
          "name": "stderr",
          "text": [
            "INFO:mcmc: - Convergence of means: R-1 = 0.007652 after 3008 accepted steps\n"
          ]
        },
        {
          "output_type": "stream",
          "name": "stdout",
          "text": [
            "[mcmc]  - Convergence of means: R-1 = 0.007652 after 3008 accepted steps\n"
          ]
        },
        {
          "output_type": "stream",
          "name": "stderr",
          "text": [
            "INFO:mcmc: - Updated covariance matrix of proposal pdf.\n"
          ]
        },
        {
          "output_type": "stream",
          "name": "stdout",
          "text": [
            "[mcmc]  - Updated covariance matrix of proposal pdf.\n"
          ]
        },
        {
          "output_type": "stream",
          "name": "stderr",
          "text": [
            "<ipython-input-49-68fc82096ce5>:4: RuntimeWarning: invalid value encountered in sqrt\n",
            "  return stats.norm.logpdf(np.sqrt(x**2 - y**2) ,loc=0,scale=2)\n",
            "INFO:mcmc:Learn + convergence test @ 3840 samples accepted.\n"
          ]
        },
        {
          "output_type": "stream",
          "name": "stdout",
          "text": [
            "[mcmc] Learn + convergence test @ 3840 samples accepted.\n"
          ]
        },
        {
          "output_type": "stream",
          "name": "stderr",
          "text": [
            "INFO:mcmc: - Acceptance rate: 0.277\n"
          ]
        },
        {
          "output_type": "stream",
          "name": "stdout",
          "text": [
            "[mcmc]  - Acceptance rate: 0.277\n"
          ]
        },
        {
          "output_type": "stream",
          "name": "stderr",
          "text": [
            "INFO:mcmc: - Convergence of means: R-1 = 0.006801 after 3072 accepted steps\n"
          ]
        },
        {
          "output_type": "stream",
          "name": "stdout",
          "text": [
            "[mcmc]  - Convergence of means: R-1 = 0.006801 after 3072 accepted steps\n"
          ]
        },
        {
          "output_type": "stream",
          "name": "stderr",
          "text": [
            "INFO:mcmc: - Updated covariance matrix of proposal pdf.\n"
          ]
        },
        {
          "output_type": "stream",
          "name": "stdout",
          "text": [
            "[mcmc]  - Updated covariance matrix of proposal pdf.\n"
          ]
        },
        {
          "output_type": "stream",
          "name": "stderr",
          "text": [
            "<ipython-input-49-68fc82096ce5>:4: RuntimeWarning: invalid value encountered in sqrt\n",
            "  return stats.norm.logpdf(np.sqrt(x**2 - y**2) ,loc=0,scale=2)\n",
            "INFO:mcmc:Learn + convergence test @ 3920 samples accepted.\n"
          ]
        },
        {
          "output_type": "stream",
          "name": "stdout",
          "text": [
            "[mcmc] Learn + convergence test @ 3920 samples accepted.\n"
          ]
        },
        {
          "output_type": "stream",
          "name": "stderr",
          "text": [
            "INFO:mcmc: - Acceptance rate: 0.276\n"
          ]
        },
        {
          "output_type": "stream",
          "name": "stdout",
          "text": [
            "[mcmc]  - Acceptance rate: 0.276\n"
          ]
        },
        {
          "output_type": "stream",
          "name": "stderr",
          "text": [
            "INFO:mcmc: - Convergence of means: R-1 = 0.006234 after 3136 accepted steps\n"
          ]
        },
        {
          "output_type": "stream",
          "name": "stdout",
          "text": [
            "[mcmc]  - Convergence of means: R-1 = 0.006234 after 3136 accepted steps\n"
          ]
        },
        {
          "output_type": "stream",
          "name": "stderr",
          "text": [
            "INFO:mcmc: - Updated covariance matrix of proposal pdf.\n"
          ]
        },
        {
          "output_type": "stream",
          "name": "stdout",
          "text": [
            "[mcmc]  - Updated covariance matrix of proposal pdf.\n"
          ]
        },
        {
          "output_type": "stream",
          "name": "stderr",
          "text": [
            "<ipython-input-49-68fc82096ce5>:4: RuntimeWarning: invalid value encountered in sqrt\n",
            "  return stats.norm.logpdf(np.sqrt(x**2 - y**2) ,loc=0,scale=2)\n",
            "INFO:mcmc:Learn + convergence test @ 4000 samples accepted.\n"
          ]
        },
        {
          "output_type": "stream",
          "name": "stdout",
          "text": [
            "[mcmc] Learn + convergence test @ 4000 samples accepted.\n"
          ]
        },
        {
          "output_type": "stream",
          "name": "stderr",
          "text": [
            "INFO:mcmc: - Acceptance rate: 0.275\n"
          ]
        },
        {
          "output_type": "stream",
          "name": "stdout",
          "text": [
            "[mcmc]  - Acceptance rate: 0.275\n"
          ]
        },
        {
          "output_type": "stream",
          "name": "stderr",
          "text": [
            "INFO:mcmc: - Convergence of means: R-1 = 0.006002 after 3200 accepted steps\n"
          ]
        },
        {
          "output_type": "stream",
          "name": "stdout",
          "text": [
            "[mcmc]  - Convergence of means: R-1 = 0.006002 after 3200 accepted steps\n"
          ]
        },
        {
          "output_type": "stream",
          "name": "stderr",
          "text": [
            "INFO:mcmc: - Updated covariance matrix of proposal pdf.\n"
          ]
        },
        {
          "output_type": "stream",
          "name": "stdout",
          "text": [
            "[mcmc]  - Updated covariance matrix of proposal pdf.\n"
          ]
        },
        {
          "output_type": "stream",
          "name": "stderr",
          "text": [
            "<ipython-input-49-68fc82096ce5>:4: RuntimeWarning: invalid value encountered in sqrt\n",
            "  return stats.norm.logpdf(np.sqrt(x**2 - y**2) ,loc=0,scale=2)\n",
            "INFO:mcmc:Learn + convergence test @ 4080 samples accepted.\n"
          ]
        },
        {
          "output_type": "stream",
          "name": "stdout",
          "text": [
            "[mcmc] Learn + convergence test @ 4080 samples accepted.\n"
          ]
        },
        {
          "output_type": "stream",
          "name": "stderr",
          "text": [
            "INFO:mcmc: - Acceptance rate: 0.275\n"
          ]
        },
        {
          "output_type": "stream",
          "name": "stdout",
          "text": [
            "[mcmc]  - Acceptance rate: 0.275\n"
          ]
        },
        {
          "output_type": "stream",
          "name": "stderr",
          "text": [
            "INFO:mcmc: - Convergence of means: R-1 = 0.005876 after 3264 accepted steps\n"
          ]
        },
        {
          "output_type": "stream",
          "name": "stdout",
          "text": [
            "[mcmc]  - Convergence of means: R-1 = 0.005876 after 3264 accepted steps\n"
          ]
        },
        {
          "output_type": "stream",
          "name": "stderr",
          "text": [
            "INFO:mcmc: - Updated covariance matrix of proposal pdf.\n"
          ]
        },
        {
          "output_type": "stream",
          "name": "stdout",
          "text": [
            "[mcmc]  - Updated covariance matrix of proposal pdf.\n"
          ]
        },
        {
          "output_type": "stream",
          "name": "stderr",
          "text": [
            "<ipython-input-49-68fc82096ce5>:4: RuntimeWarning: invalid value encountered in sqrt\n",
            "  return stats.norm.logpdf(np.sqrt(x**2 - y**2) ,loc=0,scale=2)\n",
            "INFO:mcmc:Learn + convergence test @ 4160 samples accepted.\n"
          ]
        },
        {
          "output_type": "stream",
          "name": "stdout",
          "text": [
            "[mcmc] Learn + convergence test @ 4160 samples accepted.\n"
          ]
        },
        {
          "output_type": "stream",
          "name": "stderr",
          "text": [
            "INFO:mcmc: - Acceptance rate: 0.275\n"
          ]
        },
        {
          "output_type": "stream",
          "name": "stdout",
          "text": [
            "[mcmc]  - Acceptance rate: 0.275\n"
          ]
        },
        {
          "output_type": "stream",
          "name": "stderr",
          "text": [
            "INFO:mcmc: - Convergence of means: R-1 = 0.006539 after 3328 accepted steps\n"
          ]
        },
        {
          "output_type": "stream",
          "name": "stdout",
          "text": [
            "[mcmc]  - Convergence of means: R-1 = 0.006539 after 3328 accepted steps\n"
          ]
        },
        {
          "output_type": "stream",
          "name": "stderr",
          "text": [
            "INFO:mcmc: - Updated covariance matrix of proposal pdf.\n"
          ]
        },
        {
          "output_type": "stream",
          "name": "stdout",
          "text": [
            "[mcmc]  - Updated covariance matrix of proposal pdf.\n"
          ]
        },
        {
          "output_type": "stream",
          "name": "stderr",
          "text": [
            "<ipython-input-49-68fc82096ce5>:4: RuntimeWarning: invalid value encountered in sqrt\n",
            "  return stats.norm.logpdf(np.sqrt(x**2 - y**2) ,loc=0,scale=2)\n",
            "INFO:mcmc:Learn + convergence test @ 4240 samples accepted.\n"
          ]
        },
        {
          "output_type": "stream",
          "name": "stdout",
          "text": [
            "[mcmc] Learn + convergence test @ 4240 samples accepted.\n"
          ]
        },
        {
          "output_type": "stream",
          "name": "stderr",
          "text": [
            "INFO:mcmc: - Acceptance rate: 0.275\n"
          ]
        },
        {
          "output_type": "stream",
          "name": "stdout",
          "text": [
            "[mcmc]  - Acceptance rate: 0.275\n"
          ]
        },
        {
          "output_type": "stream",
          "name": "stderr",
          "text": [
            "INFO:mcmc: - Convergence of means: R-1 = 0.009403 after 3392 accepted steps\n"
          ]
        },
        {
          "output_type": "stream",
          "name": "stdout",
          "text": [
            "[mcmc]  - Convergence of means: R-1 = 0.009403 after 3392 accepted steps\n"
          ]
        },
        {
          "output_type": "stream",
          "name": "stderr",
          "text": [
            "INFO:mcmc: - Updated covariance matrix of proposal pdf.\n"
          ]
        },
        {
          "output_type": "stream",
          "name": "stdout",
          "text": [
            "[mcmc]  - Updated covariance matrix of proposal pdf.\n"
          ]
        },
        {
          "output_type": "stream",
          "name": "stderr",
          "text": [
            "<ipython-input-49-68fc82096ce5>:4: RuntimeWarning: invalid value encountered in sqrt\n",
            "  return stats.norm.logpdf(np.sqrt(x**2 - y**2) ,loc=0,scale=2)\n",
            "INFO:mcmc:Learn + convergence test @ 4320 samples accepted.\n"
          ]
        },
        {
          "output_type": "stream",
          "name": "stdout",
          "text": [
            "[mcmc] Learn + convergence test @ 4320 samples accepted.\n"
          ]
        },
        {
          "output_type": "stream",
          "name": "stderr",
          "text": [
            "INFO:mcmc: - Acceptance rate: 0.273\n"
          ]
        },
        {
          "output_type": "stream",
          "name": "stdout",
          "text": [
            "[mcmc]  - Acceptance rate: 0.273\n"
          ]
        },
        {
          "output_type": "stream",
          "name": "stderr",
          "text": [
            "INFO:mcmc: - Convergence of means: R-1 = 0.010496 after 3456 accepted steps\n"
          ]
        },
        {
          "output_type": "stream",
          "name": "stdout",
          "text": [
            "[mcmc]  - Convergence of means: R-1 = 0.010496 after 3456 accepted steps\n"
          ]
        },
        {
          "output_type": "stream",
          "name": "stderr",
          "text": [
            "INFO:mcmc: - Updated covariance matrix of proposal pdf.\n"
          ]
        },
        {
          "output_type": "stream",
          "name": "stdout",
          "text": [
            "[mcmc]  - Updated covariance matrix of proposal pdf.\n"
          ]
        },
        {
          "output_type": "stream",
          "name": "stderr",
          "text": [
            "<ipython-input-49-68fc82096ce5>:4: RuntimeWarning: invalid value encountered in sqrt\n",
            "  return stats.norm.logpdf(np.sqrt(x**2 - y**2) ,loc=0,scale=2)\n",
            "INFO:mcmc:Learn + convergence test @ 4400 samples accepted.\n"
          ]
        },
        {
          "output_type": "stream",
          "name": "stdout",
          "text": [
            "[mcmc] Learn + convergence test @ 4400 samples accepted.\n"
          ]
        },
        {
          "output_type": "stream",
          "name": "stderr",
          "text": [
            "INFO:mcmc: - Acceptance rate: 0.273\n"
          ]
        },
        {
          "output_type": "stream",
          "name": "stdout",
          "text": [
            "[mcmc]  - Acceptance rate: 0.273\n"
          ]
        },
        {
          "output_type": "stream",
          "name": "stderr",
          "text": [
            "INFO:mcmc: - Convergence of means: R-1 = 0.008657 after 3520 accepted steps\n"
          ]
        },
        {
          "output_type": "stream",
          "name": "stdout",
          "text": [
            "[mcmc]  - Convergence of means: R-1 = 0.008657 after 3520 accepted steps\n"
          ]
        },
        {
          "output_type": "stream",
          "name": "stderr",
          "text": [
            "INFO:mcmc: - Updated covariance matrix of proposal pdf.\n"
          ]
        },
        {
          "output_type": "stream",
          "name": "stdout",
          "text": [
            "[mcmc]  - Updated covariance matrix of proposal pdf.\n"
          ]
        },
        {
          "output_type": "stream",
          "name": "stderr",
          "text": [
            "<ipython-input-49-68fc82096ce5>:4: RuntimeWarning: invalid value encountered in sqrt\n",
            "  return stats.norm.logpdf(np.sqrt(x**2 - y**2) ,loc=0,scale=2)\n",
            "INFO:mcmc:Learn + convergence test @ 4480 samples accepted.\n"
          ]
        },
        {
          "output_type": "stream",
          "name": "stdout",
          "text": [
            "[mcmc] Learn + convergence test @ 4480 samples accepted.\n"
          ]
        },
        {
          "output_type": "stream",
          "name": "stderr",
          "text": [
            "INFO:mcmc: - Acceptance rate: 0.272\n"
          ]
        },
        {
          "output_type": "stream",
          "name": "stdout",
          "text": [
            "[mcmc]  - Acceptance rate: 0.272\n"
          ]
        },
        {
          "output_type": "stream",
          "name": "stderr",
          "text": [
            "INFO:mcmc: - Convergence of means: R-1 = 0.007378 after 3584 accepted steps\n"
          ]
        },
        {
          "output_type": "stream",
          "name": "stdout",
          "text": [
            "[mcmc]  - Convergence of means: R-1 = 0.007378 after 3584 accepted steps\n"
          ]
        },
        {
          "output_type": "stream",
          "name": "stderr",
          "text": [
            "INFO:mcmc: - Updated covariance matrix of proposal pdf.\n"
          ]
        },
        {
          "output_type": "stream",
          "name": "stdout",
          "text": [
            "[mcmc]  - Updated covariance matrix of proposal pdf.\n"
          ]
        },
        {
          "output_type": "stream",
          "name": "stderr",
          "text": [
            "<ipython-input-49-68fc82096ce5>:4: RuntimeWarning: invalid value encountered in sqrt\n",
            "  return stats.norm.logpdf(np.sqrt(x**2 - y**2) ,loc=0,scale=2)\n",
            "INFO:mcmc:Learn + convergence test @ 4560 samples accepted.\n"
          ]
        },
        {
          "output_type": "stream",
          "name": "stdout",
          "text": [
            "[mcmc] Learn + convergence test @ 4560 samples accepted.\n"
          ]
        },
        {
          "output_type": "stream",
          "name": "stderr",
          "text": [
            "INFO:mcmc: - Acceptance rate: 0.273\n"
          ]
        },
        {
          "output_type": "stream",
          "name": "stdout",
          "text": [
            "[mcmc]  - Acceptance rate: 0.273\n"
          ]
        },
        {
          "output_type": "stream",
          "name": "stderr",
          "text": [
            "INFO:mcmc: - Convergence of means: R-1 = 0.008475 after 3648 accepted steps\n"
          ]
        },
        {
          "output_type": "stream",
          "name": "stdout",
          "text": [
            "[mcmc]  - Convergence of means: R-1 = 0.008475 after 3648 accepted steps\n"
          ]
        },
        {
          "output_type": "stream",
          "name": "stderr",
          "text": [
            "INFO:mcmc: - Updated covariance matrix of proposal pdf.\n"
          ]
        },
        {
          "output_type": "stream",
          "name": "stdout",
          "text": [
            "[mcmc]  - Updated covariance matrix of proposal pdf.\n"
          ]
        },
        {
          "output_type": "stream",
          "name": "stderr",
          "text": [
            "<ipython-input-49-68fc82096ce5>:4: RuntimeWarning: invalid value encountered in sqrt\n",
            "  return stats.norm.logpdf(np.sqrt(x**2 - y**2) ,loc=0,scale=2)\n",
            "INFO:mcmc:Learn + convergence test @ 4640 samples accepted.\n"
          ]
        },
        {
          "output_type": "stream",
          "name": "stdout",
          "text": [
            "[mcmc] Learn + convergence test @ 4640 samples accepted.\n"
          ]
        },
        {
          "output_type": "stream",
          "name": "stderr",
          "text": [
            "INFO:mcmc: - Acceptance rate: 0.271\n"
          ]
        },
        {
          "output_type": "stream",
          "name": "stdout",
          "text": [
            "[mcmc]  - Acceptance rate: 0.271\n"
          ]
        },
        {
          "output_type": "stream",
          "name": "stderr",
          "text": [
            "INFO:mcmc: - Convergence of means: R-1 = 0.009145 after 3712 accepted steps\n"
          ]
        },
        {
          "output_type": "stream",
          "name": "stdout",
          "text": [
            "[mcmc]  - Convergence of means: R-1 = 0.009145 after 3712 accepted steps\n"
          ]
        },
        {
          "output_type": "stream",
          "name": "stderr",
          "text": [
            "INFO:mcmc: - Updated covariance matrix of proposal pdf.\n"
          ]
        },
        {
          "output_type": "stream",
          "name": "stdout",
          "text": [
            "[mcmc]  - Updated covariance matrix of proposal pdf.\n"
          ]
        },
        {
          "output_type": "stream",
          "name": "stderr",
          "text": [
            "<ipython-input-49-68fc82096ce5>:4: RuntimeWarning: invalid value encountered in sqrt\n",
            "  return stats.norm.logpdf(np.sqrt(x**2 - y**2) ,loc=0,scale=2)\n",
            "INFO:mcmc:Learn + convergence test @ 4720 samples accepted.\n"
          ]
        },
        {
          "output_type": "stream",
          "name": "stdout",
          "text": [
            "[mcmc] Learn + convergence test @ 4720 samples accepted.\n"
          ]
        },
        {
          "output_type": "stream",
          "name": "stderr",
          "text": [
            "INFO:mcmc: - Acceptance rate: 0.272\n"
          ]
        },
        {
          "output_type": "stream",
          "name": "stdout",
          "text": [
            "[mcmc]  - Acceptance rate: 0.272\n"
          ]
        },
        {
          "output_type": "stream",
          "name": "stderr",
          "text": [
            "INFO:mcmc: - Convergence of means: R-1 = 0.009219 after 3776 accepted steps\n"
          ]
        },
        {
          "output_type": "stream",
          "name": "stdout",
          "text": [
            "[mcmc]  - Convergence of means: R-1 = 0.009219 after 3776 accepted steps\n"
          ]
        },
        {
          "output_type": "stream",
          "name": "stderr",
          "text": [
            "INFO:mcmc: - Updated covariance matrix of proposal pdf.\n"
          ]
        },
        {
          "output_type": "stream",
          "name": "stdout",
          "text": [
            "[mcmc]  - Updated covariance matrix of proposal pdf.\n"
          ]
        },
        {
          "output_type": "stream",
          "name": "stderr",
          "text": [
            "<ipython-input-49-68fc82096ce5>:4: RuntimeWarning: invalid value encountered in sqrt\n",
            "  return stats.norm.logpdf(np.sqrt(x**2 - y**2) ,loc=0,scale=2)\n",
            "INFO:mcmc:Learn + convergence test @ 4800 samples accepted.\n"
          ]
        },
        {
          "output_type": "stream",
          "name": "stdout",
          "text": [
            "[mcmc] Learn + convergence test @ 4800 samples accepted.\n"
          ]
        },
        {
          "output_type": "stream",
          "name": "stderr",
          "text": [
            "INFO:mcmc: - Acceptance rate: 0.271\n"
          ]
        },
        {
          "output_type": "stream",
          "name": "stdout",
          "text": [
            "[mcmc]  - Acceptance rate: 0.271\n"
          ]
        },
        {
          "output_type": "stream",
          "name": "stderr",
          "text": [
            "INFO:mcmc: - Convergence of means: R-1 = 0.007824 after 3840 accepted steps\n"
          ]
        },
        {
          "output_type": "stream",
          "name": "stdout",
          "text": [
            "[mcmc]  - Convergence of means: R-1 = 0.007824 after 3840 accepted steps\n"
          ]
        },
        {
          "output_type": "stream",
          "name": "stderr",
          "text": [
            "INFO:mcmc: - Updated covariance matrix of proposal pdf.\n"
          ]
        },
        {
          "output_type": "stream",
          "name": "stdout",
          "text": [
            "[mcmc]  - Updated covariance matrix of proposal pdf.\n"
          ]
        },
        {
          "output_type": "stream",
          "name": "stderr",
          "text": [
            "<ipython-input-49-68fc82096ce5>:4: RuntimeWarning: invalid value encountered in sqrt\n",
            "  return stats.norm.logpdf(np.sqrt(x**2 - y**2) ,loc=0,scale=2)\n",
            "INFO:mcmc:Learn + convergence test @ 4880 samples accepted.\n"
          ]
        },
        {
          "output_type": "stream",
          "name": "stdout",
          "text": [
            "[mcmc] Learn + convergence test @ 4880 samples accepted.\n"
          ]
        },
        {
          "output_type": "stream",
          "name": "stderr",
          "text": [
            "INFO:mcmc: - Acceptance rate: 0.271\n"
          ]
        },
        {
          "output_type": "stream",
          "name": "stdout",
          "text": [
            "[mcmc]  - Acceptance rate: 0.271\n"
          ]
        },
        {
          "output_type": "stream",
          "name": "stderr",
          "text": [
            "INFO:mcmc: - Convergence of means: R-1 = 0.007532 after 3904 accepted steps\n"
          ]
        },
        {
          "output_type": "stream",
          "name": "stdout",
          "text": [
            "[mcmc]  - Convergence of means: R-1 = 0.007532 after 3904 accepted steps\n"
          ]
        },
        {
          "output_type": "stream",
          "name": "stderr",
          "text": [
            "INFO:mcmc: - Updated covariance matrix of proposal pdf.\n"
          ]
        },
        {
          "output_type": "stream",
          "name": "stdout",
          "text": [
            "[mcmc]  - Updated covariance matrix of proposal pdf.\n"
          ]
        },
        {
          "output_type": "stream",
          "name": "stderr",
          "text": [
            "<ipython-input-49-68fc82096ce5>:4: RuntimeWarning: invalid value encountered in sqrt\n",
            "  return stats.norm.logpdf(np.sqrt(x**2 - y**2) ,loc=0,scale=2)\n",
            "INFO:mcmc:Learn + convergence test @ 4960 samples accepted.\n"
          ]
        },
        {
          "output_type": "stream",
          "name": "stdout",
          "text": [
            "[mcmc] Learn + convergence test @ 4960 samples accepted.\n"
          ]
        },
        {
          "output_type": "stream",
          "name": "stderr",
          "text": [
            "INFO:mcmc: - Acceptance rate: 0.272\n"
          ]
        },
        {
          "output_type": "stream",
          "name": "stdout",
          "text": [
            "[mcmc]  - Acceptance rate: 0.272\n"
          ]
        },
        {
          "output_type": "stream",
          "name": "stderr",
          "text": [
            "INFO:mcmc: - Convergence of means: R-1 = 0.005855 after 3968 accepted steps\n"
          ]
        },
        {
          "output_type": "stream",
          "name": "stdout",
          "text": [
            "[mcmc]  - Convergence of means: R-1 = 0.005855 after 3968 accepted steps\n"
          ]
        },
        {
          "output_type": "stream",
          "name": "stderr",
          "text": [
            "INFO:mcmc: - Updated covariance matrix of proposal pdf.\n"
          ]
        },
        {
          "output_type": "stream",
          "name": "stdout",
          "text": [
            "[mcmc]  - Updated covariance matrix of proposal pdf.\n"
          ]
        },
        {
          "output_type": "stream",
          "name": "stderr",
          "text": [
            "<ipython-input-49-68fc82096ce5>:4: RuntimeWarning: invalid value encountered in sqrt\n",
            "  return stats.norm.logpdf(np.sqrt(x**2 - y**2) ,loc=0,scale=2)\n",
            "INFO:mcmc:Learn + convergence test @ 5040 samples accepted.\n"
          ]
        },
        {
          "output_type": "stream",
          "name": "stdout",
          "text": [
            "[mcmc] Learn + convergence test @ 5040 samples accepted.\n"
          ]
        },
        {
          "output_type": "stream",
          "name": "stderr",
          "text": [
            "INFO:mcmc: - Acceptance rate: 0.273\n"
          ]
        },
        {
          "output_type": "stream",
          "name": "stdout",
          "text": [
            "[mcmc]  - Acceptance rate: 0.273\n"
          ]
        },
        {
          "output_type": "stream",
          "name": "stderr",
          "text": [
            "INFO:mcmc: - Convergence of means: R-1 = 0.006042 after 4032 accepted steps\n"
          ]
        },
        {
          "output_type": "stream",
          "name": "stdout",
          "text": [
            "[mcmc]  - Convergence of means: R-1 = 0.006042 after 4032 accepted steps\n"
          ]
        },
        {
          "output_type": "stream",
          "name": "stderr",
          "text": [
            "INFO:mcmc: - Updated covariance matrix of proposal pdf.\n"
          ]
        },
        {
          "output_type": "stream",
          "name": "stdout",
          "text": [
            "[mcmc]  - Updated covariance matrix of proposal pdf.\n"
          ]
        },
        {
          "output_type": "stream",
          "name": "stderr",
          "text": [
            "<ipython-input-49-68fc82096ce5>:4: RuntimeWarning: invalid value encountered in sqrt\n",
            "  return stats.norm.logpdf(np.sqrt(x**2 - y**2) ,loc=0,scale=2)\n",
            "INFO:mcmc:Learn + convergence test @ 5120 samples accepted.\n"
          ]
        },
        {
          "output_type": "stream",
          "name": "stdout",
          "text": [
            "[mcmc] Learn + convergence test @ 5120 samples accepted.\n"
          ]
        },
        {
          "output_type": "stream",
          "name": "stderr",
          "text": [
            "INFO:mcmc: - Acceptance rate: 0.273\n"
          ]
        },
        {
          "output_type": "stream",
          "name": "stdout",
          "text": [
            "[mcmc]  - Acceptance rate: 0.273\n"
          ]
        },
        {
          "output_type": "stream",
          "name": "stderr",
          "text": [
            "INFO:mcmc: - Convergence of means: R-1 = 0.004951 after 4096 accepted steps\n"
          ]
        },
        {
          "output_type": "stream",
          "name": "stdout",
          "text": [
            "[mcmc]  - Convergence of means: R-1 = 0.004951 after 4096 accepted steps\n"
          ]
        },
        {
          "output_type": "stream",
          "name": "stderr",
          "text": [
            "INFO:mcmc: - Updated covariance matrix of proposal pdf.\n"
          ]
        },
        {
          "output_type": "stream",
          "name": "stdout",
          "text": [
            "[mcmc]  - Updated covariance matrix of proposal pdf.\n"
          ]
        },
        {
          "output_type": "stream",
          "name": "stderr",
          "text": [
            "<ipython-input-49-68fc82096ce5>:4: RuntimeWarning: invalid value encountered in sqrt\n",
            "  return stats.norm.logpdf(np.sqrt(x**2 - y**2) ,loc=0,scale=2)\n",
            "INFO:mcmc:Learn + convergence test @ 5200 samples accepted.\n"
          ]
        },
        {
          "output_type": "stream",
          "name": "stdout",
          "text": [
            "[mcmc] Learn + convergence test @ 5200 samples accepted.\n"
          ]
        },
        {
          "output_type": "stream",
          "name": "stderr",
          "text": [
            "INFO:mcmc: - Acceptance rate: 0.272\n"
          ]
        },
        {
          "output_type": "stream",
          "name": "stdout",
          "text": [
            "[mcmc]  - Acceptance rate: 0.272\n"
          ]
        },
        {
          "output_type": "stream",
          "name": "stderr",
          "text": [
            "INFO:mcmc: - Convergence of means: R-1 = 0.004296 after 4160 accepted steps\n"
          ]
        },
        {
          "output_type": "stream",
          "name": "stdout",
          "text": [
            "[mcmc]  - Convergence of means: R-1 = 0.004296 after 4160 accepted steps\n"
          ]
        },
        {
          "output_type": "stream",
          "name": "stderr",
          "text": [
            "INFO:mcmc: - Updated covariance matrix of proposal pdf.\n"
          ]
        },
        {
          "output_type": "stream",
          "name": "stdout",
          "text": [
            "[mcmc]  - Updated covariance matrix of proposal pdf.\n"
          ]
        },
        {
          "output_type": "stream",
          "name": "stderr",
          "text": [
            "<ipython-input-49-68fc82096ce5>:4: RuntimeWarning: invalid value encountered in sqrt\n",
            "  return stats.norm.logpdf(np.sqrt(x**2 - y**2) ,loc=0,scale=2)\n",
            "INFO:mcmc:Learn + convergence test @ 5280 samples accepted.\n"
          ]
        },
        {
          "output_type": "stream",
          "name": "stdout",
          "text": [
            "[mcmc] Learn + convergence test @ 5280 samples accepted.\n"
          ]
        },
        {
          "output_type": "stream",
          "name": "stderr",
          "text": [
            "INFO:mcmc: - Acceptance rate: 0.271\n"
          ]
        },
        {
          "output_type": "stream",
          "name": "stdout",
          "text": [
            "[mcmc]  - Acceptance rate: 0.271\n"
          ]
        },
        {
          "output_type": "stream",
          "name": "stderr",
          "text": [
            "INFO:mcmc: - Convergence of means: R-1 = 0.002909 after 4224 accepted steps\n"
          ]
        },
        {
          "output_type": "stream",
          "name": "stdout",
          "text": [
            "[mcmc]  - Convergence of means: R-1 = 0.002909 after 4224 accepted steps\n"
          ]
        },
        {
          "output_type": "stream",
          "name": "stderr",
          "text": [
            "INFO:mcmc: - Updated covariance matrix of proposal pdf.\n"
          ]
        },
        {
          "output_type": "stream",
          "name": "stdout",
          "text": [
            "[mcmc]  - Updated covariance matrix of proposal pdf.\n"
          ]
        },
        {
          "output_type": "stream",
          "name": "stderr",
          "text": [
            "<ipython-input-49-68fc82096ce5>:4: RuntimeWarning: invalid value encountered in sqrt\n",
            "  return stats.norm.logpdf(np.sqrt(x**2 - y**2) ,loc=0,scale=2)\n",
            "INFO:mcmc:Learn + convergence test @ 5360 samples accepted.\n"
          ]
        },
        {
          "output_type": "stream",
          "name": "stdout",
          "text": [
            "[mcmc] Learn + convergence test @ 5360 samples accepted.\n"
          ]
        },
        {
          "output_type": "stream",
          "name": "stderr",
          "text": [
            "INFO:mcmc: - Acceptance rate: 0.272\n"
          ]
        },
        {
          "output_type": "stream",
          "name": "stdout",
          "text": [
            "[mcmc]  - Acceptance rate: 0.272\n"
          ]
        },
        {
          "output_type": "stream",
          "name": "stderr",
          "text": [
            "INFO:mcmc: - Convergence of means: R-1 = 0.003292 after 4288 accepted steps\n"
          ]
        },
        {
          "output_type": "stream",
          "name": "stdout",
          "text": [
            "[mcmc]  - Convergence of means: R-1 = 0.003292 after 4288 accepted steps\n"
          ]
        },
        {
          "output_type": "stream",
          "name": "stderr",
          "text": [
            "INFO:mcmc: - Updated covariance matrix of proposal pdf.\n"
          ]
        },
        {
          "output_type": "stream",
          "name": "stdout",
          "text": [
            "[mcmc]  - Updated covariance matrix of proposal pdf.\n"
          ]
        },
        {
          "output_type": "stream",
          "name": "stderr",
          "text": [
            "<ipython-input-49-68fc82096ce5>:4: RuntimeWarning: invalid value encountered in sqrt\n",
            "  return stats.norm.logpdf(np.sqrt(x**2 - y**2) ,loc=0,scale=2)\n",
            "INFO:mcmc:Learn + convergence test @ 5440 samples accepted.\n"
          ]
        },
        {
          "output_type": "stream",
          "name": "stdout",
          "text": [
            "[mcmc] Learn + convergence test @ 5440 samples accepted.\n"
          ]
        },
        {
          "output_type": "stream",
          "name": "stderr",
          "text": [
            "INFO:mcmc: - Acceptance rate: 0.272\n"
          ]
        },
        {
          "output_type": "stream",
          "name": "stdout",
          "text": [
            "[mcmc]  - Acceptance rate: 0.272\n"
          ]
        },
        {
          "output_type": "stream",
          "name": "stderr",
          "text": [
            "INFO:mcmc: - Convergence of means: R-1 = 0.003762 after 4352 accepted steps\n"
          ]
        },
        {
          "output_type": "stream",
          "name": "stdout",
          "text": [
            "[mcmc]  - Convergence of means: R-1 = 0.003762 after 4352 accepted steps\n"
          ]
        },
        {
          "output_type": "stream",
          "name": "stderr",
          "text": [
            "INFO:mcmc: - Updated covariance matrix of proposal pdf.\n"
          ]
        },
        {
          "output_type": "stream",
          "name": "stdout",
          "text": [
            "[mcmc]  - Updated covariance matrix of proposal pdf.\n"
          ]
        },
        {
          "output_type": "stream",
          "name": "stderr",
          "text": [
            "<ipython-input-49-68fc82096ce5>:4: RuntimeWarning: invalid value encountered in sqrt\n",
            "  return stats.norm.logpdf(np.sqrt(x**2 - y**2) ,loc=0,scale=2)\n",
            "INFO:mcmc:Learn + convergence test @ 5520 samples accepted.\n"
          ]
        },
        {
          "output_type": "stream",
          "name": "stdout",
          "text": [
            "[mcmc] Learn + convergence test @ 5520 samples accepted.\n"
          ]
        },
        {
          "output_type": "stream",
          "name": "stderr",
          "text": [
            "INFO:mcmc: - Acceptance rate: 0.272\n"
          ]
        },
        {
          "output_type": "stream",
          "name": "stdout",
          "text": [
            "[mcmc]  - Acceptance rate: 0.272\n"
          ]
        },
        {
          "output_type": "stream",
          "name": "stderr",
          "text": [
            "INFO:mcmc: - Convergence of means: R-1 = 0.005264 after 4416 accepted steps\n"
          ]
        },
        {
          "output_type": "stream",
          "name": "stdout",
          "text": [
            "[mcmc]  - Convergence of means: R-1 = 0.005264 after 4416 accepted steps\n"
          ]
        },
        {
          "output_type": "stream",
          "name": "stderr",
          "text": [
            "INFO:mcmc: - Updated covariance matrix of proposal pdf.\n"
          ]
        },
        {
          "output_type": "stream",
          "name": "stdout",
          "text": [
            "[mcmc]  - Updated covariance matrix of proposal pdf.\n"
          ]
        },
        {
          "output_type": "stream",
          "name": "stderr",
          "text": [
            "<ipython-input-49-68fc82096ce5>:4: RuntimeWarning: invalid value encountered in sqrt\n",
            "  return stats.norm.logpdf(np.sqrt(x**2 - y**2) ,loc=0,scale=2)\n",
            "INFO:mcmc:Learn + convergence test @ 5600 samples accepted.\n"
          ]
        },
        {
          "output_type": "stream",
          "name": "stdout",
          "text": [
            "[mcmc] Learn + convergence test @ 5600 samples accepted.\n"
          ]
        },
        {
          "output_type": "stream",
          "name": "stderr",
          "text": [
            "INFO:mcmc: - Acceptance rate: 0.272\n"
          ]
        },
        {
          "output_type": "stream",
          "name": "stdout",
          "text": [
            "[mcmc]  - Acceptance rate: 0.272\n"
          ]
        },
        {
          "output_type": "stream",
          "name": "stderr",
          "text": [
            "INFO:mcmc: - Convergence of means: R-1 = 0.004069 after 4480 accepted steps\n"
          ]
        },
        {
          "output_type": "stream",
          "name": "stdout",
          "text": [
            "[mcmc]  - Convergence of means: R-1 = 0.004069 after 4480 accepted steps\n"
          ]
        },
        {
          "output_type": "stream",
          "name": "stderr",
          "text": [
            "INFO:mcmc: - Updated covariance matrix of proposal pdf.\n"
          ]
        },
        {
          "output_type": "stream",
          "name": "stdout",
          "text": [
            "[mcmc]  - Updated covariance matrix of proposal pdf.\n"
          ]
        },
        {
          "output_type": "stream",
          "name": "stderr",
          "text": [
            "<ipython-input-49-68fc82096ce5>:4: RuntimeWarning: invalid value encountered in sqrt\n",
            "  return stats.norm.logpdf(np.sqrt(x**2 - y**2) ,loc=0,scale=2)\n",
            "INFO:mcmc:Learn + convergence test @ 5680 samples accepted.\n"
          ]
        },
        {
          "output_type": "stream",
          "name": "stdout",
          "text": [
            "[mcmc] Learn + convergence test @ 5680 samples accepted.\n"
          ]
        },
        {
          "output_type": "stream",
          "name": "stderr",
          "text": [
            "INFO:mcmc: - Acceptance rate: 0.272\n"
          ]
        },
        {
          "output_type": "stream",
          "name": "stdout",
          "text": [
            "[mcmc]  - Acceptance rate: 0.272\n"
          ]
        },
        {
          "output_type": "stream",
          "name": "stderr",
          "text": [
            "INFO:mcmc: - Convergence of means: R-1 = 0.004406 after 4544 accepted steps\n"
          ]
        },
        {
          "output_type": "stream",
          "name": "stdout",
          "text": [
            "[mcmc]  - Convergence of means: R-1 = 0.004406 after 4544 accepted steps\n"
          ]
        },
        {
          "output_type": "stream",
          "name": "stderr",
          "text": [
            "INFO:mcmc: - Updated covariance matrix of proposal pdf.\n"
          ]
        },
        {
          "output_type": "stream",
          "name": "stdout",
          "text": [
            "[mcmc]  - Updated covariance matrix of proposal pdf.\n"
          ]
        },
        {
          "output_type": "stream",
          "name": "stderr",
          "text": [
            "<ipython-input-49-68fc82096ce5>:4: RuntimeWarning: invalid value encountered in sqrt\n",
            "  return stats.norm.logpdf(np.sqrt(x**2 - y**2) ,loc=0,scale=2)\n",
            "INFO:mcmc:Learn + convergence test @ 5760 samples accepted.\n"
          ]
        },
        {
          "output_type": "stream",
          "name": "stdout",
          "text": [
            "[mcmc] Learn + convergence test @ 5760 samples accepted.\n"
          ]
        },
        {
          "output_type": "stream",
          "name": "stderr",
          "text": [
            "INFO:mcmc: - Acceptance rate: 0.273\n"
          ]
        },
        {
          "output_type": "stream",
          "name": "stdout",
          "text": [
            "[mcmc]  - Acceptance rate: 0.273\n"
          ]
        },
        {
          "output_type": "stream",
          "name": "stderr",
          "text": [
            "INFO:mcmc: - Convergence of means: R-1 = 0.003161 after 4608 accepted steps\n"
          ]
        },
        {
          "output_type": "stream",
          "name": "stdout",
          "text": [
            "[mcmc]  - Convergence of means: R-1 = 0.003161 after 4608 accepted steps\n"
          ]
        },
        {
          "output_type": "stream",
          "name": "stderr",
          "text": [
            "INFO:mcmc: - Updated covariance matrix of proposal pdf.\n"
          ]
        },
        {
          "output_type": "stream",
          "name": "stdout",
          "text": [
            "[mcmc]  - Updated covariance matrix of proposal pdf.\n"
          ]
        },
        {
          "output_type": "stream",
          "name": "stderr",
          "text": [
            "<ipython-input-49-68fc82096ce5>:4: RuntimeWarning: invalid value encountered in sqrt\n",
            "  return stats.norm.logpdf(np.sqrt(x**2 - y**2) ,loc=0,scale=2)\n",
            "INFO:mcmc:Learn + convergence test @ 5840 samples accepted.\n"
          ]
        },
        {
          "output_type": "stream",
          "name": "stdout",
          "text": [
            "[mcmc] Learn + convergence test @ 5840 samples accepted.\n"
          ]
        },
        {
          "output_type": "stream",
          "name": "stderr",
          "text": [
            "INFO:mcmc: - Acceptance rate: 0.272\n"
          ]
        },
        {
          "output_type": "stream",
          "name": "stdout",
          "text": [
            "[mcmc]  - Acceptance rate: 0.272\n"
          ]
        },
        {
          "output_type": "stream",
          "name": "stderr",
          "text": [
            "INFO:mcmc: - Convergence of means: R-1 = 0.002476 after 4672 accepted steps\n"
          ]
        },
        {
          "output_type": "stream",
          "name": "stdout",
          "text": [
            "[mcmc]  - Convergence of means: R-1 = 0.002476 after 4672 accepted steps\n"
          ]
        },
        {
          "output_type": "stream",
          "name": "stderr",
          "text": [
            "INFO:mcmc: - Updated covariance matrix of proposal pdf.\n"
          ]
        },
        {
          "output_type": "stream",
          "name": "stdout",
          "text": [
            "[mcmc]  - Updated covariance matrix of proposal pdf.\n"
          ]
        },
        {
          "output_type": "stream",
          "name": "stderr",
          "text": [
            "<ipython-input-49-68fc82096ce5>:4: RuntimeWarning: invalid value encountered in sqrt\n",
            "  return stats.norm.logpdf(np.sqrt(x**2 - y**2) ,loc=0,scale=2)\n",
            "INFO:mcmc:Learn + convergence test @ 5920 samples accepted.\n"
          ]
        },
        {
          "output_type": "stream",
          "name": "stdout",
          "text": [
            "[mcmc] Learn + convergence test @ 5920 samples accepted.\n"
          ]
        },
        {
          "output_type": "stream",
          "name": "stderr",
          "text": [
            "INFO:mcmc: - Acceptance rate: 0.273\n"
          ]
        },
        {
          "output_type": "stream",
          "name": "stdout",
          "text": [
            "[mcmc]  - Acceptance rate: 0.273\n"
          ]
        },
        {
          "output_type": "stream",
          "name": "stderr",
          "text": [
            "INFO:mcmc: - Convergence of means: R-1 = 0.003821 after 4736 accepted steps\n"
          ]
        },
        {
          "output_type": "stream",
          "name": "stdout",
          "text": [
            "[mcmc]  - Convergence of means: R-1 = 0.003821 after 4736 accepted steps\n"
          ]
        },
        {
          "output_type": "stream",
          "name": "stderr",
          "text": [
            "INFO:mcmc: - Updated covariance matrix of proposal pdf.\n"
          ]
        },
        {
          "output_type": "stream",
          "name": "stdout",
          "text": [
            "[mcmc]  - Updated covariance matrix of proposal pdf.\n"
          ]
        },
        {
          "output_type": "stream",
          "name": "stderr",
          "text": [
            "<ipython-input-49-68fc82096ce5>:4: RuntimeWarning: invalid value encountered in sqrt\n",
            "  return stats.norm.logpdf(np.sqrt(x**2 - y**2) ,loc=0,scale=2)\n",
            "INFO:mcmc:Learn + convergence test @ 6000 samples accepted.\n"
          ]
        },
        {
          "output_type": "stream",
          "name": "stdout",
          "text": [
            "[mcmc] Learn + convergence test @ 6000 samples accepted.\n"
          ]
        },
        {
          "output_type": "stream",
          "name": "stderr",
          "text": [
            "INFO:mcmc: - Acceptance rate: 0.273\n"
          ]
        },
        {
          "output_type": "stream",
          "name": "stdout",
          "text": [
            "[mcmc]  - Acceptance rate: 0.273\n"
          ]
        },
        {
          "output_type": "stream",
          "name": "stderr",
          "text": [
            "INFO:mcmc: - Convergence of means: R-1 = 0.005031 after 4800 accepted steps\n"
          ]
        },
        {
          "output_type": "stream",
          "name": "stdout",
          "text": [
            "[mcmc]  - Convergence of means: R-1 = 0.005031 after 4800 accepted steps\n"
          ]
        },
        {
          "output_type": "stream",
          "name": "stderr",
          "text": [
            "INFO:mcmc: - Updated covariance matrix of proposal pdf.\n"
          ]
        },
        {
          "output_type": "stream",
          "name": "stdout",
          "text": [
            "[mcmc]  - Updated covariance matrix of proposal pdf.\n"
          ]
        },
        {
          "output_type": "stream",
          "name": "stderr",
          "text": [
            "<ipython-input-49-68fc82096ce5>:4: RuntimeWarning: invalid value encountered in sqrt\n",
            "  return stats.norm.logpdf(np.sqrt(x**2 - y**2) ,loc=0,scale=2)\n",
            "INFO:mcmc:Learn + convergence test @ 6080 samples accepted.\n"
          ]
        },
        {
          "output_type": "stream",
          "name": "stdout",
          "text": [
            "[mcmc] Learn + convergence test @ 6080 samples accepted.\n"
          ]
        },
        {
          "output_type": "stream",
          "name": "stderr",
          "text": [
            "INFO:mcmc: - Acceptance rate: 0.272\n"
          ]
        },
        {
          "output_type": "stream",
          "name": "stdout",
          "text": [
            "[mcmc]  - Acceptance rate: 0.272\n"
          ]
        },
        {
          "output_type": "stream",
          "name": "stderr",
          "text": [
            "INFO:mcmc: - Convergence of means: R-1 = 0.005740 after 4864 accepted steps\n"
          ]
        },
        {
          "output_type": "stream",
          "name": "stdout",
          "text": [
            "[mcmc]  - Convergence of means: R-1 = 0.005740 after 4864 accepted steps\n"
          ]
        },
        {
          "output_type": "stream",
          "name": "stderr",
          "text": [
            "INFO:mcmc: - Updated covariance matrix of proposal pdf.\n"
          ]
        },
        {
          "output_type": "stream",
          "name": "stdout",
          "text": [
            "[mcmc]  - Updated covariance matrix of proposal pdf.\n"
          ]
        },
        {
          "output_type": "stream",
          "name": "stderr",
          "text": [
            "<ipython-input-49-68fc82096ce5>:4: RuntimeWarning: invalid value encountered in sqrt\n",
            "  return stats.norm.logpdf(np.sqrt(x**2 - y**2) ,loc=0,scale=2)\n",
            "INFO:mcmc:Learn + convergence test @ 6160 samples accepted.\n"
          ]
        },
        {
          "output_type": "stream",
          "name": "stdout",
          "text": [
            "[mcmc] Learn + convergence test @ 6160 samples accepted.\n"
          ]
        },
        {
          "output_type": "stream",
          "name": "stderr",
          "text": [
            "INFO:mcmc: - Acceptance rate: 0.272\n"
          ]
        },
        {
          "output_type": "stream",
          "name": "stdout",
          "text": [
            "[mcmc]  - Acceptance rate: 0.272\n"
          ]
        },
        {
          "output_type": "stream",
          "name": "stderr",
          "text": [
            "INFO:mcmc: - Convergence of means: R-1 = 0.003418 after 4928 accepted steps\n"
          ]
        },
        {
          "output_type": "stream",
          "name": "stdout",
          "text": [
            "[mcmc]  - Convergence of means: R-1 = 0.003418 after 4928 accepted steps\n"
          ]
        },
        {
          "output_type": "stream",
          "name": "stderr",
          "text": [
            "INFO:mcmc: - Updated covariance matrix of proposal pdf.\n"
          ]
        },
        {
          "output_type": "stream",
          "name": "stdout",
          "text": [
            "[mcmc]  - Updated covariance matrix of proposal pdf.\n"
          ]
        },
        {
          "output_type": "stream",
          "name": "stderr",
          "text": [
            "<ipython-input-49-68fc82096ce5>:4: RuntimeWarning: invalid value encountered in sqrt\n",
            "  return stats.norm.logpdf(np.sqrt(x**2 - y**2) ,loc=0,scale=2)\n",
            "INFO:mcmc:Learn + convergence test @ 6240 samples accepted.\n"
          ]
        },
        {
          "output_type": "stream",
          "name": "stdout",
          "text": [
            "[mcmc] Learn + convergence test @ 6240 samples accepted.\n"
          ]
        },
        {
          "output_type": "stream",
          "name": "stderr",
          "text": [
            "INFO:mcmc: - Acceptance rate: 0.272\n"
          ]
        },
        {
          "output_type": "stream",
          "name": "stdout",
          "text": [
            "[mcmc]  - Acceptance rate: 0.272\n"
          ]
        },
        {
          "output_type": "stream",
          "name": "stderr",
          "text": [
            "INFO:mcmc: - Convergence of means: R-1 = 0.002954 after 4992 accepted steps\n"
          ]
        },
        {
          "output_type": "stream",
          "name": "stdout",
          "text": [
            "[mcmc]  - Convergence of means: R-1 = 0.002954 after 4992 accepted steps\n"
          ]
        },
        {
          "output_type": "stream",
          "name": "stderr",
          "text": [
            "INFO:mcmc: - Updated covariance matrix of proposal pdf.\n"
          ]
        },
        {
          "output_type": "stream",
          "name": "stdout",
          "text": [
            "[mcmc]  - Updated covariance matrix of proposal pdf.\n"
          ]
        },
        {
          "output_type": "stream",
          "name": "stderr",
          "text": [
            "<ipython-input-49-68fc82096ce5>:4: RuntimeWarning: invalid value encountered in sqrt\n",
            "  return stats.norm.logpdf(np.sqrt(x**2 - y**2) ,loc=0,scale=2)\n",
            "INFO:mcmc:Learn + convergence test @ 6320 samples accepted.\n"
          ]
        },
        {
          "output_type": "stream",
          "name": "stdout",
          "text": [
            "[mcmc] Learn + convergence test @ 6320 samples accepted.\n"
          ]
        },
        {
          "output_type": "stream",
          "name": "stderr",
          "text": [
            "INFO:mcmc: - Acceptance rate: 0.272\n"
          ]
        },
        {
          "output_type": "stream",
          "name": "stdout",
          "text": [
            "[mcmc]  - Acceptance rate: 0.272\n"
          ]
        },
        {
          "output_type": "stream",
          "name": "stderr",
          "text": [
            "INFO:mcmc: - Convergence of means: R-1 = 0.001878 after 5056 accepted steps\n"
          ]
        },
        {
          "output_type": "stream",
          "name": "stdout",
          "text": [
            "[mcmc]  - Convergence of means: R-1 = 0.001878 after 5056 accepted steps\n"
          ]
        },
        {
          "output_type": "stream",
          "name": "stderr",
          "text": [
            "INFO:mcmc: - Updated covariance matrix of proposal pdf.\n"
          ]
        },
        {
          "output_type": "stream",
          "name": "stdout",
          "text": [
            "[mcmc]  - Updated covariance matrix of proposal pdf.\n"
          ]
        },
        {
          "output_type": "stream",
          "name": "stderr",
          "text": [
            "<ipython-input-49-68fc82096ce5>:4: RuntimeWarning: invalid value encountered in sqrt\n",
            "  return stats.norm.logpdf(np.sqrt(x**2 - y**2) ,loc=0,scale=2)\n",
            "INFO:mcmc:Learn + convergence test @ 6400 samples accepted.\n"
          ]
        },
        {
          "output_type": "stream",
          "name": "stdout",
          "text": [
            "[mcmc] Learn + convergence test @ 6400 samples accepted.\n"
          ]
        },
        {
          "output_type": "stream",
          "name": "stderr",
          "text": [
            "INFO:mcmc: - Acceptance rate: 0.271\n"
          ]
        },
        {
          "output_type": "stream",
          "name": "stdout",
          "text": [
            "[mcmc]  - Acceptance rate: 0.271\n"
          ]
        },
        {
          "output_type": "stream",
          "name": "stderr",
          "text": [
            "INFO:mcmc: - Convergence of means: R-1 = 0.002191 after 5120 accepted steps\n"
          ]
        },
        {
          "output_type": "stream",
          "name": "stdout",
          "text": [
            "[mcmc]  - Convergence of means: R-1 = 0.002191 after 5120 accepted steps\n"
          ]
        },
        {
          "output_type": "stream",
          "name": "stderr",
          "text": [
            "INFO:mcmc: - Updated covariance matrix of proposal pdf.\n"
          ]
        },
        {
          "output_type": "stream",
          "name": "stdout",
          "text": [
            "[mcmc]  - Updated covariance matrix of proposal pdf.\n"
          ]
        },
        {
          "output_type": "stream",
          "name": "stderr",
          "text": [
            "<ipython-input-49-68fc82096ce5>:4: RuntimeWarning: invalid value encountered in sqrt\n",
            "  return stats.norm.logpdf(np.sqrt(x**2 - y**2) ,loc=0,scale=2)\n",
            "INFO:mcmc:Learn + convergence test @ 6480 samples accepted.\n"
          ]
        },
        {
          "output_type": "stream",
          "name": "stdout",
          "text": [
            "[mcmc] Learn + convergence test @ 6480 samples accepted.\n"
          ]
        },
        {
          "output_type": "stream",
          "name": "stderr",
          "text": [
            "INFO:mcmc: - Acceptance rate: 0.271\n"
          ]
        },
        {
          "output_type": "stream",
          "name": "stdout",
          "text": [
            "[mcmc]  - Acceptance rate: 0.271\n"
          ]
        },
        {
          "output_type": "stream",
          "name": "stderr",
          "text": [
            "INFO:mcmc: - Convergence of means: R-1 = 0.003069 after 5184 accepted steps\n"
          ]
        },
        {
          "output_type": "stream",
          "name": "stdout",
          "text": [
            "[mcmc]  - Convergence of means: R-1 = 0.003069 after 5184 accepted steps\n"
          ]
        },
        {
          "output_type": "stream",
          "name": "stderr",
          "text": [
            "INFO:mcmc: - Updated covariance matrix of proposal pdf.\n"
          ]
        },
        {
          "output_type": "stream",
          "name": "stdout",
          "text": [
            "[mcmc]  - Updated covariance matrix of proposal pdf.\n"
          ]
        },
        {
          "output_type": "stream",
          "name": "stderr",
          "text": [
            "<ipython-input-49-68fc82096ce5>:4: RuntimeWarning: invalid value encountered in sqrt\n",
            "  return stats.norm.logpdf(np.sqrt(x**2 - y**2) ,loc=0,scale=2)\n",
            "INFO:mcmc:Learn + convergence test @ 6560 samples accepted.\n"
          ]
        },
        {
          "output_type": "stream",
          "name": "stdout",
          "text": [
            "[mcmc] Learn + convergence test @ 6560 samples accepted.\n"
          ]
        },
        {
          "output_type": "stream",
          "name": "stderr",
          "text": [
            "INFO:mcmc: - Acceptance rate: 0.271\n"
          ]
        },
        {
          "output_type": "stream",
          "name": "stdout",
          "text": [
            "[mcmc]  - Acceptance rate: 0.271\n"
          ]
        },
        {
          "output_type": "stream",
          "name": "stderr",
          "text": [
            "INFO:mcmc: - Convergence of means: R-1 = 0.001993 after 5248 accepted steps\n"
          ]
        },
        {
          "output_type": "stream",
          "name": "stdout",
          "text": [
            "[mcmc]  - Convergence of means: R-1 = 0.001993 after 5248 accepted steps\n"
          ]
        },
        {
          "output_type": "stream",
          "name": "stderr",
          "text": [
            "INFO:mcmc: - Updated covariance matrix of proposal pdf.\n"
          ]
        },
        {
          "output_type": "stream",
          "name": "stdout",
          "text": [
            "[mcmc]  - Updated covariance matrix of proposal pdf.\n"
          ]
        },
        {
          "output_type": "stream",
          "name": "stderr",
          "text": [
            "<ipython-input-49-68fc82096ce5>:4: RuntimeWarning: invalid value encountered in sqrt\n",
            "  return stats.norm.logpdf(np.sqrt(x**2 - y**2) ,loc=0,scale=2)\n",
            "INFO:mcmc:Learn + convergence test @ 6640 samples accepted.\n"
          ]
        },
        {
          "output_type": "stream",
          "name": "stdout",
          "text": [
            "[mcmc] Learn + convergence test @ 6640 samples accepted.\n"
          ]
        },
        {
          "output_type": "stream",
          "name": "stderr",
          "text": [
            "INFO:mcmc: - Acceptance rate: 0.271\n"
          ]
        },
        {
          "output_type": "stream",
          "name": "stdout",
          "text": [
            "[mcmc]  - Acceptance rate: 0.271\n"
          ]
        },
        {
          "output_type": "stream",
          "name": "stderr",
          "text": [
            "INFO:mcmc: - Convergence of means: R-1 = 0.002242 after 5312 accepted steps\n"
          ]
        },
        {
          "output_type": "stream",
          "name": "stdout",
          "text": [
            "[mcmc]  - Convergence of means: R-1 = 0.002242 after 5312 accepted steps\n"
          ]
        },
        {
          "output_type": "stream",
          "name": "stderr",
          "text": [
            "INFO:mcmc: - Updated covariance matrix of proposal pdf.\n"
          ]
        },
        {
          "output_type": "stream",
          "name": "stdout",
          "text": [
            "[mcmc]  - Updated covariance matrix of proposal pdf.\n"
          ]
        },
        {
          "output_type": "stream",
          "name": "stderr",
          "text": [
            "<ipython-input-49-68fc82096ce5>:4: RuntimeWarning: invalid value encountered in sqrt\n",
            "  return stats.norm.logpdf(np.sqrt(x**2 - y**2) ,loc=0,scale=2)\n",
            "INFO:mcmc:Learn + convergence test @ 6720 samples accepted.\n"
          ]
        },
        {
          "output_type": "stream",
          "name": "stdout",
          "text": [
            "[mcmc] Learn + convergence test @ 6720 samples accepted.\n"
          ]
        },
        {
          "output_type": "stream",
          "name": "stderr",
          "text": [
            "INFO:mcmc: - Acceptance rate: 0.271\n"
          ]
        },
        {
          "output_type": "stream",
          "name": "stdout",
          "text": [
            "[mcmc]  - Acceptance rate: 0.271\n"
          ]
        },
        {
          "output_type": "stream",
          "name": "stderr",
          "text": [
            "INFO:mcmc: - Convergence of means: R-1 = 0.001837 after 5376 accepted steps\n"
          ]
        },
        {
          "output_type": "stream",
          "name": "stdout",
          "text": [
            "[mcmc]  - Convergence of means: R-1 = 0.001837 after 5376 accepted steps\n"
          ]
        },
        {
          "output_type": "stream",
          "name": "stderr",
          "text": [
            "INFO:mcmc: - Updated covariance matrix of proposal pdf.\n"
          ]
        },
        {
          "output_type": "stream",
          "name": "stdout",
          "text": [
            "[mcmc]  - Updated covariance matrix of proposal pdf.\n"
          ]
        },
        {
          "output_type": "stream",
          "name": "stderr",
          "text": [
            "<ipython-input-49-68fc82096ce5>:4: RuntimeWarning: invalid value encountered in sqrt\n",
            "  return stats.norm.logpdf(np.sqrt(x**2 - y**2) ,loc=0,scale=2)\n",
            "INFO:mcmc:Learn + convergence test @ 6800 samples accepted.\n"
          ]
        },
        {
          "output_type": "stream",
          "name": "stdout",
          "text": [
            "[mcmc] Learn + convergence test @ 6800 samples accepted.\n"
          ]
        },
        {
          "output_type": "stream",
          "name": "stderr",
          "text": [
            "INFO:mcmc: - Acceptance rate: 0.271\n"
          ]
        },
        {
          "output_type": "stream",
          "name": "stdout",
          "text": [
            "[mcmc]  - Acceptance rate: 0.271\n"
          ]
        },
        {
          "output_type": "stream",
          "name": "stderr",
          "text": [
            "INFO:mcmc: - Convergence of means: R-1 = 0.001622 after 5440 accepted steps\n"
          ]
        },
        {
          "output_type": "stream",
          "name": "stdout",
          "text": [
            "[mcmc]  - Convergence of means: R-1 = 0.001622 after 5440 accepted steps\n"
          ]
        },
        {
          "output_type": "stream",
          "name": "stderr",
          "text": [
            "INFO:mcmc: - Updated covariance matrix of proposal pdf.\n"
          ]
        },
        {
          "output_type": "stream",
          "name": "stdout",
          "text": [
            "[mcmc]  - Updated covariance matrix of proposal pdf.\n"
          ]
        },
        {
          "output_type": "stream",
          "name": "stderr",
          "text": [
            "<ipython-input-49-68fc82096ce5>:4: RuntimeWarning: invalid value encountered in sqrt\n",
            "  return stats.norm.logpdf(np.sqrt(x**2 - y**2) ,loc=0,scale=2)\n",
            "INFO:mcmc:Learn + convergence test @ 6880 samples accepted.\n"
          ]
        },
        {
          "output_type": "stream",
          "name": "stdout",
          "text": [
            "[mcmc] Learn + convergence test @ 6880 samples accepted.\n"
          ]
        },
        {
          "output_type": "stream",
          "name": "stderr",
          "text": [
            "INFO:mcmc: - Acceptance rate: 0.271\n"
          ]
        },
        {
          "output_type": "stream",
          "name": "stdout",
          "text": [
            "[mcmc]  - Acceptance rate: 0.271\n"
          ]
        },
        {
          "output_type": "stream",
          "name": "stderr",
          "text": [
            "INFO:mcmc: - Convergence of means: R-1 = 0.001297 after 5504 accepted steps\n"
          ]
        },
        {
          "output_type": "stream",
          "name": "stdout",
          "text": [
            "[mcmc]  - Convergence of means: R-1 = 0.001297 after 5504 accepted steps\n"
          ]
        },
        {
          "output_type": "stream",
          "name": "stderr",
          "text": [
            "INFO:mcmc: - Updated covariance matrix of proposal pdf.\n"
          ]
        },
        {
          "output_type": "stream",
          "name": "stdout",
          "text": [
            "[mcmc]  - Updated covariance matrix of proposal pdf.\n"
          ]
        },
        {
          "output_type": "stream",
          "name": "stderr",
          "text": [
            "<ipython-input-49-68fc82096ce5>:4: RuntimeWarning: invalid value encountered in sqrt\n",
            "  return stats.norm.logpdf(np.sqrt(x**2 - y**2) ,loc=0,scale=2)\n",
            "INFO:mcmc:Learn + convergence test @ 6960 samples accepted.\n"
          ]
        },
        {
          "output_type": "stream",
          "name": "stdout",
          "text": [
            "[mcmc] Learn + convergence test @ 6960 samples accepted.\n"
          ]
        },
        {
          "output_type": "stream",
          "name": "stderr",
          "text": [
            "INFO:mcmc: - Acceptance rate: 0.271\n"
          ]
        },
        {
          "output_type": "stream",
          "name": "stdout",
          "text": [
            "[mcmc]  - Acceptance rate: 0.271\n"
          ]
        },
        {
          "output_type": "stream",
          "name": "stderr",
          "text": [
            "INFO:mcmc: - Convergence of means: R-1 = 0.000786 after 5568 accepted steps\n"
          ]
        },
        {
          "output_type": "stream",
          "name": "stdout",
          "text": [
            "[mcmc]  - Convergence of means: R-1 = 0.000786 after 5568 accepted steps\n"
          ]
        },
        {
          "output_type": "stream",
          "name": "stderr",
          "text": [
            "INFO:mcmc: - Updated covariance matrix of proposal pdf.\n"
          ]
        },
        {
          "output_type": "stream",
          "name": "stdout",
          "text": [
            "[mcmc]  - Updated covariance matrix of proposal pdf.\n"
          ]
        },
        {
          "output_type": "stream",
          "name": "stderr",
          "text": [
            "<ipython-input-49-68fc82096ce5>:4: RuntimeWarning: invalid value encountered in sqrt\n",
            "  return stats.norm.logpdf(np.sqrt(x**2 - y**2) ,loc=0,scale=2)\n",
            "INFO:mcmc:Learn + convergence test @ 7040 samples accepted.\n"
          ]
        },
        {
          "output_type": "stream",
          "name": "stdout",
          "text": [
            "[mcmc] Learn + convergence test @ 7040 samples accepted.\n"
          ]
        },
        {
          "output_type": "stream",
          "name": "stderr",
          "text": [
            "INFO:mcmc: - Acceptance rate: 0.271\n"
          ]
        },
        {
          "output_type": "stream",
          "name": "stdout",
          "text": [
            "[mcmc]  - Acceptance rate: 0.271\n"
          ]
        },
        {
          "output_type": "stream",
          "name": "stderr",
          "text": [
            "INFO:mcmc: - Convergence of means: R-1 = 0.001000 after 5632 accepted steps\n"
          ]
        },
        {
          "output_type": "stream",
          "name": "stdout",
          "text": [
            "[mcmc]  - Convergence of means: R-1 = 0.001000 after 5632 accepted steps\n"
          ]
        },
        {
          "output_type": "stream",
          "name": "stderr",
          "text": [
            "INFO:mcmc: - Updated covariance matrix of proposal pdf.\n"
          ]
        },
        {
          "output_type": "stream",
          "name": "stdout",
          "text": [
            "[mcmc]  - Updated covariance matrix of proposal pdf.\n"
          ]
        },
        {
          "output_type": "stream",
          "name": "stderr",
          "text": [
            "<ipython-input-49-68fc82096ce5>:4: RuntimeWarning: invalid value encountered in sqrt\n",
            "  return stats.norm.logpdf(np.sqrt(x**2 - y**2) ,loc=0,scale=2)\n",
            "INFO:mcmc:Learn + convergence test @ 7120 samples accepted.\n"
          ]
        },
        {
          "output_type": "stream",
          "name": "stdout",
          "text": [
            "[mcmc] Learn + convergence test @ 7120 samples accepted.\n"
          ]
        },
        {
          "output_type": "stream",
          "name": "stderr",
          "text": [
            "INFO:mcmc: - Acceptance rate: 0.270\n"
          ]
        },
        {
          "output_type": "stream",
          "name": "stdout",
          "text": [
            "[mcmc]  - Acceptance rate: 0.270\n"
          ]
        },
        {
          "output_type": "stream",
          "name": "stderr",
          "text": [
            "INFO:mcmc: - Convergence of means: R-1 = 0.001135 after 5696 accepted steps\n"
          ]
        },
        {
          "output_type": "stream",
          "name": "stdout",
          "text": [
            "[mcmc]  - Convergence of means: R-1 = 0.001135 after 5696 accepted steps\n"
          ]
        },
        {
          "output_type": "stream",
          "name": "stderr",
          "text": [
            "INFO:mcmc: - Updated covariance matrix of proposal pdf.\n"
          ]
        },
        {
          "output_type": "stream",
          "name": "stdout",
          "text": [
            "[mcmc]  - Updated covariance matrix of proposal pdf.\n"
          ]
        },
        {
          "output_type": "stream",
          "name": "stderr",
          "text": [
            "<ipython-input-49-68fc82096ce5>:4: RuntimeWarning: invalid value encountered in sqrt\n",
            "  return stats.norm.logpdf(np.sqrt(x**2 - y**2) ,loc=0,scale=2)\n",
            "INFO:mcmc:Learn + convergence test @ 7200 samples accepted.\n"
          ]
        },
        {
          "output_type": "stream",
          "name": "stdout",
          "text": [
            "[mcmc] Learn + convergence test @ 7200 samples accepted.\n"
          ]
        },
        {
          "output_type": "stream",
          "name": "stderr",
          "text": [
            "INFO:mcmc: - Acceptance rate: 0.270\n"
          ]
        },
        {
          "output_type": "stream",
          "name": "stdout",
          "text": [
            "[mcmc]  - Acceptance rate: 0.270\n"
          ]
        },
        {
          "output_type": "stream",
          "name": "stderr",
          "text": [
            "INFO:mcmc: - Convergence of means: R-1 = 0.000796 after 5760 accepted steps\n"
          ]
        },
        {
          "output_type": "stream",
          "name": "stdout",
          "text": [
            "[mcmc]  - Convergence of means: R-1 = 0.000796 after 5760 accepted steps\n"
          ]
        },
        {
          "output_type": "stream",
          "name": "stderr",
          "text": [
            "INFO:mcmc: - Updated covariance matrix of proposal pdf.\n"
          ]
        },
        {
          "output_type": "stream",
          "name": "stdout",
          "text": [
            "[mcmc]  - Updated covariance matrix of proposal pdf.\n"
          ]
        },
        {
          "output_type": "stream",
          "name": "stderr",
          "text": [
            "<ipython-input-49-68fc82096ce5>:4: RuntimeWarning: invalid value encountered in sqrt\n",
            "  return stats.norm.logpdf(np.sqrt(x**2 - y**2) ,loc=0,scale=2)\n",
            "INFO:mcmc:Learn + convergence test @ 7280 samples accepted.\n"
          ]
        },
        {
          "output_type": "stream",
          "name": "stdout",
          "text": [
            "[mcmc] Learn + convergence test @ 7280 samples accepted.\n"
          ]
        },
        {
          "output_type": "stream",
          "name": "stderr",
          "text": [
            "INFO:mcmc: - Acceptance rate: 0.270\n"
          ]
        },
        {
          "output_type": "stream",
          "name": "stdout",
          "text": [
            "[mcmc]  - Acceptance rate: 0.270\n"
          ]
        },
        {
          "output_type": "stream",
          "name": "stderr",
          "text": [
            "INFO:mcmc: - Convergence of means: R-1 = 0.001183 after 5824 accepted steps\n"
          ]
        },
        {
          "output_type": "stream",
          "name": "stdout",
          "text": [
            "[mcmc]  - Convergence of means: R-1 = 0.001183 after 5824 accepted steps\n"
          ]
        },
        {
          "output_type": "stream",
          "name": "stderr",
          "text": [
            "INFO:mcmc: - Updated covariance matrix of proposal pdf.\n"
          ]
        },
        {
          "output_type": "stream",
          "name": "stdout",
          "text": [
            "[mcmc]  - Updated covariance matrix of proposal pdf.\n"
          ]
        },
        {
          "output_type": "stream",
          "name": "stderr",
          "text": [
            "<ipython-input-49-68fc82096ce5>:4: RuntimeWarning: invalid value encountered in sqrt\n",
            "  return stats.norm.logpdf(np.sqrt(x**2 - y**2) ,loc=0,scale=2)\n",
            "INFO:mcmc:Learn + convergence test @ 7360 samples accepted.\n"
          ]
        },
        {
          "output_type": "stream",
          "name": "stdout",
          "text": [
            "[mcmc] Learn + convergence test @ 7360 samples accepted.\n"
          ]
        },
        {
          "output_type": "stream",
          "name": "stderr",
          "text": [
            "INFO:mcmc: - Acceptance rate: 0.270\n"
          ]
        },
        {
          "output_type": "stream",
          "name": "stdout",
          "text": [
            "[mcmc]  - Acceptance rate: 0.270\n"
          ]
        },
        {
          "output_type": "stream",
          "name": "stderr",
          "text": [
            "INFO:mcmc: - Convergence of means: R-1 = 0.001275 after 5888 accepted steps\n"
          ]
        },
        {
          "output_type": "stream",
          "name": "stdout",
          "text": [
            "[mcmc]  - Convergence of means: R-1 = 0.001275 after 5888 accepted steps\n"
          ]
        },
        {
          "output_type": "stream",
          "name": "stderr",
          "text": [
            "INFO:mcmc: - Updated covariance matrix of proposal pdf.\n"
          ]
        },
        {
          "output_type": "stream",
          "name": "stdout",
          "text": [
            "[mcmc]  - Updated covariance matrix of proposal pdf.\n"
          ]
        },
        {
          "output_type": "stream",
          "name": "stderr",
          "text": [
            "<ipython-input-49-68fc82096ce5>:4: RuntimeWarning: invalid value encountered in sqrt\n",
            "  return stats.norm.logpdf(np.sqrt(x**2 - y**2) ,loc=0,scale=2)\n",
            "INFO:mcmc:Learn + convergence test @ 7440 samples accepted.\n"
          ]
        },
        {
          "output_type": "stream",
          "name": "stdout",
          "text": [
            "[mcmc] Learn + convergence test @ 7440 samples accepted.\n"
          ]
        },
        {
          "output_type": "stream",
          "name": "stderr",
          "text": [
            "INFO:mcmc: - Acceptance rate: 0.270\n"
          ]
        },
        {
          "output_type": "stream",
          "name": "stdout",
          "text": [
            "[mcmc]  - Acceptance rate: 0.270\n"
          ]
        },
        {
          "output_type": "stream",
          "name": "stderr",
          "text": [
            "INFO:mcmc: - Convergence of means: R-1 = 0.001123 after 5952 accepted steps\n"
          ]
        },
        {
          "output_type": "stream",
          "name": "stdout",
          "text": [
            "[mcmc]  - Convergence of means: R-1 = 0.001123 after 5952 accepted steps\n"
          ]
        },
        {
          "output_type": "stream",
          "name": "stderr",
          "text": [
            "INFO:mcmc: - Updated covariance matrix of proposal pdf.\n"
          ]
        },
        {
          "output_type": "stream",
          "name": "stdout",
          "text": [
            "[mcmc]  - Updated covariance matrix of proposal pdf.\n"
          ]
        },
        {
          "output_type": "stream",
          "name": "stderr",
          "text": [
            "<ipython-input-49-68fc82096ce5>:4: RuntimeWarning: invalid value encountered in sqrt\n",
            "  return stats.norm.logpdf(np.sqrt(x**2 - y**2) ,loc=0,scale=2)\n",
            "INFO:mcmc:Learn + convergence test @ 7520 samples accepted.\n"
          ]
        },
        {
          "output_type": "stream",
          "name": "stdout",
          "text": [
            "[mcmc] Learn + convergence test @ 7520 samples accepted.\n"
          ]
        },
        {
          "output_type": "stream",
          "name": "stderr",
          "text": [
            "INFO:mcmc: - Acceptance rate: 0.270\n"
          ]
        },
        {
          "output_type": "stream",
          "name": "stdout",
          "text": [
            "[mcmc]  - Acceptance rate: 0.270\n"
          ]
        },
        {
          "output_type": "stream",
          "name": "stderr",
          "text": [
            "INFO:mcmc: - Convergence of means: R-1 = 0.001521 after 6016 accepted steps\n"
          ]
        },
        {
          "output_type": "stream",
          "name": "stdout",
          "text": [
            "[mcmc]  - Convergence of means: R-1 = 0.001521 after 6016 accepted steps\n"
          ]
        },
        {
          "output_type": "stream",
          "name": "stderr",
          "text": [
            "INFO:mcmc: - Updated covariance matrix of proposal pdf.\n"
          ]
        },
        {
          "output_type": "stream",
          "name": "stdout",
          "text": [
            "[mcmc]  - Updated covariance matrix of proposal pdf.\n"
          ]
        },
        {
          "output_type": "stream",
          "name": "stderr",
          "text": [
            "<ipython-input-49-68fc82096ce5>:4: RuntimeWarning: invalid value encountered in sqrt\n",
            "  return stats.norm.logpdf(np.sqrt(x**2 - y**2) ,loc=0,scale=2)\n",
            "INFO:mcmc:Learn + convergence test @ 7600 samples accepted.\n"
          ]
        },
        {
          "output_type": "stream",
          "name": "stdout",
          "text": [
            "[mcmc] Learn + convergence test @ 7600 samples accepted.\n"
          ]
        },
        {
          "output_type": "stream",
          "name": "stderr",
          "text": [
            "INFO:mcmc: - Acceptance rate: 0.271\n"
          ]
        },
        {
          "output_type": "stream",
          "name": "stdout",
          "text": [
            "[mcmc]  - Acceptance rate: 0.271\n"
          ]
        },
        {
          "output_type": "stream",
          "name": "stderr",
          "text": [
            "INFO:mcmc: - Convergence of means: R-1 = 0.002059 after 6080 accepted steps\n"
          ]
        },
        {
          "output_type": "stream",
          "name": "stdout",
          "text": [
            "[mcmc]  - Convergence of means: R-1 = 0.002059 after 6080 accepted steps\n"
          ]
        },
        {
          "output_type": "stream",
          "name": "stderr",
          "text": [
            "INFO:mcmc: - Updated covariance matrix of proposal pdf.\n"
          ]
        },
        {
          "output_type": "stream",
          "name": "stdout",
          "text": [
            "[mcmc]  - Updated covariance matrix of proposal pdf.\n"
          ]
        },
        {
          "output_type": "stream",
          "name": "stderr",
          "text": [
            "<ipython-input-49-68fc82096ce5>:4: RuntimeWarning: invalid value encountered in sqrt\n",
            "  return stats.norm.logpdf(np.sqrt(x**2 - y**2) ,loc=0,scale=2)\n",
            "INFO:mcmc:Learn + convergence test @ 7680 samples accepted.\n"
          ]
        },
        {
          "output_type": "stream",
          "name": "stdout",
          "text": [
            "[mcmc] Learn + convergence test @ 7680 samples accepted.\n"
          ]
        },
        {
          "output_type": "stream",
          "name": "stderr",
          "text": [
            "INFO:mcmc: - Acceptance rate: 0.271\n"
          ]
        },
        {
          "output_type": "stream",
          "name": "stdout",
          "text": [
            "[mcmc]  - Acceptance rate: 0.271\n"
          ]
        },
        {
          "output_type": "stream",
          "name": "stderr",
          "text": [
            "INFO:mcmc: - Convergence of means: R-1 = 0.003405 after 6144 accepted steps\n"
          ]
        },
        {
          "output_type": "stream",
          "name": "stdout",
          "text": [
            "[mcmc]  - Convergence of means: R-1 = 0.003405 after 6144 accepted steps\n"
          ]
        },
        {
          "output_type": "stream",
          "name": "stderr",
          "text": [
            "INFO:mcmc: - Updated covariance matrix of proposal pdf.\n"
          ]
        },
        {
          "output_type": "stream",
          "name": "stdout",
          "text": [
            "[mcmc]  - Updated covariance matrix of proposal pdf.\n"
          ]
        },
        {
          "output_type": "stream",
          "name": "stderr",
          "text": [
            "<ipython-input-49-68fc82096ce5>:4: RuntimeWarning: invalid value encountered in sqrt\n",
            "  return stats.norm.logpdf(np.sqrt(x**2 - y**2) ,loc=0,scale=2)\n",
            "INFO:mcmc:Learn + convergence test @ 7760 samples accepted.\n"
          ]
        },
        {
          "output_type": "stream",
          "name": "stdout",
          "text": [
            "[mcmc] Learn + convergence test @ 7760 samples accepted.\n"
          ]
        },
        {
          "output_type": "stream",
          "name": "stderr",
          "text": [
            "INFO:mcmc: - Acceptance rate: 0.271\n"
          ]
        },
        {
          "output_type": "stream",
          "name": "stdout",
          "text": [
            "[mcmc]  - Acceptance rate: 0.271\n"
          ]
        },
        {
          "output_type": "stream",
          "name": "stderr",
          "text": [
            "INFO:mcmc: - Convergence of means: R-1 = 0.003393 after 6208 accepted steps\n"
          ]
        },
        {
          "output_type": "stream",
          "name": "stdout",
          "text": [
            "[mcmc]  - Convergence of means: R-1 = 0.003393 after 6208 accepted steps\n"
          ]
        },
        {
          "output_type": "stream",
          "name": "stderr",
          "text": [
            "INFO:mcmc: - Updated covariance matrix of proposal pdf.\n"
          ]
        },
        {
          "output_type": "stream",
          "name": "stdout",
          "text": [
            "[mcmc]  - Updated covariance matrix of proposal pdf.\n"
          ]
        },
        {
          "output_type": "stream",
          "name": "stderr",
          "text": [
            "<ipython-input-49-68fc82096ce5>:4: RuntimeWarning: invalid value encountered in sqrt\n",
            "  return stats.norm.logpdf(np.sqrt(x**2 - y**2) ,loc=0,scale=2)\n",
            "INFO:mcmc:Learn + convergence test @ 7840 samples accepted.\n"
          ]
        },
        {
          "output_type": "stream",
          "name": "stdout",
          "text": [
            "[mcmc] Learn + convergence test @ 7840 samples accepted.\n"
          ]
        },
        {
          "output_type": "stream",
          "name": "stderr",
          "text": [
            "INFO:mcmc: - Acceptance rate: 0.270\n"
          ]
        },
        {
          "output_type": "stream",
          "name": "stdout",
          "text": [
            "[mcmc]  - Acceptance rate: 0.270\n"
          ]
        },
        {
          "output_type": "stream",
          "name": "stderr",
          "text": [
            "INFO:mcmc: - Convergence of means: R-1 = 0.002329 after 6272 accepted steps\n"
          ]
        },
        {
          "output_type": "stream",
          "name": "stdout",
          "text": [
            "[mcmc]  - Convergence of means: R-1 = 0.002329 after 6272 accepted steps\n"
          ]
        },
        {
          "output_type": "stream",
          "name": "stderr",
          "text": [
            "INFO:mcmc: - Updated covariance matrix of proposal pdf.\n"
          ]
        },
        {
          "output_type": "stream",
          "name": "stdout",
          "text": [
            "[mcmc]  - Updated covariance matrix of proposal pdf.\n"
          ]
        },
        {
          "output_type": "stream",
          "name": "stderr",
          "text": [
            "<ipython-input-49-68fc82096ce5>:4: RuntimeWarning: invalid value encountered in sqrt\n",
            "  return stats.norm.logpdf(np.sqrt(x**2 - y**2) ,loc=0,scale=2)\n",
            "INFO:mcmc:Learn + convergence test @ 7920 samples accepted.\n"
          ]
        },
        {
          "output_type": "stream",
          "name": "stdout",
          "text": [
            "[mcmc] Learn + convergence test @ 7920 samples accepted.\n"
          ]
        },
        {
          "output_type": "stream",
          "name": "stderr",
          "text": [
            "INFO:mcmc: - Acceptance rate: 0.270\n"
          ]
        },
        {
          "output_type": "stream",
          "name": "stdout",
          "text": [
            "[mcmc]  - Acceptance rate: 0.270\n"
          ]
        },
        {
          "output_type": "stream",
          "name": "stderr",
          "text": [
            "INFO:mcmc: - Convergence of means: R-1 = 0.002464 after 6336 accepted steps\n"
          ]
        },
        {
          "output_type": "stream",
          "name": "stdout",
          "text": [
            "[mcmc]  - Convergence of means: R-1 = 0.002464 after 6336 accepted steps\n"
          ]
        },
        {
          "output_type": "stream",
          "name": "stderr",
          "text": [
            "INFO:mcmc: - Updated covariance matrix of proposal pdf.\n"
          ]
        },
        {
          "output_type": "stream",
          "name": "stdout",
          "text": [
            "[mcmc]  - Updated covariance matrix of proposal pdf.\n"
          ]
        },
        {
          "output_type": "stream",
          "name": "stderr",
          "text": [
            "<ipython-input-49-68fc82096ce5>:4: RuntimeWarning: invalid value encountered in sqrt\n",
            "  return stats.norm.logpdf(np.sqrt(x**2 - y**2) ,loc=0,scale=2)\n",
            "INFO:mcmc:Learn + convergence test @ 8000 samples accepted.\n"
          ]
        },
        {
          "output_type": "stream",
          "name": "stdout",
          "text": [
            "[mcmc] Learn + convergence test @ 8000 samples accepted.\n"
          ]
        },
        {
          "output_type": "stream",
          "name": "stderr",
          "text": [
            "INFO:mcmc: - Acceptance rate: 0.270\n"
          ]
        },
        {
          "output_type": "stream",
          "name": "stdout",
          "text": [
            "[mcmc]  - Acceptance rate: 0.270\n"
          ]
        },
        {
          "output_type": "stream",
          "name": "stderr",
          "text": [
            "INFO:mcmc: - Convergence of means: R-1 = 0.001814 after 6400 accepted steps\n"
          ]
        },
        {
          "output_type": "stream",
          "name": "stdout",
          "text": [
            "[mcmc]  - Convergence of means: R-1 = 0.001814 after 6400 accepted steps\n"
          ]
        },
        {
          "output_type": "stream",
          "name": "stderr",
          "text": [
            "INFO:mcmc: - Updated covariance matrix of proposal pdf.\n"
          ]
        },
        {
          "output_type": "stream",
          "name": "stdout",
          "text": [
            "[mcmc]  - Updated covariance matrix of proposal pdf.\n"
          ]
        },
        {
          "output_type": "stream",
          "name": "stderr",
          "text": [
            "<ipython-input-49-68fc82096ce5>:4: RuntimeWarning: invalid value encountered in sqrt\n",
            "  return stats.norm.logpdf(np.sqrt(x**2 - y**2) ,loc=0,scale=2)\n",
            "INFO:mcmc:Learn + convergence test @ 8080 samples accepted.\n"
          ]
        },
        {
          "output_type": "stream",
          "name": "stdout",
          "text": [
            "[mcmc] Learn + convergence test @ 8080 samples accepted.\n"
          ]
        },
        {
          "output_type": "stream",
          "name": "stderr",
          "text": [
            "INFO:mcmc: - Acceptance rate: 0.271\n"
          ]
        },
        {
          "output_type": "stream",
          "name": "stdout",
          "text": [
            "[mcmc]  - Acceptance rate: 0.271\n"
          ]
        },
        {
          "output_type": "stream",
          "name": "stderr",
          "text": [
            "INFO:mcmc: - Convergence of means: R-1 = 0.003240 after 6464 accepted steps\n"
          ]
        },
        {
          "output_type": "stream",
          "name": "stdout",
          "text": [
            "[mcmc]  - Convergence of means: R-1 = 0.003240 after 6464 accepted steps\n"
          ]
        },
        {
          "output_type": "stream",
          "name": "stderr",
          "text": [
            "INFO:mcmc: - Updated covariance matrix of proposal pdf.\n"
          ]
        },
        {
          "output_type": "stream",
          "name": "stdout",
          "text": [
            "[mcmc]  - Updated covariance matrix of proposal pdf.\n"
          ]
        },
        {
          "output_type": "stream",
          "name": "stderr",
          "text": [
            "<ipython-input-49-68fc82096ce5>:4: RuntimeWarning: invalid value encountered in sqrt\n",
            "  return stats.norm.logpdf(np.sqrt(x**2 - y**2) ,loc=0,scale=2)\n",
            "INFO:mcmc:Learn + convergence test @ 8160 samples accepted.\n"
          ]
        },
        {
          "output_type": "stream",
          "name": "stdout",
          "text": [
            "[mcmc] Learn + convergence test @ 8160 samples accepted.\n"
          ]
        },
        {
          "output_type": "stream",
          "name": "stderr",
          "text": [
            "INFO:mcmc: - Acceptance rate: 0.271\n"
          ]
        },
        {
          "output_type": "stream",
          "name": "stdout",
          "text": [
            "[mcmc]  - Acceptance rate: 0.271\n"
          ]
        },
        {
          "output_type": "stream",
          "name": "stderr",
          "text": [
            "INFO:mcmc: - Convergence of means: R-1 = 0.002425 after 6528 accepted steps\n"
          ]
        },
        {
          "output_type": "stream",
          "name": "stdout",
          "text": [
            "[mcmc]  - Convergence of means: R-1 = 0.002425 after 6528 accepted steps\n"
          ]
        },
        {
          "output_type": "stream",
          "name": "stderr",
          "text": [
            "INFO:mcmc: - Updated covariance matrix of proposal pdf.\n"
          ]
        },
        {
          "output_type": "stream",
          "name": "stdout",
          "text": [
            "[mcmc]  - Updated covariance matrix of proposal pdf.\n"
          ]
        },
        {
          "output_type": "stream",
          "name": "stderr",
          "text": [
            "<ipython-input-49-68fc82096ce5>:4: RuntimeWarning: invalid value encountered in sqrt\n",
            "  return stats.norm.logpdf(np.sqrt(x**2 - y**2) ,loc=0,scale=2)\n",
            "INFO:mcmc:Learn + convergence test @ 8240 samples accepted.\n"
          ]
        },
        {
          "output_type": "stream",
          "name": "stdout",
          "text": [
            "[mcmc] Learn + convergence test @ 8240 samples accepted.\n"
          ]
        },
        {
          "output_type": "stream",
          "name": "stderr",
          "text": [
            "INFO:mcmc: - Acceptance rate: 0.271\n"
          ]
        },
        {
          "output_type": "stream",
          "name": "stdout",
          "text": [
            "[mcmc]  - Acceptance rate: 0.271\n"
          ]
        },
        {
          "output_type": "stream",
          "name": "stderr",
          "text": [
            "INFO:mcmc: - Convergence of means: R-1 = 0.002656 after 6592 accepted steps\n"
          ]
        },
        {
          "output_type": "stream",
          "name": "stdout",
          "text": [
            "[mcmc]  - Convergence of means: R-1 = 0.002656 after 6592 accepted steps\n"
          ]
        },
        {
          "output_type": "stream",
          "name": "stderr",
          "text": [
            "INFO:mcmc: - Updated covariance matrix of proposal pdf.\n"
          ]
        },
        {
          "output_type": "stream",
          "name": "stdout",
          "text": [
            "[mcmc]  - Updated covariance matrix of proposal pdf.\n"
          ]
        },
        {
          "output_type": "stream",
          "name": "stderr",
          "text": [
            "<ipython-input-49-68fc82096ce5>:4: RuntimeWarning: invalid value encountered in sqrt\n",
            "  return stats.norm.logpdf(np.sqrt(x**2 - y**2) ,loc=0,scale=2)\n",
            "INFO:mcmc:Learn + convergence test @ 8320 samples accepted.\n"
          ]
        },
        {
          "output_type": "stream",
          "name": "stdout",
          "text": [
            "[mcmc] Learn + convergence test @ 8320 samples accepted.\n"
          ]
        },
        {
          "output_type": "stream",
          "name": "stderr",
          "text": [
            "INFO:mcmc: - Acceptance rate: 0.272\n"
          ]
        },
        {
          "output_type": "stream",
          "name": "stdout",
          "text": [
            "[mcmc]  - Acceptance rate: 0.272\n"
          ]
        },
        {
          "output_type": "stream",
          "name": "stderr",
          "text": [
            "INFO:mcmc: - Convergence of means: R-1 = 0.002617 after 6656 accepted steps\n"
          ]
        },
        {
          "output_type": "stream",
          "name": "stdout",
          "text": [
            "[mcmc]  - Convergence of means: R-1 = 0.002617 after 6656 accepted steps\n"
          ]
        },
        {
          "output_type": "stream",
          "name": "stderr",
          "text": [
            "INFO:mcmc: - Updated covariance matrix of proposal pdf.\n"
          ]
        },
        {
          "output_type": "stream",
          "name": "stdout",
          "text": [
            "[mcmc]  - Updated covariance matrix of proposal pdf.\n"
          ]
        },
        {
          "output_type": "stream",
          "name": "stderr",
          "text": [
            "<ipython-input-49-68fc82096ce5>:4: RuntimeWarning: invalid value encountered in sqrt\n",
            "  return stats.norm.logpdf(np.sqrt(x**2 - y**2) ,loc=0,scale=2)\n",
            "INFO:mcmc:Learn + convergence test @ 8400 samples accepted.\n"
          ]
        },
        {
          "output_type": "stream",
          "name": "stdout",
          "text": [
            "[mcmc] Learn + convergence test @ 8400 samples accepted.\n"
          ]
        },
        {
          "output_type": "stream",
          "name": "stderr",
          "text": [
            "INFO:mcmc: - Acceptance rate: 0.272\n"
          ]
        },
        {
          "output_type": "stream",
          "name": "stdout",
          "text": [
            "[mcmc]  - Acceptance rate: 0.272\n"
          ]
        },
        {
          "output_type": "stream",
          "name": "stderr",
          "text": [
            "INFO:mcmc: - Convergence of means: R-1 = 0.002291 after 6720 accepted steps\n"
          ]
        },
        {
          "output_type": "stream",
          "name": "stdout",
          "text": [
            "[mcmc]  - Convergence of means: R-1 = 0.002291 after 6720 accepted steps\n"
          ]
        },
        {
          "output_type": "stream",
          "name": "stderr",
          "text": [
            "INFO:mcmc: - Updated covariance matrix of proposal pdf.\n"
          ]
        },
        {
          "output_type": "stream",
          "name": "stdout",
          "text": [
            "[mcmc]  - Updated covariance matrix of proposal pdf.\n"
          ]
        },
        {
          "output_type": "stream",
          "name": "stderr",
          "text": [
            "<ipython-input-49-68fc82096ce5>:4: RuntimeWarning: invalid value encountered in sqrt\n",
            "  return stats.norm.logpdf(np.sqrt(x**2 - y**2) ,loc=0,scale=2)\n",
            "INFO:mcmc:Learn + convergence test @ 8480 samples accepted.\n"
          ]
        },
        {
          "output_type": "stream",
          "name": "stdout",
          "text": [
            "[mcmc] Learn + convergence test @ 8480 samples accepted.\n"
          ]
        },
        {
          "output_type": "stream",
          "name": "stderr",
          "text": [
            "INFO:mcmc: - Acceptance rate: 0.272\n"
          ]
        },
        {
          "output_type": "stream",
          "name": "stdout",
          "text": [
            "[mcmc]  - Acceptance rate: 0.272\n"
          ]
        },
        {
          "output_type": "stream",
          "name": "stderr",
          "text": [
            "INFO:mcmc: - Convergence of means: R-1 = 0.002002 after 6784 accepted steps\n"
          ]
        },
        {
          "output_type": "stream",
          "name": "stdout",
          "text": [
            "[mcmc]  - Convergence of means: R-1 = 0.002002 after 6784 accepted steps\n"
          ]
        },
        {
          "output_type": "stream",
          "name": "stderr",
          "text": [
            "INFO:mcmc: - Updated covariance matrix of proposal pdf.\n"
          ]
        },
        {
          "output_type": "stream",
          "name": "stdout",
          "text": [
            "[mcmc]  - Updated covariance matrix of proposal pdf.\n"
          ]
        },
        {
          "output_type": "stream",
          "name": "stderr",
          "text": [
            "<ipython-input-49-68fc82096ce5>:4: RuntimeWarning: invalid value encountered in sqrt\n",
            "  return stats.norm.logpdf(np.sqrt(x**2 - y**2) ,loc=0,scale=2)\n",
            "INFO:mcmc:Learn + convergence test @ 8560 samples accepted.\n"
          ]
        },
        {
          "output_type": "stream",
          "name": "stdout",
          "text": [
            "[mcmc] Learn + convergence test @ 8560 samples accepted.\n"
          ]
        },
        {
          "output_type": "stream",
          "name": "stderr",
          "text": [
            "INFO:mcmc: - Acceptance rate: 0.272\n"
          ]
        },
        {
          "output_type": "stream",
          "name": "stdout",
          "text": [
            "[mcmc]  - Acceptance rate: 0.272\n"
          ]
        },
        {
          "output_type": "stream",
          "name": "stderr",
          "text": [
            "INFO:mcmc: - Convergence of means: R-1 = 0.002379 after 6848 accepted steps\n"
          ]
        },
        {
          "output_type": "stream",
          "name": "stdout",
          "text": [
            "[mcmc]  - Convergence of means: R-1 = 0.002379 after 6848 accepted steps\n"
          ]
        },
        {
          "output_type": "stream",
          "name": "stderr",
          "text": [
            "INFO:mcmc: - Updated covariance matrix of proposal pdf.\n"
          ]
        },
        {
          "output_type": "stream",
          "name": "stdout",
          "text": [
            "[mcmc]  - Updated covariance matrix of proposal pdf.\n"
          ]
        },
        {
          "output_type": "stream",
          "name": "stderr",
          "text": [
            "<ipython-input-49-68fc82096ce5>:4: RuntimeWarning: invalid value encountered in sqrt\n",
            "  return stats.norm.logpdf(np.sqrt(x**2 - y**2) ,loc=0,scale=2)\n",
            "INFO:mcmc:Learn + convergence test @ 8640 samples accepted.\n"
          ]
        },
        {
          "output_type": "stream",
          "name": "stdout",
          "text": [
            "[mcmc] Learn + convergence test @ 8640 samples accepted.\n"
          ]
        },
        {
          "output_type": "stream",
          "name": "stderr",
          "text": [
            "INFO:mcmc: - Acceptance rate: 0.272\n"
          ]
        },
        {
          "output_type": "stream",
          "name": "stdout",
          "text": [
            "[mcmc]  - Acceptance rate: 0.272\n"
          ]
        },
        {
          "output_type": "stream",
          "name": "stderr",
          "text": [
            "INFO:mcmc: - Convergence of means: R-1 = 0.002589 after 6912 accepted steps\n"
          ]
        },
        {
          "output_type": "stream",
          "name": "stdout",
          "text": [
            "[mcmc]  - Convergence of means: R-1 = 0.002589 after 6912 accepted steps\n"
          ]
        },
        {
          "output_type": "stream",
          "name": "stderr",
          "text": [
            "INFO:mcmc: - Updated covariance matrix of proposal pdf.\n"
          ]
        },
        {
          "output_type": "stream",
          "name": "stdout",
          "text": [
            "[mcmc]  - Updated covariance matrix of proposal pdf.\n"
          ]
        },
        {
          "output_type": "stream",
          "name": "stderr",
          "text": [
            "<ipython-input-49-68fc82096ce5>:4: RuntimeWarning: invalid value encountered in sqrt\n",
            "  return stats.norm.logpdf(np.sqrt(x**2 - y**2) ,loc=0,scale=2)\n",
            "INFO:mcmc:Learn + convergence test @ 8720 samples accepted.\n"
          ]
        },
        {
          "output_type": "stream",
          "name": "stdout",
          "text": [
            "[mcmc] Learn + convergence test @ 8720 samples accepted.\n"
          ]
        },
        {
          "output_type": "stream",
          "name": "stderr",
          "text": [
            "INFO:mcmc: - Acceptance rate: 0.272\n"
          ]
        },
        {
          "output_type": "stream",
          "name": "stdout",
          "text": [
            "[mcmc]  - Acceptance rate: 0.272\n"
          ]
        },
        {
          "output_type": "stream",
          "name": "stderr",
          "text": [
            "INFO:mcmc: - Convergence of means: R-1 = 0.002049 after 6976 accepted steps\n"
          ]
        },
        {
          "output_type": "stream",
          "name": "stdout",
          "text": [
            "[mcmc]  - Convergence of means: R-1 = 0.002049 after 6976 accepted steps\n"
          ]
        },
        {
          "output_type": "stream",
          "name": "stderr",
          "text": [
            "INFO:mcmc: - Updated covariance matrix of proposal pdf.\n"
          ]
        },
        {
          "output_type": "stream",
          "name": "stdout",
          "text": [
            "[mcmc]  - Updated covariance matrix of proposal pdf.\n"
          ]
        },
        {
          "output_type": "stream",
          "name": "stderr",
          "text": [
            "<ipython-input-49-68fc82096ce5>:4: RuntimeWarning: invalid value encountered in sqrt\n",
            "  return stats.norm.logpdf(np.sqrt(x**2 - y**2) ,loc=0,scale=2)\n",
            "INFO:mcmc:Learn + convergence test @ 8800 samples accepted.\n"
          ]
        },
        {
          "output_type": "stream",
          "name": "stdout",
          "text": [
            "[mcmc] Learn + convergence test @ 8800 samples accepted.\n"
          ]
        },
        {
          "output_type": "stream",
          "name": "stderr",
          "text": [
            "INFO:mcmc: - Acceptance rate: 0.272\n"
          ]
        },
        {
          "output_type": "stream",
          "name": "stdout",
          "text": [
            "[mcmc]  - Acceptance rate: 0.272\n"
          ]
        },
        {
          "output_type": "stream",
          "name": "stderr",
          "text": [
            "INFO:mcmc: - Convergence of means: R-1 = 0.001194 after 7040 accepted steps\n"
          ]
        },
        {
          "output_type": "stream",
          "name": "stdout",
          "text": [
            "[mcmc]  - Convergence of means: R-1 = 0.001194 after 7040 accepted steps\n"
          ]
        },
        {
          "output_type": "stream",
          "name": "stderr",
          "text": [
            "INFO:mcmc: - Updated covariance matrix of proposal pdf.\n"
          ]
        },
        {
          "output_type": "stream",
          "name": "stdout",
          "text": [
            "[mcmc]  - Updated covariance matrix of proposal pdf.\n"
          ]
        },
        {
          "output_type": "stream",
          "name": "stderr",
          "text": [
            "<ipython-input-49-68fc82096ce5>:4: RuntimeWarning: invalid value encountered in sqrt\n",
            "  return stats.norm.logpdf(np.sqrt(x**2 - y**2) ,loc=0,scale=2)\n",
            "INFO:mcmc:Learn + convergence test @ 8880 samples accepted.\n"
          ]
        },
        {
          "output_type": "stream",
          "name": "stdout",
          "text": [
            "[mcmc] Learn + convergence test @ 8880 samples accepted.\n"
          ]
        },
        {
          "output_type": "stream",
          "name": "stderr",
          "text": [
            "INFO:mcmc: - Acceptance rate: 0.273\n"
          ]
        },
        {
          "output_type": "stream",
          "name": "stdout",
          "text": [
            "[mcmc]  - Acceptance rate: 0.273\n"
          ]
        },
        {
          "output_type": "stream",
          "name": "stderr",
          "text": [
            "INFO:mcmc: - Convergence of means: R-1 = 0.000831 after 7104 accepted steps\n"
          ]
        },
        {
          "output_type": "stream",
          "name": "stdout",
          "text": [
            "[mcmc]  - Convergence of means: R-1 = 0.000831 after 7104 accepted steps\n"
          ]
        },
        {
          "output_type": "stream",
          "name": "stderr",
          "text": [
            "INFO:mcmc: - Updated covariance matrix of proposal pdf.\n"
          ]
        },
        {
          "output_type": "stream",
          "name": "stdout",
          "text": [
            "[mcmc]  - Updated covariance matrix of proposal pdf.\n"
          ]
        },
        {
          "output_type": "stream",
          "name": "stderr",
          "text": [
            "<ipython-input-49-68fc82096ce5>:4: RuntimeWarning: invalid value encountered in sqrt\n",
            "  return stats.norm.logpdf(np.sqrt(x**2 - y**2) ,loc=0,scale=2)\n",
            "INFO:mcmc:Learn + convergence test @ 8960 samples accepted.\n"
          ]
        },
        {
          "output_type": "stream",
          "name": "stdout",
          "text": [
            "[mcmc] Learn + convergence test @ 8960 samples accepted.\n"
          ]
        },
        {
          "output_type": "stream",
          "name": "stderr",
          "text": [
            "INFO:mcmc: - Acceptance rate: 0.272\n"
          ]
        },
        {
          "output_type": "stream",
          "name": "stdout",
          "text": [
            "[mcmc]  - Acceptance rate: 0.272\n"
          ]
        },
        {
          "output_type": "stream",
          "name": "stderr",
          "text": [
            "INFO:mcmc: - Convergence of means: R-1 = 0.000814 after 7168 accepted steps\n"
          ]
        },
        {
          "output_type": "stream",
          "name": "stdout",
          "text": [
            "[mcmc]  - Convergence of means: R-1 = 0.000814 after 7168 accepted steps\n"
          ]
        },
        {
          "output_type": "stream",
          "name": "stderr",
          "text": [
            "INFO:mcmc: - Convergence of bounds: R-1 = 0.041564 after 8960 accepted steps\n"
          ]
        },
        {
          "output_type": "stream",
          "name": "stdout",
          "text": [
            "[mcmc]  - Convergence of bounds: R-1 = 0.041564 after 8960 accepted steps\n"
          ]
        },
        {
          "output_type": "stream",
          "name": "stderr",
          "text": [
            "INFO:mcmc:The run has converged!\n"
          ]
        },
        {
          "output_type": "stream",
          "name": "stdout",
          "text": [
            "[mcmc] The run has converged!\n"
          ]
        },
        {
          "output_type": "stream",
          "name": "stderr",
          "text": [
            "INFO:mcmc:Sampling complete after 8960 accepted steps.\n"
          ]
        },
        {
          "output_type": "stream",
          "name": "stdout",
          "text": [
            "[mcmc] Sampling complete after 8960 accepted steps.\n"
          ]
        }
      ]
    },
    {
      "cell_type": "markdown",
      "source": [
        "Plotting the posterioris"
      ],
      "metadata": {
        "id": "U9dxGEOghxIi"
      }
    },
    {
      "cell_type": "code",
      "source": [
        "\n",
        "import getdist.plots as gdplt\n",
        "\n",
        "gdsamples = sampler.products(to_getdist=True, skip_samples=0.3)[\"sample\"]\n",
        "gdplot = gdplt.get_subplot_plotter(width_inch=8)\n",
        "gdplot.triangle_plot(gdsamples, [\"x\", \"y\", \"theta\"], filled=True)"
      ],
      "metadata": {
        "colab": {
          "base_uri": "https://localhost:8080/",
          "height": 805
        },
        "id": "sWfkWTKmh2Cn",
        "outputId": "3b7d8a7e-c968-451d-fc14-1a6ef8dcd5de"
      },
      "execution_count": 62,
      "outputs": [
        {
          "output_type": "display_data",
          "data": {
            "text/plain": [
              "<Figure size 800x800 with 6 Axes>"
            ],
            "image/png": "[encoded data removed]"
          },
          "metadata": {
            "image/png": {
              "width": 787,
              "height": 788
            }
          }
        }
      ]
    },
    {
      "cell_type": "code",
      "source": [],
      "metadata": {
        "id": "D9WaNKmKiYA0"
      },
      "execution_count": null,
      "outputs": []
    }
  ]
}